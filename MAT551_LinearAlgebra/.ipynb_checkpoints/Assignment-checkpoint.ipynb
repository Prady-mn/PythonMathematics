{
 "cells": [
  {
   "cell_type": "markdown",
   "id": "1d59de4b",
   "metadata": {},
   "source": [
    "## Assignment\n",
    "### Pradyumn Agarwal\n",
    "### 2140327 - 5PME\n",
    "**Date: 26-09-23**"
   ]
  },
  {
   "cell_type": "code",
   "execution_count": 23,
   "id": "83d5f322",
   "metadata": {},
   "outputs": [],
   "source": [
    "import numpy as np\n",
    "import sympy as sym"
   ]
  },
  {
   "cell_type": "markdown",
   "id": "fcc95fa5",
   "metadata": {},
   "source": [
    "> The theatre department of Christ University sold three kinds of tickets to its latest production of Macbeth. The faculty tickets sold for INR 75, the postgraduate student tickets for INR 50 and the undergraduate tickets for INR 40. The theatre department sold 250 tickets in total and brought in INR 14,125 in one night. The number of postgraduate student tickets sold was twice the number of faculty tickets sold. WAP to - <br>\n",
    "> (a) Model the above situation using a system of equations. <br>\n",
    "> (b) Write down the relevant Python codes for solving the above system of equations using the following methods:<br>\n",
    "    1. Matrix Inverse method<br>\n",
    "    2. Cramer’s rule"
   ]
  },
  {
   "cell_type": "code",
   "execution_count": 61,
   "id": "8336ed11",
   "metadata": {},
   "outputs": [
    {
     "name": "stdout",
     "output_type": "stream",
     "text": [
      "F - Faculty     P - Postgraduate    U - Undergraduate\n",
      "The equations are- \n",
      "F + P + U = 250\n",
      "75⋅F + 50⋅P + 40⋅U = 14125\n",
      "-2⋅F + P = 0\n",
      "Solution - \n",
      "{F: 75, P: 150, U: 25}\n"
     ]
    }
   ],
   "source": [
    "F,P,U = sym.symbols(\"F,P,U\");\n",
    "eq1 = sym.Eq(F + P + U,250);\n",
    "eq2 = sym.Eq(75*F + 50*P + 40*U,14125);\n",
    "eq3 = sym.Eq(-2*F + P,0)\n",
    "print(\"F - Faculty     P - Postgraduate    U - Undergraduate\");\n",
    "print(\"The equations are- \")\n",
    "sym.pprint(eq1)\n",
    "sym.pprint(eq2)\n",
    "sym.pprint(eq3)\n",
    "\n",
    "print(\"Solution - \");\n",
    "print(sym.solve([eq1,eq2,eq3]))"
   ]
  },
  {
   "cell_type": "code",
   "execution_count": 57,
   "id": "428cadcb",
   "metadata": {},
   "outputs": [
    {
     "name": "stdout",
     "output_type": "stream",
     "text": [
      "In Matrix form - \n",
      "Variables - \n",
      "[[F]\n",
      " [P]\n",
      " [U]]\n",
      "A = \n",
      "[[ 1  1  1]\n",
      " [75 50 40]\n",
      " [-2  1  0]]\n",
      "B = \n",
      "[[  250]\n",
      " [14125]\n",
      " [    0]]\n",
      "{F: 74.99999999999994, P: 150.0000000000001, U: 25.0}\n"
     ]
    }
   ],
   "source": [
    "print(\"In Matrix form - \")\n",
    "X = np.matrix([[F],[P],[U]]);\n",
    "print(\"Variables - \");\n",
    "print(X);\n",
    "A = np.matrix([[1,1,1],[75,50,40],[-2,1,0]]);\n",
    "B = np.matrix([[250],[14125],[0]]);\n",
    "print(\"A = \");\n",
    "print(A)\n",
    "print(\"B = \");\n",
    "print(B)\n",
    "\n",
    "\n",
    "no_of_tickets = dict(zip(X.A1,((A.I)*B).A1))\n",
    "print(no_of_tickets)"
   ]
  },
  {
   "cell_type": "code",
   "execution_count": 8,
   "id": "3778b168",
   "metadata": {},
   "outputs": [
    {
     "data": {
      "text/plain": [
       "matrix([[1, 1, 2],\n",
       "        [1, 2, 1],\n",
       "        [2, 7, 8]])"
      ]
     },
     "execution_count": 8,
     "metadata": {},
     "output_type": "execute_result"
    }
   ],
   "source": [
    "A = np.matrix([[1,1,2],[1,2,1],[2,7,8]])\n",
    "A"
   ]
  },
  {
   "cell_type": "code",
   "execution_count": 13,
   "id": "96f8aa07",
   "metadata": {},
   "outputs": [
    {
     "data": {
      "text/plain": [
       "matrix([[ 1,  1,  2],\n",
       "        [-1,  0, -3],\n",
       "        [ 0,  5,  0]])"
      ]
     },
     "execution_count": 13,
     "metadata": {},
     "output_type": "execute_result"
    }
   ],
   "source": [
    "B = np.matrix([[1,1,2],[-1,0,-3],[0,5,0]])\n",
    "B"
   ]
  },
  {
   "cell_type": "markdown",
   "id": "4c821513",
   "metadata": {},
   "source": [
    "> Equivalent Matrix"
   ]
  },
  {
   "cell_type": "code",
   "execution_count": 10,
   "id": "6e9c3577",
   "metadata": {},
   "outputs": [],
   "source": [
    "def rowEchelon(A):\n",
    "    mat = A.copy()\n",
    "    for i in range(min(mat.shape)):\n",
    "        row = mat[i,:].A1\n",
    "        if(row[i] == 0):\n",
    "            continue;\n",
    "        row = row/row[i];\n",
    "        mat[i,:] = row\n",
    "        for j in range(i+1,mat.shape[0]):\n",
    "            mat[j,:] = mat[j,:] - (mat[j,i]*row)\n",
    "    return mat"
   ]
  },
  {
   "cell_type": "code",
   "execution_count": 14,
   "id": "439f7f70",
   "metadata": {},
   "outputs": [
    {
     "name": "stdout",
     "output_type": "stream",
     "text": [
      "Equivalent Matrix of A: \n"
     ]
    },
    {
     "data": {
      "text/plain": [
       "matrix([[ 1,  1,  2],\n",
       "        [ 0,  1, -1],\n",
       "        [ 0,  0,  1]])"
      ]
     },
     "execution_count": 14,
     "metadata": {},
     "output_type": "execute_result"
    }
   ],
   "source": [
    "print(\"Equivalent Matrix of A: \");\n",
    "rowEchelon(A)"
   ]
  },
  {
   "cell_type": "code",
   "execution_count": 15,
   "id": "34047966",
   "metadata": {},
   "outputs": [
    {
     "name": "stdout",
     "output_type": "stream",
     "text": [
      "Equivalent Matrix of B: \n"
     ]
    },
    {
     "data": {
      "text/plain": [
       "matrix([[ 1,  1,  2],\n",
       "        [ 0,  1, -1],\n",
       "        [ 0,  0,  1]])"
      ]
     },
     "execution_count": 15,
     "metadata": {},
     "output_type": "execute_result"
    }
   ],
   "source": [
    "print(\"Equivalent Matrix of B: \");\n",
    "rowEchelon(B)"
   ]
  },
  {
   "cell_type": "markdown",
   "id": "4fd2a0ac",
   "metadata": {},
   "source": [
    "> Determinant and Adjoint"
   ]
  },
  {
   "cell_type": "code",
   "execution_count": 24,
   "id": "c9a8d139",
   "metadata": {},
   "outputs": [
    {
     "name": "stdout",
     "output_type": "stream",
     "text": [
      "Determinant of A =  9\n",
      "Adjoint of A:\n"
     ]
    },
    {
     "data": {
      "text/plain": [
       "matrix([[ 9.,  6., -3.],\n",
       "        [-6.,  4.,  1.],\n",
       "        [ 3., -5.,  1.]])"
      ]
     },
     "execution_count": 24,
     "metadata": {},
     "output_type": "execute_result"
    }
   ],
   "source": [
    "print(\"Determinant of A = \",int(np.linalg.det(A)));\n",
    "print(\"Adjoint of A:\");\n",
    "A.I*np.linalg.det(A)"
   ]
  },
  {
   "cell_type": "code",
   "execution_count": 25,
   "id": "4070fd22",
   "metadata": {},
   "outputs": [
    {
     "name": "stdout",
     "output_type": "stream",
     "text": [
      "Determinant of B =  4\n",
      "Adjoint of B:\n"
     ]
    },
    {
     "data": {
      "text/plain": [
       "matrix([[15., 10., -3.],\n",
       "        [ 0.,  0.,  1.],\n",
       "        [-5., -5.,  1.]])"
      ]
     },
     "execution_count": 25,
     "metadata": {},
     "output_type": "execute_result"
    }
   ],
   "source": [
    "print(\"Determinant of B = \",int(np.linalg.det(B)));\n",
    "print(\"Adjoint of B:\");\n",
    "B.I*np.linalg.det(B)"
   ]
  }
 ],
 "metadata": {
  "kernelspec": {
   "display_name": "Python 3 (ipykernel)",
   "language": "python",
   "name": "python3"
  },
  "language_info": {
   "codemirror_mode": {
    "name": "ipython",
    "version": 3
   },
   "file_extension": ".py",
   "mimetype": "text/x-python",
   "name": "python",
   "nbconvert_exporter": "python",
   "pygments_lexer": "ipython3",
   "version": "3.9.12"
  }
 },
 "nbformat": 4,
 "nbformat_minor": 5
}
