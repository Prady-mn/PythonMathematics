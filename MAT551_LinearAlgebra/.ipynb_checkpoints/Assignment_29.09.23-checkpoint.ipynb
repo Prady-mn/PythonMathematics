{
 "cells": [
  {
   "cell_type": "markdown",
   "id": "969799e0",
   "metadata": {},
   "source": [
    "## Assignment\n",
    "### Pradyumn Agarwal\n",
    "### 2140327 - 5PME\n",
    "**Date: 29-09-23**"
   ]
  },
  {
   "cell_type": "code",
   "execution_count": 2,
   "id": "a21c29c7",
   "metadata": {},
   "outputs": [],
   "source": [
    "import numpy as np\n",
    "import sympy as sym"
   ]
  },
  {
   "cell_type": "markdown",
   "id": "c7322b22",
   "metadata": {},
   "source": [
    "> WAP to find the following for the given matrix.<br>\n",
    "  $\\quad A = \\begin{bmatrix}\n",
    "                6 & 1  & 1\\\\\n",
    "                4 & −2 & 5\\\\\n",
    "                2 & 8  & 7\n",
    "           \\end{bmatrix}\n",
    "  $\n",
    "> 1. Inverse of the matrix A using Gauss - Elimination method.\n",
    "> 2. Inverse of the matrix A using numpy.\n",
    "> 3. Determinant of A and hence the adjoint of the matrix ."
   ]
  },
  {
   "cell_type": "markdown",
   "id": "54b0c26c",
   "metadata": {},
   "source": [
    "**Inverse Using Gauss - Elimination method**"
   ]
  },
  {
   "cell_type": "code",
   "execution_count": 3,
   "id": "f6fb873a",
   "metadata": {},
   "outputs": [],
   "source": [
    "A = np.matrix([[6, 1, 1],[4, -2, 5],[2, 8, 7]],float)"
   ]
  },
  {
   "cell_type": "code",
   "execution_count": 4,
   "id": "a7f93864",
   "metadata": {},
   "outputs": [
    {
     "name": "stdout",
     "output_type": "stream",
     "text": [
      "[[ 1.          0.          0.          0.17647059 -0.00326797 -0.02287582]\n",
      " [ 0.          1.          0.          0.05882353 -0.13071895  0.08496732]\n",
      " [ 0.          0.          1.         -0.11764706  0.1503268   0.05228758]]\n"
     ]
    },
    {
     "data": {
      "text/plain": [
       "matrix([[ 0.17647059, -0.00326797, -0.02287582],\n",
       "        [ 0.05882353, -0.13071895,  0.08496732],\n",
       "        [-0.11764706,  0.1503268 ,  0.05228758]])"
      ]
     },
     "execution_count": 4,
     "metadata": {},
     "output_type": "execute_result"
    }
   ],
   "source": [
    "def redRowEchelon(mat):\n",
    "    for i in range(min(mat.shape)):\n",
    "        row = mat[i,:].A1\n",
    "        if(row[i] == 0):\n",
    "            continue;\n",
    "        row = row/row[i];\n",
    "        mat[i,:] = row\n",
    "        for j in range(mat.shape[0]):\n",
    "            if(j==i):\n",
    "                continue;\n",
    "            mat[j,:] = mat[j,:] - (mat[j,i]*row)\n",
    "        #print(mat)\n",
    "    return mat\n",
    "\n",
    "def geInverse(A):\n",
    "    mat = np.insert(arr=A,obj=A.shape[1],values=np.identity(A.shape[1]),axis=1)\n",
    "    mat = redRowEchelon(mat)\n",
    "    print(mat)\n",
    "    return mat[:,A.shape[1]:];\n",
    "geInverse(A)"
   ]
  },
  {
   "cell_type": "markdown",
   "id": "d506e15e",
   "metadata": {},
   "source": [
    "**Inverse using numpy**"
   ]
  },
  {
   "cell_type": "code",
   "execution_count": 5,
   "id": "2964782c",
   "metadata": {},
   "outputs": [
    {
     "data": {
      "text/plain": [
       "matrix([[ 0.17647059, -0.00326797, -0.02287582],\n",
       "        [ 0.05882353, -0.13071895,  0.08496732],\n",
       "        [-0.11764706,  0.1503268 ,  0.05228758]])"
      ]
     },
     "execution_count": 5,
     "metadata": {},
     "output_type": "execute_result"
    }
   ],
   "source": [
    "A.I"
   ]
  },
  {
   "cell_type": "code",
   "execution_count": 6,
   "id": "0e11540d",
   "metadata": {},
   "outputs": [
    {
     "name": "stdout",
     "output_type": "stream",
     "text": [
      "Determinant =  -306.0\n",
      "Adjoint - \n"
     ]
    },
    {
     "data": {
      "text/plain": [
       "matrix([[-54.,   1.,   7.],\n",
       "        [-18.,  40., -26.],\n",
       "        [ 36., -46., -16.]])"
      ]
     },
     "execution_count": 6,
     "metadata": {},
     "output_type": "execute_result"
    }
   ],
   "source": [
    "determinant_A = np.linalg.det(A)\n",
    "print(\"Determinant = \",determinant_A)\n",
    "print(\"Adjoint - \");\n",
    "determinant_A*A.I"
   ]
  },
  {
   "cell_type": "markdown",
   "id": "25976b63",
   "metadata": {},
   "source": [
    "> Given the system of linear equations.<br>\n",
    "    $\\quad \\quad\n",
    "    \\begin{align}\n",
    "\t\t3x - 5y + 4z &= 5\\\\\n",
    "\t\t5x + 2y + z  &= 0\\\\\n",
    "\t\t2x + 3y - 2z &= 3\n",
    "    \\end{align}\n",
    "    $<br>\n",
    "> WAP to find the following.\n",
    "    > 1. The eigenvalues and corresponding eigen vectors of the coefficient matrix.\n",
    "    > 2. Solve the system of equations using Cramer’s rule and print the solution.\n",
    "    > 3. Find the transpose of the coefficient matrix and hence the trace."
   ]
  },
  {
   "cell_type": "code",
   "execution_count": 7,
   "id": "2bd7a971",
   "metadata": {},
   "outputs": [
    {
     "name": "stdout",
     "output_type": "stream",
     "text": [
      "Coefficient Matrix\n",
      "[[ 3 -5  4]\n",
      " [ 5  2  1]\n",
      " [ 2  3 -2]]\n",
      "Constant Matrix\n",
      "[[5]\n",
      " [0]\n",
      " [3]]\n"
     ]
    }
   ],
   "source": [
    "A = np.matrix([[3,-5,4],\n",
    "               [5,2,1],\n",
    "               [2,3,-2]])\n",
    "B = np.matrix([[5],[0],[3]])\n",
    "print(\"Coefficient Matrix\")\n",
    "print(A)\n",
    "print(\"Constant Matrix\")\n",
    "print(B)"
   ]
  },
  {
   "cell_type": "markdown",
   "id": "ffaf8acf",
   "metadata": {},
   "source": [
    "**Eigenvalues and Eigenvectors**"
   ]
  },
  {
   "cell_type": "code",
   "execution_count": 8,
   "id": "06e2874f",
   "metadata": {},
   "outputs": [
    {
     "name": "stdout",
     "output_type": "stream",
     "text": [
      "Eigenvalues =  [ 2.45481218+3.65368793j  2.45481218-3.65368793j -1.90962436+0.j        ]\n",
      "Eigenvectors:\n",
      "[[ 0.01569385-0.54750431j  0.01569385+0.54750431j -0.40422239+0.j        ]\n",
      " [-0.72490133+0.j         -0.72490133-0.j          0.29555775+0.j        ]\n",
      " [-0.40816322+0.08895828j -0.40816322-0.08895828j  0.86559221+0.j        ]]\n"
     ]
    }
   ],
   "source": [
    "\n",
    "eigen = np.linalg.eig(A)\n",
    "print(\"Eigenvalues = \",eigen[0])\n",
    "print(\"Eigenvectors:\")\n",
    "print(eigen[1])"
   ]
  },
  {
   "cell_type": "markdown",
   "id": "d774bec6",
   "metadata": {},
   "source": [
    "**Solving using Cramers rule**"
   ]
  },
  {
   "cell_type": "code",
   "execution_count": 9,
   "id": "78671c17",
   "metadata": {},
   "outputs": [
    {
     "name": "stdout",
     "output_type": "stream",
     "text": [
      "[1.9999999999999996, -3.0, -3.999999999999999]\n"
     ]
    }
   ],
   "source": [
    "D = [];\n",
    "for i in range(0,A.shape[0]):\n",
    "    C = A.T.copy();\n",
    "    C[i] = B.T;\n",
    "    C = C.T;\n",
    "    D.append(np.linalg.det(C))\n",
    "D.append(np.linalg.det(A))\n",
    "X = [D[i]/D[-1] for i in range(0,A.shape[0])]\n",
    "print(X)"
   ]
  },
  {
   "cell_type": "markdown",
   "id": "67ebcb00",
   "metadata": {},
   "source": [
    "**Transpose and Trace**"
   ]
  },
  {
   "cell_type": "code",
   "execution_count": 10,
   "id": "cb6cf674",
   "metadata": {},
   "outputs": [
    {
     "name": "stdout",
     "output_type": "stream",
     "text": [
      "Transpose of Matrix: \n",
      "[[ 3  5  2]\n",
      " [-5  2  3]\n",
      " [ 4  1 -2]]\n",
      "Trace of Matrix: \n",
      "3\n"
     ]
    }
   ],
   "source": [
    "print(\"Transpose of Matrix: \")\n",
    "print(A.T)\n",
    "\n",
    "print(\"Trace of Matrix: \")\n",
    "print(np.trace(A))"
   ]
  },
  {
   "cell_type": "markdown",
   "id": "52ab5d7d",
   "metadata": {},
   "source": [
    "> WAP to find the rank of $P+Q$ <br>\n",
    "$\n",
    "\\quad \\quad\n",
    "P = \\begin{bmatrix}\n",
    "          1 &1 &−1\\\\\n",
    "          2 &−3& 4\\\\\n",
    "          3 &−2& 3\n",
    "     \\end{bmatrix}\n",
    "\\quad\n",
    "Q = \\begin{bmatrix}\n",
    "         −1 &−2 &−1\\\\\n",
    "          6 &12 &6\\\\\n",
    "          5 &10 &5\n",
    "     \\end{bmatrix}\n",
    "$\n"
   ]
  },
  {
   "cell_type": "code",
   "execution_count": 11,
   "id": "4d006f72",
   "metadata": {},
   "outputs": [
    {
     "name": "stdout",
     "output_type": "stream",
     "text": [
      "Rank =  1\n"
     ]
    }
   ],
   "source": [
    "def rowEchelon(A):\n",
    "    mat = A.copy()\n",
    "    for i in range(min(mat.shape)):\n",
    "        row = mat[i,:].A1\n",
    "        if(row[i] == 0):\n",
    "            continue;\n",
    "        row = row/row[i];\n",
    "        mat[i,:] = row\n",
    "        for j in range(i+1,mat.shape[0]):\n",
    "            mat[j,:] = mat[j,:] - (mat[j,i]*row)\n",
    "        #print(mat)\n",
    "    return mat\n",
    "\n",
    "def getRank(mat):\n",
    "    flag = ~rowEchelon(mat).astype(bool).A\n",
    "    rem = []\n",
    "    #flag = np.delete(flag,next((i for i in range(len(flag)) if(flag[i].all())),[]),0)\n",
    "    for i in range(len(flag)):\n",
    "        if i in rem:\n",
    "            continue;\n",
    "        for j in range(i+1,len(flag)):\n",
    "            if j in rem:\n",
    "                continue;\n",
    "            if((flag[i]==flag[j]).all() or flag[j].all()):\n",
    "                rem.append(j)\n",
    "    flag = np.delete(flag,rem,0)\n",
    "    return len(flag)\n",
    "P = np.matrix([\n",
    "    [1, 1, -1],\n",
    "    [2, -3, 4],\n",
    "    [3, -2, 3]])\n",
    "Q = np.matrix([\n",
    "    [-1, -2, -1],\n",
    "    [6, 12, 6],\n",
    "    [5, 10, 5]])\n",
    "print(\"Rank = \",getRank(P+Q))"
   ]
  },
  {
   "cell_type": "markdown",
   "id": "95f7881c",
   "metadata": {},
   "source": [
    "> WAP to find the nullity of the matrix B.<br>\n",
    "$\n",
    "\\quad \\quad\n",
    "B = \\begin{bmatrix}\n",
    "        0 & 1 & 0 & 0 & 0 \\\\\n",
    "        1 & 0 & 0 & 0 & 0 \\\\\n",
    "        0 & 0 & 0 & 0 & 0\n",
    "     \\end{bmatrix}\n",
    "$\n"
   ]
  },
  {
   "cell_type": "code",
   "execution_count": 18,
   "id": "06f0edff",
   "metadata": {},
   "outputs": [
    {
     "name": "stdout",
     "output_type": "stream",
     "text": [
      "Nullity = 1\n"
     ]
    }
   ],
   "source": [
    "B = np.matrix([\n",
    "    [0, 1, 0, 0, 0],\n",
    "    [1, 0, 0, 0, 0],\n",
    "    [0, 0, 0, 0, 0]])\n",
    "print(\"Nullity =\",B.shape[0] - getRank(B))"
   ]
  },
  {
   "cell_type": "markdown",
   "id": "81f155b5",
   "metadata": {},
   "source": [
    "> WAP to prove rank - nullity theorem of the matrix C.<br>\n",
    "$\n",
    "\\quad \\quad\n",
    "C = \\begin{bmatrix}\n",
    "        1 &2 &13\\\\\n",
    "        4 &−5& 6\\\\\n",
    "        −7& 18& 9\n",
    "     \\end{bmatrix}\n",
    "$\n"
   ]
  },
  {
   "cell_type": "code",
   "execution_count": 52,
   "id": "21589ef7",
   "metadata": {},
   "outputs": [
    {
     "name": "stdout",
     "output_type": "stream",
     "text": [
      "Rank =  3\n",
      "Dimension = 3\n",
      "Nullity =  0\n",
      "True\n"
     ]
    }
   ],
   "source": [
    "C = np.matrix([\n",
    "    [1,2 ,13],\n",
    "    [4 ,-5, 6],\n",
    "    [-7 ,18,9]])\n",
    "rank = getRank(C)\n",
    "dim = C.shape[0]\n",
    "nullSpace = np.linalg.solve(C,np.zeros((C.shape[1],1)))\n",
    "print(\"Rank = \",rank)\n",
    "print(\"Dimension =\",dim)\n",
    "\n",
    "print(\"Nullity = \",nullSpace.shape[1] - 1)\n",
    "print((rank + nullSpace.shape[1] - 1 == dim))"
   ]
  }
 ],
 "metadata": {
  "kernelspec": {
   "display_name": "Python 3 (ipykernel)",
   "language": "python",
   "name": "python3"
  },
  "language_info": {
   "codemirror_mode": {
    "name": "ipython",
    "version": 3
   },
   "file_extension": ".py",
   "mimetype": "text/x-python",
   "name": "python",
   "nbconvert_exporter": "python",
   "pygments_lexer": "ipython3",
   "version": "3.9.12"
  }
 },
 "nbformat": 4,
 "nbformat_minor": 5
}
