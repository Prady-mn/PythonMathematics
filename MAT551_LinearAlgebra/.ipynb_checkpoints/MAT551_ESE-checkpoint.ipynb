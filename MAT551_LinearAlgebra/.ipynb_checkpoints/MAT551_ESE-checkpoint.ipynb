{
 "cells": [
  {
   "cell_type": "markdown",
   "id": "e53ef54c",
   "metadata": {},
   "source": [
    "## END SEM EXAMINATION\n",
    "### Pradyumn Agarwal\n",
    "### 2140327 - 5PME\n",
    "**Date: 03-11-23**"
   ]
  },
  {
   "cell_type": "code",
   "execution_count": 1,
   "id": "8218f8e3",
   "metadata": {},
   "outputs": [],
   "source": [
    "import numpy as np;\n",
    "import sympy as sp;"
   ]
  },
  {
   "cell_type": "markdown",
   "id": "deeb82e0",
   "metadata": {},
   "source": [
    "> WAP to check LT"
   ]
  },
  {
   "cell_type": "code",
   "execution_count": 41,
   "id": "ebbe0fe8",
   "metadata": {},
   "outputs": [
    {
     "name": "stdout",
     "output_type": "stream",
     "text": [
      "T:  [21*z, 27*x + z, 19*x - y]\n",
      "True\n"
     ]
    }
   ],
   "source": [
    "#alpha = (x1,y1,z1), beta = (x2,y2,z2)\n",
    "x,y,z,a,x1,x2,y1,y2,z1,z2 = sp.symbols(\"x,y,z,a,x1,x2,y1,y2,z1,z2\")\n",
    "\n",
    "T = [21*z,27*x + z,19*x - y]\n",
    "\n",
    "c1 = {x:a*x, y:a*y, z:a*z}\n",
    "cond1 = ([i.subs(c1).simplify() for i in T] == [a*i for i in T])\n",
    "AB = {x:x1+x2,y:y1+y2,z:z1+z2}\n",
    "A = {x:x1,y:y1,z:z1}\n",
    "B = {x:x2,y:y2,z:z2}\n",
    "cond2 = ([(i.subs(A) + i.subs(B)).simplify() for i in T] == [i.subs(AB) for i in T])\n",
    "print(\"T: \",T)\n",
    "if(cond1 and cond2):\n",
    "    print(True)\n",
    "else:\n",
    "    print(False)"
   ]
  },
  {
   "cell_type": "code",
   "execution_count": 77,
   "id": "c1d7290f",
   "metadata": {},
   "outputs": [
    {
     "name": "stdout",
     "output_type": "stream",
     "text": [
      "Nullity is- \n",
      "1\n",
      "{(0, 0, 0)}\n"
     ]
    }
   ],
   "source": [
    "print(\"Nullity is- \")\n",
    "N = sp.solve([sp.Eq(i,0) for i in T],x,y,z,set = True)\n",
    "print(len(N[-1]))\n",
    "print(N[-1])"
   ]
  },
  {
   "cell_type": "code",
   "execution_count": 47,
   "id": "980fed82",
   "metadata": {},
   "outputs": [],
   "source": [
    "#3D PLOT"
   ]
  },
  {
   "cell_type": "markdown",
   "id": "b8cb2edc",
   "metadata": {},
   "source": [
    "> To check LC"
   ]
  },
  {
   "cell_type": "code",
   "execution_count": 64,
   "id": "5a9bc959",
   "metadata": {},
   "outputs": [],
   "source": [
    "def checkLinearComb(M,b):\n",
    "    M = M.T;\n",
    "    b = b.T;\n",
    "    C = np.linalg.solve(M,b);\n",
    "    B = sum([C[i,0]*a[i] for i in range(len(a))])\n",
    "    return [b.all() == B.all(),C,printAsCombination(S1,b,C)]\n",
    "def printVector(x):\n",
    "    return \"<\"+\",\".join([str(i) for i in x])+\">\"\n",
    "def printAsCombination(a,b,c):\n",
    "    return printVector(b.A1) + \" = \" + \" + \".join([str(int(c.A1[i]))+\"·\"+printVector(a.A[i]) for i in range(len(a.A))]);"
   ]
  },
  {
   "cell_type": "code",
   "execution_count": 65,
   "id": "153c59bf",
   "metadata": {},
   "outputs": [
    {
     "data": {
      "text/plain": [
       "[True,\n",
       " matrix([[-0.85714286],\n",
       "         [ 5.57142857],\n",
       "         [-0.14285714]]),\n",
       " '<2,4,1> = 0·<3,2,5> + 5·<1,1,1> + 0·<7,-1,2>']"
      ]
     },
     "execution_count": 65,
     "metadata": {},
     "output_type": "execute_result"
    }
   ],
   "source": [
    "a = np.matrix([2,4,1])\n",
    "S1 = np.matrix([[3,2,5],[1,1,1],[7,-1,2]])\n",
    "checkLinearComb(S1,a)"
   ]
  },
  {
   "cell_type": "code",
   "execution_count": 63,
   "id": "61f1c8ae",
   "metadata": {},
   "outputs": [],
   "source": [
    "S2 = np.matrix([[4,8,2]])\n",
    "#checkLinearComb(a,S2)"
   ]
  },
  {
   "cell_type": "code",
   "execution_count": 61,
   "id": "4955fe3a",
   "metadata": {},
   "outputs": [
    {
     "data": {
      "text/plain": [
       "[True,\n",
       " matrix([[1.],\n",
       "         [1.],\n",
       "         [1.]]),\n",
       " '<2,4,1> = 1·<3,2,5> + 1·<1,1,1> + 0·<7,-1,2>']"
      ]
     },
     "execution_count": 61,
     "metadata": {},
     "output_type": "execute_result"
    }
   ],
   "source": [
    "S3 = np.matrix([[1,1,3],[1,2,-1],[0,1,-1]])\n",
    "checkLinearComb(a,S3)"
   ]
  },
  {
   "cell_type": "code",
   "execution_count": null,
   "id": "a00569b5",
   "metadata": {},
   "outputs": [],
   "source": []
  }
 ],
 "metadata": {
  "kernelspec": {
   "display_name": "Python 3 (ipykernel)",
   "language": "python",
   "name": "python3"
  },
  "language_info": {
   "codemirror_mode": {
    "name": "ipython",
    "version": 3
   },
   "file_extension": ".py",
   "mimetype": "text/x-python",
   "name": "python",
   "nbconvert_exporter": "python",
   "pygments_lexer": "ipython3",
   "version": "3.9.12"
  }
 },
 "nbformat": 4,
 "nbformat_minor": 5
}
