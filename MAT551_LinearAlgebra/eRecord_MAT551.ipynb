{
 "cells": [
  {
   "cell_type": "markdown",
   "id": "7c2b780a",
   "metadata": {},
   "source": [
    "## Python E-Record\n",
    "### MAT551: Linear Algebra using Python\n",
    "**Pradyumn Agarwal: 2140327(5PME)**\n",
    "___"
   ]
  },
  {
   "cell_type": "markdown",
   "id": "b3508469",
   "metadata": {},
   "source": [
    "## LAB 1: Matrices"
   ]
  },
  {
   "cell_type": "markdown",
   "id": "ff970134",
   "metadata": {},
   "source": [
    "**Date: 06-07-2023**"
   ]
  },
  {
   "cell_type": "markdown",
   "id": "56a96878",
   "metadata": {},
   "source": [
    "> WAP to display current date"
   ]
  },
  {
   "cell_type": "code",
   "execution_count": 16,
   "id": "e1d9583e",
   "metadata": {},
   "outputs": [
    {
     "name": "stdout",
     "output_type": "stream",
     "text": [
      "2023-07-06\n"
     ]
    }
   ],
   "source": [
    "from datetime import date\n",
    "print(date.today())"
   ]
  },
  {
   "cell_type": "markdown",
   "id": "8b70cef6",
   "metadata": {},
   "source": [
    "> WAP to accept first and last name and print it"
   ]
  },
  {
   "cell_type": "code",
   "execution_count": 17,
   "id": "292b9d36",
   "metadata": {},
   "outputs": [
    {
     "name": "stdout",
     "output_type": "stream",
     "text": [
      "Enter First Name-P\n",
      "Enter Last Name-A\n",
      "Name:  P   A\n"
     ]
    }
   ],
   "source": [
    "first = input(\"Enter First Name-\")\n",
    "last = input(\"Enter Last Name-\")\n",
    "print(\"Name: \",first,\" \",last)"
   ]
  },
  {
   "cell_type": "markdown",
   "id": "f941be2b",
   "metadata": {},
   "source": [
    "> WAP to accept a list and add/remove elements from it"
   ]
  },
  {
   "cell_type": "code",
   "execution_count": 33,
   "id": "3d1d50a8",
   "metadata": {},
   "outputs": [
    {
     "name": "stdout",
     "output_type": "stream",
     "text": [
      "Enter list of fruits[\"BANANA\",\"ORANGE\"]\n",
      "List:  ['BANANA', 'ORANGE']\n",
      "Adding APPLE and removing first fruit\n",
      "['ORANGE', 'APPLE']\n"
     ]
    }
   ],
   "source": [
    "fruits = eval(input(\"Enter list of fruits\"))\n",
    "print(\"List: \",fruits)\n",
    "print(\"Adding APPLE and removing first fruit\")\n",
    "fruits.append(\"APPLE\")\n",
    "fruits.pop(0)\n",
    "print(fruits)"
   ]
  },
  {
   "cell_type": "markdown",
   "id": "43aaf512",
   "metadata": {},
   "source": [
    "> WAP to accept a number and check even/odd"
   ]
  },
  {
   "cell_type": "code",
   "execution_count": 26,
   "id": "15fd0b59",
   "metadata": {},
   "outputs": [
    {
     "name": "stdout",
     "output_type": "stream",
     "text": [
      "Enter number10\n",
      "True\n"
     ]
    }
   ],
   "source": [
    "n = int(input(\"Enter number\"))\n",
    "print(n%2 == 0)"
   ]
  },
  {
   "cell_type": "markdown",
   "id": "133b9eea",
   "metadata": {},
   "source": [
    "> WAP to accept a string and find number of UPPER and LOWER case letters"
   ]
  },
  {
   "cell_type": "code",
   "execution_count": 30,
   "id": "7fd3ce09",
   "metadata": {},
   "outputs": [
    {
     "name": "stdout",
     "output_type": "stream",
     "text": [
      "Enter String: fDjswSE\n",
      "Uppercase =  3\n",
      "Lowercase =  4\n"
     ]
    }
   ],
   "source": [
    "upper,lower = 0,0\n",
    "my_str = input(\"Enter String: \")\n",
    "for i in list(my_str):\n",
    "    if(i.isupper()):\n",
    "        upper += 1;\n",
    "    elif(i.islower()):\n",
    "        lower += 1;\n",
    "print(\"Uppercase = \",upper)\n",
    "print(\"Lowercase = \",lower)"
   ]
  },
  {
   "cell_type": "markdown",
   "id": "7b6ac6ae",
   "metadata": {},
   "source": [
    "> WAP to accept a number and first it's first and last digit"
   ]
  },
  {
   "cell_type": "code",
   "execution_count": 34,
   "id": "6e05fb07",
   "metadata": {},
   "outputs": [
    {
     "name": "stdout",
     "output_type": "stream",
     "text": [
      "Enter Number- 314159\n",
      "First -  9\n",
      "Last -  3\n"
     ]
    }
   ],
   "source": [
    "n = int(input(\"Enter Number- \"))\n",
    "f = n%10\n",
    "while(n>9):\n",
    "    n = n//10\n",
    "print(\"First - \",f)\n",
    "print(\"Last - \",n)"
   ]
  },
  {
   "cell_type": "markdown",
   "id": "0c9948ba",
   "metadata": {},
   "source": [
    "> WAP to find factorial of a number"
   ]
  },
  {
   "cell_type": "code",
   "execution_count": 37,
   "id": "cf1425b7",
   "metadata": {},
   "outputs": [
    {
     "name": "stdout",
     "output_type": "stream",
     "text": [
      "Enter Number: 6\n",
      "Factorial =  720\n"
     ]
    }
   ],
   "source": [
    "def fact(n):\n",
    "    if(n==0):\n",
    "        return 1;\n",
    "    return n*fact(n-1);\n",
    "\n",
    "n = int(input(\"Enter Number: \"))\n",
    "print(\"Factorial = \",fact(n))"
   ]
  },
  {
   "cell_type": "markdown",
   "id": "1b9f9f83",
   "metadata": {},
   "source": [
    "> WAP to check if a number is palindrome"
   ]
  },
  {
   "cell_type": "code",
   "execution_count": 52,
   "id": "7912e3d3",
   "metadata": {},
   "outputs": [
    {
     "name": "stdout",
     "output_type": "stream",
     "text": [
      "Enter Number- 12321\n",
      "True\n"
     ]
    }
   ],
   "source": [
    "n = int(input(\"Enter Number- \"))\n",
    "rev =  int(\"\".join([i for i in str(n)][::-1]))\n",
    "print(n==rev)"
   ]
  },
  {
   "cell_type": "markdown",
   "id": "b5cff418",
   "metadata": {},
   "source": [
    "> WAP to find largest of three numbers"
   ]
  },
  {
   "cell_type": "code",
   "execution_count": 53,
   "id": "764bf9c7",
   "metadata": {},
   "outputs": [
    {
     "name": "stdout",
     "output_type": "stream",
     "text": [
      "Enter Number: 5\n",
      "Enter Number: 9\n",
      "Enter Number: 7\n",
      "Largest =  9\n"
     ]
    }
   ],
   "source": [
    "nums = [int(input(\"Enter Number: \")) for i in range(3)]\n",
    "print(\"Largest = \",max(nums))"
   ]
  },
  {
   "cell_type": "markdown",
   "id": "5594c474",
   "metadata": {},
   "source": [
    "> WAP to plot $\\sin x$ and $\\cos x$ in single graph"
   ]
  },
  {
   "cell_type": "code",
   "execution_count": 58,
   "id": "3f73cbce",
   "metadata": {},
   "outputs": [
    {
     "data": {
      "image/png": "[encoded data removed]",
      "text/plain": [
       "<Figure size 432x288 with 1 Axes>"
      ]
     },
     "metadata": {
      "needs_background": "light"
     },
     "output_type": "display_data"
    }
   ],
   "source": [
    "import matplotlib.pyplot as plt\n",
    "import numpy as np\n",
    "\n",
    "x = np.linspace(-np.pi,np.pi,2000)\\\n",
    "\n",
    "plt.plot(x,np.sin(x))\n",
    "plt.plot(x,np.cos(x))\n",
    "plt.grid()\n",
    "plt.show()"
   ]
  },
  {
   "cell_type": "markdown",
   "id": "a59d437b",
   "metadata": {},
   "source": [
    "**Date: 10-07-2023**"
   ]
  },
  {
   "cell_type": "markdown",
   "id": "bb7348c0",
   "metadata": {},
   "source": [
    "**Cramers Rule**\n",
    "> To solve a system of equations $\\ldots$<br>\n",
    "$\\quad\\quad\t\\begin{eqnarray*}\n",
    "\t\ta_{11}x + a_{12}y + a_{13}z = b_{1}\\\\\n",
    "\t\ta_{21}x + a_{22}y + a_{23}z = b_{2}\\\\\n",
    "\t\ta_{31}x + a_{32}y + a_{33}z = b_{3}\n",
    "\t\\end{eqnarray*}$<br>\n",
    "  We set the following $\\ldots$<br>\n",
    "$\\quad A = \\begin{bmatrix}\n",
    "\t\ta_{11} & a_{12} & a_{13}\\\\\n",
    "\t\ta_{21} & a_{22} & a_{23}\\\\\n",
    "\t\ta_{31} & a_{32} & a_{33}\n",
    "\t\\end{bmatrix}$\n",
    "$\\quad \\quad\n",
    "B = \\begin{bmatrix}\n",
    "\t\tb_{1}\\\\\n",
    "\t\tb_{2}\\\\\n",
    "\t\tb_{3}\n",
    "\t\\end{bmatrix}$<br>\n",
    "  The solution is given by$\\ldots$<br>\n",
    "  $\\quad \\quad X = A^{-1}B$"
   ]
  },
  {
   "cell_type": "markdown",
   "id": "d9b3028d",
   "metadata": {},
   "source": [
    "> WAP to solve the given system of equation.<br>\n",
    "$\\quad\\quad\t\\begin{eqnarray*}\n",
    "\t\t&x + 2y - z &= 3\\\\\n",
    "\t\t&3x - y + 2z &= 1\\\\\n",
    "\t\t&2x - 2y + 3z &= 2\n",
    "\t\\end{eqnarray*}$<br>"
   ]
  },
  {
   "cell_type": "code",
   "execution_count": 27,
   "id": "8504f69b",
   "metadata": {},
   "outputs": [
    {
     "name": "stdout",
     "output_type": "stream",
     "text": [
      "[[-1.]\n",
      " [ 4.]\n",
      " [ 4.]]\n"
     ]
    }
   ],
   "source": [
    "import numpy as np\n",
    "A = np.matrix([[1,2,-1],\n",
    "               [3,-1,2],\n",
    "               [2,-2,3]])\n",
    "B = np.matrix([[3],[1],[2]])\n",
    "X = A.I*B\n",
    "print(X)"
   ]
  },
  {
   "cell_type": "code",
   "execution_count": 7,
   "id": "cda41eed",
   "metadata": {},
   "outputs": [
    {
     "name": "stdout",
     "output_type": "stream",
     "text": [
      "[-1.0000000000000004, 4.000000000000001, 4.000000000000001]\n"
     ]
    }
   ],
   "source": [
    "# Cramers Method\n",
    "import numpy as np\n",
    "A = np.matrix([[1,2,-1],\n",
    "               [3,-1,2],\n",
    "               [2,-2,3]])\n",
    "B = np.matrix([[3],[1],[2]])\n",
    "D = [];\n",
    "for i in range(0,A.shape[0]):\n",
    "    C = A.T.copy();\n",
    "    C[i] = B.T;\n",
    "    C = C.T;\n",
    "    D.append(np.linalg.det(C))\n",
    "D.append(np.linalg.det(A))\n",
    "X = [D[i]/D[-1] for i in range(0,A.shape[0])]\n",
    "print(X)"
   ]
  },
  {
   "cell_type": "code",
   "execution_count": 41,
   "id": "17072b5b",
   "metadata": {},
   "outputs": [
    {
     "name": "stdout",
     "output_type": "stream",
     "text": [
      "x =  -1\n",
      "y =  4\n",
      "z =  4\n"
     ]
    }
   ],
   "source": [
    "# Inverse Method\n",
    "import numpy as np\n",
    "\n",
    "A = np.matrix([[1,2,-1],\n",
    "               [3,-1,2],\n",
    "               [2,-2,3]])\n",
    "detA = np.linalg.det(A)\n",
    "B = np.matrix([3,1,2])\n",
    "X = np.linalg.det(np.matrix(np.concatenate((B,A.T[1:,:]))).T) / detA\n",
    "Y = np.linalg.det(np.matrix(np.concatenate((A.T[0,:],B,A.T[2,:]))).T) / detA\n",
    "Z = np.linalg.det(np.matrix(np.concatenate((A.T[0:2,:],B))).T) / detA\n",
    "print(\"x = \",int(X))\n",
    "print(\"y = \",int(Y))\n",
    "print(\"z = \",int(Z))"
   ]
  },
  {
   "cell_type": "code",
   "execution_count": 45,
   "id": "cefbb664",
   "metadata": {},
   "outputs": [
    {
     "data": {
      "text/plain": [
       "[-1.0795375492328784e+17,\n",
       " -2.4760531284637836e+16,\n",
       " 7.305839395512128e+16,\n",
       " -4.303439643931822e+16]"
      ]
     },
     "execution_count": 45,
     "metadata": {},
     "output_type": "execute_result"
    }
   ],
   "source": [
    "# Function to solve using inverse rule\n",
    "import numpy as np\n",
    "def inverseMethod(variable,constant):\n",
    "    A = np.matrix(variable)\n",
    "    B = np.matrix(constant)\n",
    "    detA = np.linalg.det(A)\n",
    "    soln = []\n",
    "    for i in range(0,B.size):\n",
    "        soln.append(np.linalg.det(np.matrix(np.concatenate((A.T[0:i,:],B,A.T[i+1:,:]))).T) / detA)\n",
    "    return soln\n",
    "\n",
    "inverseMethod([[1,2,-1],\n",
    "               [3,-1,2],\n",
    "               [2,-2,3]],\n",
    "               [3,1,2])"
   ]
  },
  {
   "cell_type": "markdown",
   "id": "5e7d83c2",
   "metadata": {},
   "source": [
    "**Date: 17-07-2023, 18-07-2023**"
   ]
  },
  {
   "cell_type": "markdown",
   "id": "712f5401",
   "metadata": {},
   "source": [
    "> WAP to check if a given matrix is symmetric or skew symmetric"
   ]
  },
  {
   "cell_type": "code",
   "execution_count": 5,
   "id": "fa141b06",
   "metadata": {},
   "outputs": [
    {
     "name": "stdout",
     "output_type": "stream",
     "text": [
      "Enter Matrix- [[1,2,3],[2,1,4],[3,4,1]]\n",
      "Matrix is symmetric\n"
     ]
    }
   ],
   "source": [
    "import numpy as np\n",
    "\n",
    "myMat = np.matrix(eval(input(\"Enter Matrix- \")))\n",
    "if((myMat == myMat.T).all()):\n",
    "    print(\"Matrix is symmetric\");\n",
    "elif((myMat == myMat.T*-1).all()):\n",
    "    print(\"Matrix is symmetric\");\n",
    "else:\n",
    "    print(\"Matrix is neither\");"
   ]
  },
  {
   "cell_type": "markdown",
   "id": "1fb68aba",
   "metadata": {},
   "source": [
    "> WAP to check if a matrix can be written as a sum of symmetric and skew symmetric matrix"
   ]
  },
  {
   "cell_type": "code",
   "execution_count": 33,
   "id": "1e7fc2ea",
   "metadata": {},
   "outputs": [
    {
     "name": "stdout",
     "output_type": "stream",
     "text": [
      "Enter Matrix:[[2,3,1],[5,1,7],[8,2,6]]\n",
      "Matrix can be written.\n"
     ]
    }
   ],
   "source": [
    "#[[2,3,1],[5,1,7],[8,2,6]]\n",
    "import numpy as np\n",
    "myMat = np.matrix(eval(input(\"Enter Matrix:\")))\n",
    "\n",
    "myMat_ = 0.5*(myMat + myMat.T) + 0.5*(myMat - myMat.T)\n",
    "\n",
    "if((myMat == myMat_).all()):\n",
    "    print(\"Matrix can be written.\")\n",
    "else:\n",
    "    print(\"Matrix can not be written.\")"
   ]
  },
  {
   "cell_type": "markdown",
   "id": "c497ff0a",
   "metadata": {},
   "source": [
    "> WAP to define a 4X4 matrix and perform the following manipulations$\\ldots$<br>\n",
    "> - Find the square root of each element in the 3rd row\n",
    "> - Add the corresponding elements of the first and second columns\n",
    "> - Extract the first column and reshape it into a 2X2 matrix"
   ]
  },
  {
   "cell_type": "code",
   "execution_count": 37,
   "id": "e0cb2ac3",
   "metadata": {},
   "outputs": [
    {
     "name": "stdout",
     "output_type": "stream",
     "text": [
      "Enter Matrix:[[1,2,3,4],[5,6,7,8],[9,10,11,12],[13,14,15,16]]\n",
      "Square Roots -  [3.0, 3.1622776601683795, 3.3166247903554, 3.4641016151377544]\n",
      "Column Sum -  [3, 11, 19, 27]\n",
      "Reshaped Matrix -  [[ 1  5]\n",
      " [ 9 13]]\n"
     ]
    }
   ],
   "source": [
    "#[[1,2,3,4],[5,6,7,8],[9,10,11,12],[13,14,15,16]]\n",
    "import numpy as np\n",
    "myMat = np.matrix(eval(input(\"Enter Matrix:\")));\n",
    "\n",
    "sqRoot = list(map(lambda x:x**0.5,myMat[2,:].A1))\n",
    "\n",
    "colSum = list((myMat[:,0]+myMat[:,1]).A1);\n",
    "\n",
    "sqMat = np.matrix((myMat[:,0].A1).reshape(2,2))\n",
    "\n",
    "print(\"Square Roots - \",sqRoot);\n",
    "print(\"Column Sum - \",colSum);\n",
    "print(\"Reshaped Matrix - \",sqMat)"
   ]
  },
  {
   "cell_type": "markdown",
   "id": "9af63b00",
   "metadata": {},
   "source": [
    "> WAP to define a 5X5 matrix and perform the following$\\ldots$<br>\n",
    "> - Sum of all elements of matrix\n",
    "> - Product of all elements of matrix\n",
    "> - Find Trace of matrix\n",
    "> - Minimum element of matrix\n",
    "> - Maximum element of matrix\n",
    "> - Sort each row of the matrix"
   ]
  },
  {
   "cell_type": "code",
   "execution_count": 23,
   "id": "e898312c",
   "metadata": {},
   "outputs": [
    {
     "name": "stdout",
     "output_type": "stream",
     "text": [
      "Enter Matrix:[[1,1,1,1,1],[1,1,1,1,1],[1,4,1,1,1],[1,1,1,1,1],[2,3,5,4,6]]\n",
      "Sum of all elements =  43\n",
      "Product of all elements =  2880\n",
      "Trace of Matrix =  10\n",
      "Minimum =  1\n",
      "Maximum =  6\n",
      "Sorted Matrix = \n",
      "[[1 1 1 1 1]\n",
      " [1 1 1 1 1]\n",
      " [1 1 1 1 4]\n",
      " [1 1 1 1 1]\n",
      " [2 3 4 5 6]]\n"
     ]
    }
   ],
   "source": [
    "#[[1,2,3,4,5],[5,6,7,8,6],[9,4,9,12,7],[2,7,11,12,8],[5,6,5,10,6]]\n",
    "#[[1,1,1,1,1],[1,1,1,1,1],[1,4,1,1,1],[1,1,1,1,1],[2,3,5,4,6]]\n",
    "import numpy as np\n",
    "myMat = np.matrix(eval(input(\"Enter Matrix:\")));\n",
    "\n",
    "eleSum = sum(myMat.A1);\n",
    "eleProd = np.prod(myMat);\n",
    "matTrace = int(myMat.trace())\n",
    "eleMin = min(myMat.A1);\n",
    "eleMax = max(myMat.A1);\n",
    "sortedMat = np.matrix([np.sort(myMat[i,:].A1) for i in range(5)]);\n",
    "\n",
    "print(\"Sum of all elements = \",eleSum);\n",
    "print(\"Product of all elements = \",eleProd);\n",
    "print(\"Trace of Matrix = \",matTrace);\n",
    "print(\"Minimum = \",eleMin);\n",
    "print(\"Maximum = \",eleMax);\n",
    "print(\"Sorted Matrix = \");\n",
    "print(sortedMat);\n"
   ]
  },
  {
   "cell_type": "markdown",
   "id": "1d264976",
   "metadata": {},
   "source": [
    "**Date: 24-07-2023**"
   ]
  },
  {
   "cell_type": "markdown",
   "id": "69dbd38a",
   "metadata": {},
   "source": [
    "> WAP to convert a matrix to **Row Equivalent Form** and find **Rank**"
   ]
  },
  {
   "cell_type": "code",
   "execution_count": 46,
   "id": "b85132d4",
   "metadata": {},
   "outputs": [
    {
     "name": "stdout",
     "output_type": "stream",
     "text": [
      "Row Equivalent Form: \n",
      "[[ 1.  -0.5  1.5]\n",
      " [ 0.   1.   0. ]\n",
      " [ 0.   0.   0. ]\n",
      " [ 0.  14.   0. ]]\n",
      "Rank =  2\n"
     ]
    }
   ],
   "source": [
    "#[[2,1,3],[4,5,6],[4,2,6]]\n",
    "import numpy as np\n",
    "\n",
    "def rowEquivalent(mat):\n",
    "    for i in range(min(mat.shape)):\n",
    "        row = mat[i,:].A1\n",
    "        if(row[i] == 0):\n",
    "            continue;\n",
    "        row = row/row[i];\n",
    "        mat[i,:] = row\n",
    "        for j in range(i+1,mat.shape[0]):\n",
    "            mat[j,:] = mat[j,:] - (mat[j,0]*row)\n",
    "    return mat\n",
    "\n",
    "def getRank(mat):\n",
    "    flag = ~rowEquivalent(mat).astype(bool).A\n",
    "    rem = []\n",
    "    #flag = np.delete(flag,next((i for i in range(len(flag)) if(flag[i].all())),[]),0)\n",
    "    for i in range(len(flag)):\n",
    "        if i in rem:\n",
    "            continue;\n",
    "        for j in range(i+1,len(flag)):\n",
    "            if j in rem:\n",
    "                continue;\n",
    "            if((flag[i]==flag[j]).all() or flag[j].all()):\n",
    "                rem.append(j)\n",
    "    flag = np.delete(flag,rem,0)\n",
    "    return len(flag)\n",
    "\n",
    "#myMat = np.matrix(eval(input(\"Enter Matrix:\")),float);\n",
    "myMat = np.matrix([[-2,1,-3],[4,5,6],[-4,2,-6],[8,10,12]],float)\n",
    "print(\"Row Equivalent Form: \")\n",
    "print(rowEquivalent(myMat))\n",
    "print(\"Rank = \",getRank(myMat))"
   ]
  },
  {
   "cell_type": "code",
   "execution_count": 1,
   "id": "3174ede8",
   "metadata": {},
   "outputs": [
    {
     "name": "stdout",
     "output_type": "stream",
     "text": [
      "Enter Matrix:[[-2,1,-3],[4,5,6],[-4,2,-6],[8,10,12]]\n",
      "Rank is =  2\n"
     ]
    }
   ],
   "source": [
    "#Using linalg\n",
    "import numpy as np\n",
    "\n",
    "myMat = np.matrix(eval(input(\"Enter Matrix:\")));\n",
    "rank = np.linalg.matrix_rank(myMat);\n",
    "print(\"Rank is = \",rank)"
   ]
  },
  {
   "cell_type": "markdown",
   "id": "31d4bbea",
   "metadata": {},
   "source": [
    "**Gauss Elemination Method: System of Equations**<br>\n",
    "> We have $\\ldots\\quad\\quad\\quad AX = B$<br>\n",
    "  Then $\\ldots \\quad [A:B] = \\begin{bmatrix}\n",
    "              a_{11} & a_{12} & a_{13} & : & b_{1}\\\\\n",
    "              a_{21} & a_{22} & a_{23} & : & b_{2}\\\\\n",
    "              a_{31} & a_{32} & a_{33} & : & b_{3}\n",
    "           \\end{bmatrix}\n",
    "  $\n",
    "  $\\quad\\sim\\quad \\begin{bmatrix}\n",
    "              a_{11} & a_{12} & a_{13} & : & b_{1}\\\\\n",
    "                 0   & a_{22} & a_{23} & : & b_{2}\\\\\n",
    "                 0   &   0    & a_{33} & : & b_{3}\n",
    "           \\end{bmatrix}\n",
    "  $<br>\n",
    "  Solve for $X$ using transformed $A$ and $B$"
   ]
  },
  {
   "cell_type": "code",
   "execution_count": 64,
   "id": "9cc31445",
   "metadata": {},
   "outputs": [
    {
     "name": "stdout",
     "output_type": "stream",
     "text": [
      "[[ 1.         -1.          2.          2.        ]\n",
      " [ 0.          1.          0.          1.        ]\n",
      " [-0.         -0.42857143  1.          0.57142857]]\n",
      "[[1.]\n",
      " [1.]\n",
      " [1.]]\n",
      "[[1.]\n",
      " [1.]\n",
      " [1.]]\n"
     ]
    }
   ],
   "source": [
    "import numpy as np\n",
    "\n",
    "def rowEquivalent(mat):\n",
    "    for i in range(min(mat.shape)):\n",
    "        row = mat[i,:].A1\n",
    "        if(row[i] == 0):\n",
    "            continue;\n",
    "        row = row/row[i];\n",
    "        mat[i,:] = row\n",
    "        for j in range(i+1,mat.shape[0]):\n",
    "            mat[j,:] = mat[j,:] - (mat[j,0]*row)\n",
    "    return mat\n",
    "\n",
    "def gaussMethod(A,B):\n",
    "    mat = np.insert(arr=A,obj=A.shape[1],values=B.A1,axis=1)\n",
    "    mat = rowEquivalent(mat)\n",
    "    A = mat.T[:-1,:].T\n",
    "    B = mat.T[-1,:].T\n",
    "    #for i in A[:,::-1]:\n",
    "    #    for j in range\n",
    "    X = np.linalg.solve(mat.T[:-1,:].T,mat.T[-1,:].T)\n",
    "    return(X)\n",
    "#myMat = np.matrix([[-2,1,-3,2],[4,5,6,3],[-4,2,-6,5]],float)\n",
    "#print(myMat)\n",
    "#rowEquivalent(myMat)\n",
    "#A = np.matrix([[-2,1,-3],[4,6,6],[-4,2,6]],float)\n",
    "#B = np.matrix([[2],[3],[5]],float)\n",
    "A = np.matrix([[1,-1,2],[2,1,4],[4,-1,1]],float)\n",
    "B = np.matrix([[2],[7],[4]],float)\n",
    "print(gaussMethod(A,B))\n",
    "print(np.linalg.solve(A,B))"
   ]
  },
  {
   "cell_type": "markdown",
   "id": "69b0d55d",
   "metadata": {},
   "source": [
    "## LAB 2: System of Equations"
   ]
  },
  {
   "cell_type": "markdown",
   "id": "f006e827",
   "metadata": {},
   "source": [
    "**Dates: 24-07-23 to 31-07-23**"
   ]
  },
  {
   "cell_type": "markdown",
   "id": "a09f3772",
   "metadata": {},
   "source": [
    "**Row Echelon form of Matrix**<br>\n",
    ">"
   ]
  },
  {
   "cell_type": "code",
   "execution_count": 9,
   "id": "edc72ee3",
   "metadata": {},
   "outputs": [
    {
     "name": "stdout",
     "output_type": "stream",
     "text": [
      "Matrix: \n",
      "[[ 1.  1. -1.  7.]\n",
      " [ 1. -1.  2.  3.]\n",
      " [ 2.  1.  1.  9.]]\n",
      "Row Echelon Form: \n",
      "[[ 1.   1.  -1.   7. ]\n",
      " [-0.   1.  -1.5  2. ]\n",
      " [ 0.   0.   1.  -2. ]]\n"
     ]
    }
   ],
   "source": [
    "import numpy as np\n",
    "\n",
    "def rowEchelon(A):\n",
    "    mat = A.copy()\n",
    "    for i in range(min(mat.shape)):\n",
    "        row = mat[i,:].A1\n",
    "        if(row[i] == 0):\n",
    "            continue;\n",
    "        row = row/row[i];\n",
    "        mat[i,:] = row\n",
    "        for j in range(i+1,mat.shape[0]):\n",
    "            mat[j,:] = mat[j,:] - (mat[j,i]*row)\n",
    "        #print(mat)\n",
    "    return mat\n",
    "\n",
    "#myMat = np.matrix(eval(input(\"Enter Matrix:\")),float);\n",
    "#myMat = np.matrix([[-2,1,-3],[4,5,6],[-4,2,-6],[8,10,12]],float)\n",
    "#myMat = np.matrix([[1,-1,2,2],[2,1,4,7],[4,-1,1,4]],float)\n",
    "#myMat = np.matrix([[2,5,9,2],[4,8,6,3],[5,-4,6,5],[3,9,7,7]],float)\n",
    "myMat = np.matrix([[1,1,-1,7],[1,-1,2,3],[2,1,1,9]],float)\n",
    "\n",
    "print(\"Matrix: \")\n",
    "print(myMat)\n",
    "print(\"Row Echelon Form: \")\n",
    "print(rowEchelon(myMat))"
   ]
  },
  {
   "cell_type": "markdown",
   "id": "740246f7",
   "metadata": {},
   "source": [
    "**Rank of a matrix**<br>\n",
    ">"
   ]
  },
  {
   "cell_type": "code",
   "execution_count": 10,
   "id": "7eb0d18c",
   "metadata": {},
   "outputs": [
    {
     "name": "stdout",
     "output_type": "stream",
     "text": [
      "Matrix: \n",
      "[[-2.  1. -3.]\n",
      " [ 4.  5.  6.]\n",
      " [-4.  2. -6.]\n",
      " [ 8. 10. 12.]]\n",
      "Rank =  2\n"
     ]
    }
   ],
   "source": [
    "def getRank(mat):\n",
    "    flag = ~rowEchelon(mat).astype(bool).A\n",
    "    rem = []\n",
    "    #flag = np.delete(flag,next((i for i in range(len(flag)) if(flag[i].all())),[]),0)\n",
    "    for i in range(len(flag)):\n",
    "        if i in rem:\n",
    "            continue;\n",
    "        for j in range(i+1,len(flag)):\n",
    "            if j in rem:\n",
    "                continue;\n",
    "            if((flag[i]==flag[j]).all() or flag[j].all()):\n",
    "                rem.append(j)\n",
    "    flag = np.delete(flag,rem,0)\n",
    "    return len(flag)\n",
    "\n",
    "#myMat = np.matrix(eval(input(\"Enter Matrix:\")),float);\n",
    "myMat = np.matrix([[-2,1,-3],[4,5,6],[-4,2,-6],[8,10,12]],float)\n",
    "print(\"Matrix: \")\n",
    "print(myMat)\n",
    "print(\"Rank = \",getRank(myMat))"
   ]
  },
  {
   "cell_type": "code",
   "execution_count": 11,
   "id": "2c53edc8",
   "metadata": {},
   "outputs": [
    {
     "name": "stdout",
     "output_type": "stream",
     "text": [
      "Rank =  2\n"
     ]
    }
   ],
   "source": [
    "#Using linalg\n",
    "import numpy as np\n",
    "\n",
    "#myMat = np.matrix(eval(input(\"Enter Matrix:\")));\n",
    "myMat = np.matrix([[-2,1,-3],[4,5,6],[-4,2,-6],[8,10,12]],float)\n",
    "rank = np.linalg.matrix_rank(myMat);\n",
    "print(\"Rank = \",rank)"
   ]
  },
  {
   "cell_type": "markdown",
   "id": "b7490a9c",
   "metadata": {},
   "source": [
    "**Gauss Elemination Method for System of Equations**<br>\n",
    "> We have $\\ldots\\quad\\quad\\quad AX = B$<br>\n",
    "  Then $\\ldots \\quad [A:B] = \\begin{bmatrix}\n",
    "              a_{11} & a_{12} & a_{13} & : & b_{1}\\\\\n",
    "              a_{21} & a_{22} & a_{23} & : & b_{2}\\\\\n",
    "              a_{31} & a_{32} & a_{33} & : & b_{3}\n",
    "           \\end{bmatrix}\n",
    "  $\n",
    "  $\\quad\\sim\\quad \\begin{bmatrix}\n",
    "              a_{11} & a_{12} & a_{13} & : & b_{1}\\\\\n",
    "                 0   & a_{22} & a_{23} & : & b_{2}\\\\\n",
    "                 0   &   0    & a_{33} & : & b_{3}\n",
    "           \\end{bmatrix}\n",
    "  $<br>\n",
    "  Solve for $X$ using transformed $A$ and $B$"
   ]
  },
  {
   "cell_type": "code",
   "execution_count": 12,
   "id": "f1271fe4",
   "metadata": {},
   "outputs": [
    {
     "name": "stdout",
     "output_type": "stream",
     "text": [
      "[[ 1.          2.5         4.5         1.          1.        ]\n",
      " [-0.          1.          6.          0.5        -1.5       ]\n",
      " [ 0.          0.          1.          0.1        -0.31212121]\n",
      " [ 0.          0.          0.          1.         -0.95580808]]\n",
      "Solved: \n",
      " [[ 2.23737374]\n",
      " [ 0.27714646]\n",
      " [-0.2165404 ]\n",
      " [-0.95580808]]\n",
      "Solved: \n",
      " [[ 2.23737374]\n",
      " [ 0.27714646]\n",
      " [-0.2165404 ]\n",
      " [-0.95580808]]\n"
     ]
    }
   ],
   "source": [
    "import numpy as np\n",
    "\n",
    "def gaussMethod(A,B):\n",
    "    mat = np.insert(arr=A,obj=A.shape[1],values=B.A1,axis=1)\n",
    "    mat = rowEchelon(mat)\n",
    "    print(mat)\n",
    "    A_ = mat.T[:-1,:].T.A\n",
    "    B_ = mat.T[-1,:].T\n",
    "    X = np.matrix(np.zeros(B.shape),float)\n",
    "    varSolved = []\n",
    "    solving = [list(i).count(0) for i in A_]\n",
    "    for i in range(A_.shape[1])[::-1]:\n",
    "        rowIndex = solving.index(i)\n",
    "        row = A_[rowIndex,:]\n",
    "        for j in range(A_.shape[1]):\n",
    "            #print(\"rowele:\",j,\"    \",varSolved)\n",
    "            if((row[j] != 0) and (j not in varSolved)):\n",
    "                varSolved.append(j)\n",
    "                break;\n",
    "        #print(i,varSolved)\n",
    "        X[varSolved[-1],0] = (B_[rowIndex,0] - np.sum([row[k]*X[k,0] for k in range(len(row))]))/row[varSolved[-1]]\n",
    "    #X = np.linalg.solve(mat.T[:-1,:].T,mat.T[-1,:].T)\n",
    "    return(X)\n",
    "A = np.matrix([[2,5,9,2],[4,8,6,3],[5,-4,6,5],[3,9,7,7]],float)\n",
    "#A = np.matrix([[1,-1,2],[2,1,4],[4,-1,1]],float)\n",
    "B = np.matrix([[2],[7],[4],[1]],float)\n",
    "#print(getRank(A))\n",
    "print(\"Solved: \\n\",gaussMethod(A,B))\n",
    "print(\"Solved: \\n\",np.linalg.solve(A,B))"
   ]
  },
  {
   "cell_type": "markdown",
   "id": "c4b1df83",
   "metadata": {},
   "source": [
    "**Reduced Row Echelon Form**<br>\n",
    ">"
   ]
  },
  {
   "cell_type": "code",
   "execution_count": 13,
   "id": "450203a0",
   "metadata": {},
   "outputs": [
    {
     "name": "stdout",
     "output_type": "stream",
     "text": [
      "Matrix: \n",
      "[[ 1.  1. -1.  7.]\n",
      " [ 1. -1.  2.  3.]\n",
      " [ 2.  1.  1.  9.]]\n",
      "Reduced Row Echelon Form: \n",
      "[[ 1.  0.  0.  6.]\n",
      " [ 0.  1.  0. -1.]\n",
      " [ 0.  0.  1. -2.]]\n"
     ]
    }
   ],
   "source": [
    "import numpy as np\n",
    "\n",
    "def redRowEchelon(mat):\n",
    "    for i in range(min(mat.shape)):\n",
    "        row = mat[i,:].A1\n",
    "        if(row[i] == 0):\n",
    "            continue;\n",
    "        row = row/row[i];\n",
    "        mat[i,:] = row\n",
    "        for j in range(mat.shape[0]):\n",
    "            if(j==i):\n",
    "                continue;\n",
    "            mat[j,:] = mat[j,:] - (mat[j,i]*row)\n",
    "        #print(mat)\n",
    "    return mat\n",
    "\n",
    "#myMat = np.matrix(eval(input(\"Enter Matrix:\")),float);\n",
    "#myMat = np.matrix([[-2,1,-3],[4,5,6],[-4,2,-6],[8,10,12]],float)\n",
    "#myMat = np.matrix([[1,-1,2,2],[2,1,4,7],[4,-1,1,4]],float)\n",
    "#myMat = np.matrix([[2,5,9,2],[4,8,6,3],[5,-4,6,5],[3,9,7,7]],float)\n",
    "myMat = np.matrix([[1,1,-1,7],[1,-1,2,3],[2,1,1,9]],float)\n",
    "\n",
    "print(\"Matrix: \")\n",
    "print(myMat)\n",
    "print(\"Reduced Row Echelon Form: \")\n",
    "print(redRowEchelon(myMat))"
   ]
  },
  {
   "cell_type": "markdown",
   "id": "405c3773",
   "metadata": {},
   "source": [
    "**Gauss Jordan Method for System of Equations**<br>\n",
    "> We have $\\ldots\\quad\\quad\\quad AX = B$<br>\n",
    "  Then $\\ldots \\quad [A:B] = \\begin{bmatrix}\n",
    "              a_{11} & a_{12} & a_{13} & : & b_{1}\\\\\n",
    "              a_{21} & a_{22} & a_{23} & : & b_{2}\\\\\n",
    "              a_{31} & a_{32} & a_{33} & : & b_{3}\n",
    "           \\end{bmatrix}\n",
    "  $\n",
    "  $\\quad\\sim\\quad \\begin{bmatrix}\n",
    "              a_{11} &   0    &   0    & : & b_{1}\\\\\n",
    "                 0   & a_{22} &   0    & : & b_{2}\\\\\n",
    "                 0   &   0    & a_{33} & : & b_{3}\n",
    "           \\end{bmatrix}\n",
    "  $<br>\n",
    "  Solve for $X$ using transformed $A$ and $B$"
   ]
  },
  {
   "cell_type": "code",
   "execution_count": 14,
   "id": "59a5cd26",
   "metadata": {},
   "outputs": [
    {
     "name": "stdout",
     "output_type": "stream",
     "text": [
      "[[ 1.  0.  0.  6.]\n",
      " [ 0.  1.  0. -1.]\n",
      " [ 0.  0.  1. -2.]]\n",
      "Solved: \n",
      " [[ 6.]\n",
      " [-1.]\n",
      " [-2.]]\n",
      "Solved: \n",
      " [[ 6.]\n",
      " [-1.]\n",
      " [-2.]]\n"
     ]
    }
   ],
   "source": [
    "def gaussJordanMethod(A,B):\n",
    "    mat = np.insert(arr=A,obj=A.shape[1],values=B.A1,axis=1)\n",
    "    mat = redRowEchelon(mat)\n",
    "    print(mat)\n",
    "    A_ = mat.T[:-1,:].T.A\n",
    "    B_ = mat.T[-1,:].T\n",
    "    return B_\n",
    "#A = np.matrix([[2,5,9,2],[4,8,6,3],[5,-4,6,5],[3,9,7,7]],float)\n",
    "#A = np.matrix([[1,-1,2],[2,1,4],[4,-1,1]],float)\n",
    "#B = np.matrix([[2],[7],[4],[1]],float)\n",
    "A = np.matrix([[1,1,-1],[1,-1,2],[2,1,1]],float)\n",
    "B = np.matrix([[7],[3],[9]],float)\n",
    "#print(getRank(A))\n",
    "print(\"Solved: \\n\",gaussJordanMethod(A,B))\n",
    "print(\"Solved: \\n\",np.linalg.solve(A,B))"
   ]
  },
  {
   "cell_type": "markdown",
   "id": "62735dca",
   "metadata": {},
   "source": [
    "**Inverse Using Gauss Jordan Method**"
   ]
  },
  {
   "cell_type": "code",
   "execution_count": 41,
   "id": "eaa1a74a",
   "metadata": {},
   "outputs": [
    {
     "name": "stdout",
     "output_type": "stream",
     "text": [
      "[[ 1.          0.          0.         -0.23809524  0.04761905  0.28571429]\n",
      " [ 0.          1.          0.         -0.66666667  0.33333333  0.        ]\n",
      " [-0.         -0.          1.          0.28571429  0.14285714 -0.14285714]]\n"
     ]
    },
    {
     "data": {
      "text/plain": [
       "matrix([[-0.23809524,  0.04761905,  0.28571429],\n",
       "        [-0.66666667,  0.33333333,  0.        ],\n",
       "        [ 0.28571429,  0.14285714, -0.14285714]])"
      ]
     },
     "execution_count": 41,
     "metadata": {},
     "output_type": "execute_result"
    }
   ],
   "source": [
    "import numpy as np\n",
    "def gjInverse(A):\n",
    "    mat = np.insert(arr=A,obj=A.shape[1],values=np.identity(A.shape[1]),axis=1)\n",
    "    mat = redRowEchelon(mat)\n",
    "    print(mat)\n",
    "    return mat[:,A.shape[1]:];\n",
    "\n",
    "A = np.matrix([[1,-1,2],[2,1,4],[4,-1,1]],float)\n",
    "gjInverse(A)"
   ]
  },
  {
   "cell_type": "markdown",
   "id": "b59bd728",
   "metadata": {},
   "source": [
    "## LAB 3: Eigenvalue and Eigenvector\n",
    "\n",
    "**Dates: 08-08-23**"
   ]
  },
  {
   "cell_type": "markdown",
   "id": "51e84d86",
   "metadata": {},
   "source": [
    "> WAP to find the Eigenvalue of a given Matrix"
   ]
  },
  {
   "cell_type": "code",
   "execution_count": 7,
   "id": "573112ee",
   "metadata": {},
   "outputs": [
    {
     "name": "stdout",
     "output_type": "stream",
     "text": [
      "Eigenvalue =  [-1.42668648e-16+1.j -1.42668648e-16-1.j  8.54650083e-17+0.j]\n"
     ]
    }
   ],
   "source": [
    "import numpy as np\n",
    "#myMat = np.matrix(eval(input(\"Enter Matrix:\")));\n",
    "myMat = np.matrix([[1,-1,1],[1,0,0],[-1,1,-1]])\n",
    "evalue = np.linalg.eigvals(myMat)\n",
    "print(\"Eigenvalue = \",evalue)"
   ]
  },
  {
   "cell_type": "code",
   "execution_count": 14,
   "id": "225b15ac",
   "metadata": {},
   "outputs": [
    {
     "name": "stdout",
     "output_type": "stream",
     "text": [
      "Eigenvector =  (array([4., 2.]), matrix([[ 0.70710678, -0.70710678],\n",
      "        [ 0.70710678,  0.70710678]]))\n"
     ]
    }
   ],
   "source": [
    "import numpy as np\n",
    "#myMat = np.matrix(eval(input(\"Enter Matrix:\")));\n",
    "#myMat = np.matrix([[1,-1,1],[1,0,0],[-1,1,-1]])\n",
    "myMat = np.matrix([[3,1],[1,3]])\n",
    "evec = np.linalg.eig(myMat)\n",
    "#print(\"Eigenvalue = \",evalue)\n",
    "print(\"Eigenvector = \",evec)"
   ]
  },
  {
   "cell_type": "markdown",
   "id": "1d59de4b",
   "metadata": {},
   "source": [
    "## Assignment\n",
    "### Pradyumn Agarwal\n",
    "### 2140327 - 5PME\n",
    "**Date: 26-09-23**"
   ]
  },
  {
   "cell_type": "code",
   "execution_count": 23,
   "id": "83d5f322",
   "metadata": {},
   "outputs": [],
   "source": [
    "import numpy as np\n",
    "import sympy as sym"
   ]
  },
  {
   "cell_type": "markdown",
   "id": "fcc95fa5",
   "metadata": {},
   "source": [
    "> The theatre department of Christ University sold three kinds of tickets to its latest production of Macbeth. The faculty tickets sold for INR 75, the postgraduate student tickets for INR 50 and the undergraduate tickets for INR 40. The theatre department sold 250 tickets in total and brought in INR 14,125 in one night. The number of postgraduate student tickets sold was twice the number of faculty tickets sold. WAP to - <br>\n",
    "> (a) Model the above situation using a system of equations. <br>\n",
    "> (b) Write down the relevant Python codes for solving the above system of equations using the following methods:<br>\n",
    "    1. Matrix Inverse method<br>\n",
    "    2. Cramer’s rule"
   ]
  },
  {
   "cell_type": "code",
   "execution_count": 61,
   "id": "8336ed11",
   "metadata": {},
   "outputs": [
    {
     "name": "stdout",
     "output_type": "stream",
     "text": [
      "F - Faculty     P - Postgraduate    U - Undergraduate\n",
      "The equations are- \n",
      "F + P + U = 250\n",
      "75⋅F + 50⋅P + 40⋅U = 14125\n",
      "-2⋅F + P = 0\n",
      "Solution - \n",
      "{F: 75, P: 150, U: 25}\n"
     ]
    }
   ],
   "source": [
    "F,P,U = sym.symbols(\"F,P,U\");\n",
    "eq1 = sym.Eq(F + P + U,250);\n",
    "eq2 = sym.Eq(75*F + 50*P + 40*U,14125);\n",
    "eq3 = sym.Eq(-2*F + P,0)\n",
    "print(\"F - Faculty     P - Postgraduate    U - Undergraduate\");\n",
    "print(\"The equations are- \")\n",
    "sym.pprint(eq1)\n",
    "sym.pprint(eq2)\n",
    "sym.pprint(eq3)\n",
    "\n",
    "print(\"Solution - \");\n",
    "print(sym.solve([eq1,eq2,eq3]))"
   ]
  },
  {
   "cell_type": "code",
   "execution_count": 57,
   "id": "428cadcb",
   "metadata": {},
   "outputs": [
    {
     "name": "stdout",
     "output_type": "stream",
     "text": [
      "In Matrix form - \n",
      "Variables - \n",
      "[[F]\n",
      " [P]\n",
      " [U]]\n",
      "A = \n",
      "[[ 1  1  1]\n",
      " [75 50 40]\n",
      " [-2  1  0]]\n",
      "B = \n",
      "[[  250]\n",
      " [14125]\n",
      " [    0]]\n",
      "{F: 74.99999999999994, P: 150.0000000000001, U: 25.0}\n"
     ]
    }
   ],
   "source": [
    "print(\"In Matrix form - \")\n",
    "X = np.matrix([[F],[P],[U]]);\n",
    "print(\"Variables - \");\n",
    "print(X);\n",
    "A = np.matrix([[1,1,1],[75,50,40],[-2,1,0]]);\n",
    "B = np.matrix([[250],[14125],[0]]);\n",
    "print(\"A = \");\n",
    "print(A)\n",
    "print(\"B = \");\n",
    "print(B)\n",
    "\n",
    "\n",
    "no_of_tickets = dict(zip(X.A1,((A.I)*B).A1))\n",
    "print(no_of_tickets)"
   ]
  },
  {
   "cell_type": "code",
   "execution_count": 8,
   "id": "3778b168",
   "metadata": {},
   "outputs": [
    {
     "data": {
      "text/plain": [
       "matrix([[1, 1, 2],\n",
       "        [1, 2, 1],\n",
       "        [2, 7, 8]])"
      ]
     },
     "execution_count": 8,
     "metadata": {},
     "output_type": "execute_result"
    }
   ],
   "source": [
    "A = np.matrix([[1,1,2],[1,2,1],[2,7,8]])\n",
    "A"
   ]
  },
  {
   "cell_type": "code",
   "execution_count": 13,
   "id": "96f8aa07",
   "metadata": {},
   "outputs": [
    {
     "data": {
      "text/plain": [
       "matrix([[ 1,  1,  2],\n",
       "        [-1,  0, -3],\n",
       "        [ 0,  5,  0]])"
      ]
     },
     "execution_count": 13,
     "metadata": {},
     "output_type": "execute_result"
    }
   ],
   "source": [
    "B = np.matrix([[1,1,2],[-1,0,-3],[0,5,0]])\n",
    "B"
   ]
  },
  {
   "cell_type": "markdown",
   "id": "4c821513",
   "metadata": {},
   "source": [
    "> Equivalent Matrix"
   ]
  },
  {
   "cell_type": "code",
   "execution_count": 10,
   "id": "6e9c3577",
   "metadata": {},
   "outputs": [],
   "source": [
    "def rowEchelon(A):\n",
    "    mat = A.copy()\n",
    "    for i in range(min(mat.shape)):\n",
    "        row = mat[i,:].A1\n",
    "        if(row[i] == 0):\n",
    "            continue;\n",
    "        row = row/row[i];\n",
    "        mat[i,:] = row\n",
    "        for j in range(i+1,mat.shape[0]):\n",
    "            mat[j,:] = mat[j,:] - (mat[j,i]*row)\n",
    "    return mat"
   ]
  },
  {
   "cell_type": "code",
   "execution_count": 14,
   "id": "439f7f70",
   "metadata": {},
   "outputs": [
    {
     "name": "stdout",
     "output_type": "stream",
     "text": [
      "Equivalent Matrix of A: \n"
     ]
    },
    {
     "data": {
      "text/plain": [
       "matrix([[ 1,  1,  2],\n",
       "        [ 0,  1, -1],\n",
       "        [ 0,  0,  1]])"
      ]
     },
     "execution_count": 14,
     "metadata": {},
     "output_type": "execute_result"
    }
   ],
   "source": [
    "print(\"Equivalent Matrix of A: \");\n",
    "rowEchelon(A)"
   ]
  },
  {
   "cell_type": "code",
   "execution_count": 15,
   "id": "34047966",
   "metadata": {},
   "outputs": [
    {
     "name": "stdout",
     "output_type": "stream",
     "text": [
      "Equivalent Matrix of B: \n"
     ]
    },
    {
     "data": {
      "text/plain": [
       "matrix([[ 1,  1,  2],\n",
       "        [ 0,  1, -1],\n",
       "        [ 0,  0,  1]])"
      ]
     },
     "execution_count": 15,
     "metadata": {},
     "output_type": "execute_result"
    }
   ],
   "source": [
    "print(\"Equivalent Matrix of B: \");\n",
    "rowEchelon(B)"
   ]
  },
  {
   "cell_type": "markdown",
   "id": "4fd2a0ac",
   "metadata": {},
   "source": [
    "> Determinant and Adjoint"
   ]
  },
  {
   "cell_type": "code",
   "execution_count": 24,
   "id": "c9a8d139",
   "metadata": {},
   "outputs": [
    {
     "name": "stdout",
     "output_type": "stream",
     "text": [
      "Determinant of A =  9\n",
      "Adjoint of A:\n"
     ]
    },
    {
     "data": {
      "text/plain": [
       "matrix([[ 9.,  6., -3.],\n",
       "        [-6.,  4.,  1.],\n",
       "        [ 3., -5.,  1.]])"
      ]
     },
     "execution_count": 24,
     "metadata": {},
     "output_type": "execute_result"
    }
   ],
   "source": [
    "print(\"Determinant of A = \",int(np.linalg.det(A)));\n",
    "print(\"Adjoint of A:\");\n",
    "A.I*np.linalg.det(A)"
   ]
  },
  {
   "cell_type": "code",
   "execution_count": 25,
   "id": "4070fd22",
   "metadata": {},
   "outputs": [
    {
     "name": "stdout",
     "output_type": "stream",
     "text": [
      "Determinant of B =  4\n",
      "Adjoint of B:\n"
     ]
    },
    {
     "data": {
      "text/plain": [
       "matrix([[15., 10., -3.],\n",
       "        [ 0.,  0.,  1.],\n",
       "        [-5., -5.,  1.]])"
      ]
     },
     "execution_count": 25,
     "metadata": {},
     "output_type": "execute_result"
    }
   ],
   "source": [
    "print(\"Determinant of B = \",int(np.linalg.det(B)));\n",
    "print(\"Adjoint of B:\");\n",
    "B.I*np.linalg.det(B)"
   ]
  },
  {
   "cell_type": "markdown",
   "id": "969799e0",
   "metadata": {},
   "source": [
    "## Assignment\n",
    "### Pradyumn Agarwal\n",
    "### 2140327 - 5PME\n",
    "**Date: 29-09-23**"
   ]
  },
  {
   "cell_type": "code",
   "execution_count": 3,
   "id": "a21c29c7",
   "metadata": {},
   "outputs": [],
   "source": [
    "import numpy as np\n",
    "import sympy as sym"
   ]
  },
  {
   "cell_type": "markdown",
   "id": "c7322b22",
   "metadata": {},
   "source": [
    "> WAP to find the following for the given matrix.<br>\n",
    "  $\\quad A = \\begin{bmatrix}\n",
    "                6 & 1  & 1\\\\\n",
    "                4 & −2 & 5\\\\\n",
    "                2 & 8  & 7\n",
    "           \\end{bmatrix}\n",
    "  $\n",
    "> 1. Inverse of the matrix A using Gauss - Elimination method.\n",
    "> 2. Inverse of the matrix A using numpy.\n",
    "> 3. Determinant of A and hence the adjoint of the matrix ."
   ]
  },
  {
   "cell_type": "markdown",
   "id": "54b0c26c",
   "metadata": {},
   "source": [
    "**Inverse Using Gauss - Elimination method**"
   ]
  },
  {
   "cell_type": "code",
   "execution_count": 4,
   "id": "f6fb873a",
   "metadata": {},
   "outputs": [],
   "source": [
    "A = np.matrix([[6, 1, 1],[4, -2, 5],[2, 8, 7]],float)"
   ]
  },
  {
   "cell_type": "code",
   "execution_count": 5,
   "id": "a7f93864",
   "metadata": {},
   "outputs": [
    {
     "name": "stdout",
     "output_type": "stream",
     "text": [
      "[[ 1.          0.          0.          0.17647059 -0.00326797 -0.02287582]\n",
      " [ 0.          1.          0.          0.05882353 -0.13071895  0.08496732]\n",
      " [ 0.          0.          1.         -0.11764706  0.1503268   0.05228758]]\n"
     ]
    },
    {
     "data": {
      "text/plain": [
       "matrix([[ 0.17647059, -0.00326797, -0.02287582],\n",
       "        [ 0.05882353, -0.13071895,  0.08496732],\n",
       "        [-0.11764706,  0.1503268 ,  0.05228758]])"
      ]
     },
     "execution_count": 5,
     "metadata": {},
     "output_type": "execute_result"
    }
   ],
   "source": [
    "def redRowEchelon(mat):\n",
    "    for i in range(min(mat.shape)):\n",
    "        row = mat[i,:].A1\n",
    "        if(row[i] == 0):\n",
    "            continue;\n",
    "        row = row/row[i];\n",
    "        mat[i,:] = row\n",
    "        for j in range(mat.shape[0]):\n",
    "            if(j==i):\n",
    "                continue;\n",
    "            mat[j,:] = mat[j,:] - (mat[j,i]*row)\n",
    "        #print(mat)\n",
    "    return mat\n",
    "\n",
    "def geInverse(A):\n",
    "    mat = np.insert(arr=A,obj=A.shape[1],values=np.identity(A.shape[1]),axis=1)\n",
    "    mat = redRowEchelon(mat)\n",
    "    print(mat)\n",
    "    return mat[:,A.shape[1]:];\n",
    "geInverse(A)"
   ]
  },
  {
   "cell_type": "markdown",
   "id": "d506e15e",
   "metadata": {},
   "source": [
    "**Inverse using numpy**"
   ]
  },
  {
   "cell_type": "code",
   "execution_count": 6,
   "id": "2964782c",
   "metadata": {},
   "outputs": [
    {
     "data": {
      "text/plain": [
       "matrix([[ 0.17647059, -0.00326797, -0.02287582],\n",
       "        [ 0.05882353, -0.13071895,  0.08496732],\n",
       "        [-0.11764706,  0.1503268 ,  0.05228758]])"
      ]
     },
     "execution_count": 6,
     "metadata": {},
     "output_type": "execute_result"
    }
   ],
   "source": [
    "A.I"
   ]
  },
  {
   "cell_type": "code",
   "execution_count": 7,
   "id": "0e11540d",
   "metadata": {},
   "outputs": [
    {
     "name": "stdout",
     "output_type": "stream",
     "text": [
      "Determinant =  -306.0\n",
      "Adjoint - \n"
     ]
    },
    {
     "data": {
      "text/plain": [
       "matrix([[-54.,   1.,   7.],\n",
       "        [-18.,  40., -26.],\n",
       "        [ 36., -46., -16.]])"
      ]
     },
     "execution_count": 7,
     "metadata": {},
     "output_type": "execute_result"
    }
   ],
   "source": [
    "determinant_A = np.linalg.det(A)\n",
    "print(\"Determinant = \",determinant_A)\n",
    "print(\"Adjoint - \");\n",
    "determinant_A*A.I"
   ]
  },
  {
   "cell_type": "markdown",
   "id": "25976b63",
   "metadata": {},
   "source": [
    "> Given the system of linear equations.<br>\n",
    "    $\\quad \\quad\n",
    "    \\begin{align}\n",
    "\t\t3x - 5y + 4z &= 5\\\\\n",
    "\t\t5x + 2y + z  &= 0\\\\\n",
    "\t\t2x + 3y - 2z &= 3\n",
    "    \\end{align}\n",
    "    $<br>\n",
    "> WAP to find the following.\n",
    "    > 1. The eigenvalues and corresponding eigen vectors of the coefficient matrix.\n",
    "    > 2. Solve the system of equations using Cramer’s rule and print the solution.\n",
    "    > 3. Find the transpose of the coefficient matrix and hence the trace."
   ]
  },
  {
   "cell_type": "code",
   "execution_count": 8,
   "id": "2bd7a971",
   "metadata": {},
   "outputs": [
    {
     "name": "stdout",
     "output_type": "stream",
     "text": [
      "Coefficient Matrix\n",
      "[[ 3 -5  4]\n",
      " [ 5  2  1]\n",
      " [ 2  3 -2]]\n",
      "Constant Matrix\n",
      "[[5]\n",
      " [0]\n",
      " [3]]\n"
     ]
    }
   ],
   "source": [
    "A = np.matrix([[3,-5,4],\n",
    "               [5,2,1],\n",
    "               [2,3,-2]])\n",
    "B = np.matrix([[5],[0],[3]])\n",
    "print(\"Coefficient Matrix\")\n",
    "print(A)\n",
    "print(\"Constant Matrix\")\n",
    "print(B)"
   ]
  },
  {
   "cell_type": "markdown",
   "id": "ffaf8acf",
   "metadata": {},
   "source": [
    "**Eigenvalues and Eigenvectors**"
   ]
  },
  {
   "cell_type": "code",
   "execution_count": 9,
   "id": "06e2874f",
   "metadata": {},
   "outputs": [
    {
     "name": "stdout",
     "output_type": "stream",
     "text": [
      "Eigenvalues =  [ 2.45481218+3.65368793j  2.45481218-3.65368793j -1.90962436+0.j        ]\n",
      "Eigenvectors:\n",
      "[[ 0.01569385-0.54750431j  0.01569385+0.54750431j -0.40422239+0.j        ]\n",
      " [-0.72490133+0.j         -0.72490133-0.j          0.29555775+0.j        ]\n",
      " [-0.40816322+0.08895828j -0.40816322-0.08895828j  0.86559221+0.j        ]]\n"
     ]
    }
   ],
   "source": [
    "\n",
    "eigen = np.linalg.eig(A)\n",
    "print(\"Eigenvalues = \",eigen[0])\n",
    "print(\"Eigenvectors:\")\n",
    "print(eigen[1])"
   ]
  },
  {
   "cell_type": "markdown",
   "id": "d774bec6",
   "metadata": {},
   "source": [
    "**Solving using Cramers rule**"
   ]
  },
  {
   "cell_type": "code",
   "execution_count": 11,
   "id": "78671c17",
   "metadata": {},
   "outputs": [
    {
     "name": "stdout",
     "output_type": "stream",
     "text": [
      "[1.9999999999999996, -3.0, -3.999999999999999]\n"
     ]
    }
   ],
   "source": [
    "D = [];\n",
    "for i in range(0,A.shape[0]):\n",
    "    C = A.T.copy();\n",
    "    C[i] = B.T;\n",
    "    C = C.T;\n",
    "    D.append(np.linalg.det(C))\n",
    "D.append(np.linalg.det(A))\n",
    "X = [D[i]/D[-1] for i in range(0,A.shape[0])]\n",
    "print(X)"
   ]
  },
  {
   "cell_type": "markdown",
   "id": "67ebcb00",
   "metadata": {},
   "source": [
    "**Transpose and Trace**"
   ]
  },
  {
   "cell_type": "code",
   "execution_count": 12,
   "id": "cb6cf674",
   "metadata": {},
   "outputs": [
    {
     "name": "stdout",
     "output_type": "stream",
     "text": [
      "Transpose of Matrix: \n",
      "[[ 3  5  2]\n",
      " [-5  2  3]\n",
      " [ 4  1 -2]]\n",
      "Trace of Matrix: \n",
      "3\n"
     ]
    }
   ],
   "source": [
    "print(\"Transpose of Matrix: \")\n",
    "print(A.T)\n",
    "\n",
    "print(\"Trace of Matrix: \")\n",
    "print(np.trace(A))"
   ]
  },
  {
   "cell_type": "markdown",
   "id": "52ab5d7d",
   "metadata": {},
   "source": [
    "> WAP to find the rank of $P+Q$ <br>\n",
    "$\n",
    "\\quad \\quad\n",
    "P = \\begin{bmatrix}\n",
    "          1 &1 &−1\\\\\n",
    "          2 &−3& 4\\\\\n",
    "          3 &−2& 3\n",
    "     \\end{bmatrix}\n",
    "\\quad\n",
    "Q = \\begin{bmatrix}\n",
    "         −1 &−2 &−1\\\\\n",
    "          6 &12 &6\\\\\n",
    "          5 &10 &5\n",
    "     \\end{bmatrix}\n",
    "$\n"
   ]
  },
  {
   "cell_type": "code",
   "execution_count": 13,
   "id": "4d006f72",
   "metadata": {},
   "outputs": [
    {
     "name": "stdout",
     "output_type": "stream",
     "text": [
      "Rank =  1\n"
     ]
    }
   ],
   "source": [
    "def rowEchelon(A):\n",
    "    mat = A.copy()\n",
    "    for i in range(min(mat.shape)):\n",
    "        row = mat[i,:].A1\n",
    "        if(row[i] == 0):\n",
    "            continue;\n",
    "        row = row/row[i];\n",
    "        mat[i,:] = row\n",
    "        for j in range(i+1,mat.shape[0]):\n",
    "            mat[j,:] = mat[j,:] - (mat[j,i]*row)\n",
    "        #print(mat)\n",
    "    return mat\n",
    "\n",
    "def getRank(mat):\n",
    "    flag = ~rowEchelon(mat).astype(bool).A\n",
    "    rem = []\n",
    "    #flag = np.delete(flag,next((i for i in range(len(flag)) if(flag[i].all())),[]),0)\n",
    "    for i in range(len(flag)):\n",
    "        if i in rem:\n",
    "            continue;\n",
    "        for j in range(i+1,len(flag)):\n",
    "            if j in rem:\n",
    "                continue;\n",
    "            if((flag[i]==flag[j]).all() or flag[j].all()):\n",
    "                rem.append(j)\n",
    "    flag = np.delete(flag,rem,0)\n",
    "    return len(flag)\n",
    "P = np.matrix([\n",
    "    [1, 1, -1],\n",
    "    [2, -3, 4],\n",
    "    [3, -2, 3]])\n",
    "Q = np.matrix([\n",
    "    [-1, -2, -1],\n",
    "    [6, 12, 6],\n",
    "    [5, 10, 5]])\n",
    "print(\"Rank = \",getRank(P+Q))"
   ]
  },
  {
   "cell_type": "markdown",
   "id": "95f7881c",
   "metadata": {},
   "source": [
    "> WAP to find the nullity of the matrix B.<br>\n",
    "$\n",
    "\\quad \\quad\n",
    "B = \\begin{bmatrix}\n",
    "        0 & 1 & 0 & 0 & 0 \\\\\n",
    "        1 & 0 & 0 & 0 & 0 \\\\\n",
    "        0 & 0 & 0 & 0 & 0\n",
    "     \\end{bmatrix}\n",
    "$\n"
   ]
  },
  {
   "cell_type": "code",
   "execution_count": 18,
   "id": "06f0edff",
   "metadata": {},
   "outputs": [
    {
     "name": "stdout",
     "output_type": "stream",
     "text": [
      "Nullity = 1\n"
     ]
    }
   ],
   "source": [
    "B = np.matrix([\n",
    "    [0, 1, 0, 0, 0],\n",
    "    [1, 0, 0, 0, 0],\n",
    "    [0, 0, 0, 0, 0]])\n",
    "print(\"Nullity =\",B.shape[0] - getRank(B))"
   ]
  },
  {
   "cell_type": "markdown",
   "id": "81f155b5",
   "metadata": {},
   "source": [
    "> WAP to prove rank - nullity theorem of the matrix C.<br>\n",
    "$\n",
    "\\quad \\quad\n",
    "C = \\begin{bmatrix}\n",
    "        1 &2 &13\\\\\n",
    "        4 &−5& 6\\\\\n",
    "        −7& 18& 9\n",
    "     \\end{bmatrix}\n",
    "$\n"
   ]
  },
  {
   "cell_type": "code",
   "execution_count": 52,
   "id": "21589ef7",
   "metadata": {},
   "outputs": [
    {
     "name": "stdout",
     "output_type": "stream",
     "text": [
      "Rank =  3\n",
      "Dimension = 3\n",
      "Nullity =  0\n",
      "True\n"
     ]
    }
   ],
   "source": [
    "C = np.matrix([\n",
    "    [1,2 ,13],\n",
    "    [4 ,-5, 6],\n",
    "    [-7 ,18,9]])\n",
    "rank = getRank(C)\n",
    "dim = C.shape[0]\n",
    "nullSpace = np.linalg.solve(C,np.zeros((C.shape[1],1)))\n",
    "print(\"Rank = \",rank)\n",
    "print(\"Dimension =\",dim)\n",
    "\n",
    "print(\"Nullity = \",nullSpace.shape[1] - 1)\n",
    "print((rank + nullSpace.shape[1] - 1 == dim))"
   ]
  },
  {
   "cell_type": "markdown",
   "id": "00910af2",
   "metadata": {},
   "source": [
    "## LAB 4: Linear Dependence\n",
    "\n",
    "**Dates: 16-10-23**"
   ]
  },
  {
   "cell_type": "code",
   "execution_count": 1,
   "id": "67a597bc",
   "metadata": {},
   "outputs": [],
   "source": [
    "import numpy as np"
   ]
  },
  {
   "cell_type": "markdown",
   "id": "cdbc4a27",
   "metadata": {},
   "source": [
    "> WAP to check if a vector can be a linear combination of given vectors"
   ]
  },
  {
   "cell_type": "code",
   "execution_count": 87,
   "id": "9a02c29e",
   "metadata": {},
   "outputs": [],
   "source": [
    "def checkLinearComb(M,b):\n",
    "    M = M.T;\n",
    "    b = b.T;\n",
    "    C = np.linalg.solve(M,b);\n",
    "    B = sum([C[i,0]*a[i] for i in range(len(a))])\n",
    "    return [b.all() == B.all(),C]"
   ]
  },
  {
   "cell_type": "code",
   "execution_count": 88,
   "id": "ad68851e",
   "metadata": {},
   "outputs": [
    {
     "data": {
      "text/plain": [
       "[True,\n",
       " matrix([[-0.55555556],\n",
       "         [ 2.22222222],\n",
       "         [ 0.33333333]])]"
      ]
     },
     "execution_count": 88,
     "metadata": {},
     "output_type": "execute_result"
    }
   ],
   "source": [
    "a = np.matrix([[1,5,-1],[1,2,2],[1,4,3]])\n",
    "b = np.matrix([2,3,6])\n",
    "checkLinearComb(a,b)"
   ]
  },
  {
   "cell_type": "markdown",
   "id": "de4372b7",
   "metadata": {},
   "source": [
    "> Check if <2,1,3> is a linear combination of <1,2,3>, <3,2,1> and <2,3,1>"
   ]
  },
  {
   "cell_type": "code",
   "execution_count": 89,
   "id": "23d7941d",
   "metadata": {},
   "outputs": [
    {
     "data": {
      "text/plain": [
       "[True,\n",
       " matrix([[ 1.],\n",
       "         [ 1.],\n",
       "         [-1.]])]"
      ]
     },
     "execution_count": 89,
     "metadata": {},
     "output_type": "execute_result"
    }
   ],
   "source": [
    "a = np.matrix([[1,2,3],[3,2,1],[2,3,1]])\n",
    "b = np.matrix([2,1,3])\n",
    "checkLinearComb(a,b)"
   ]
  },
  {
   "cell_type": "markdown",
   "id": "2694a8e6",
   "metadata": {},
   "source": [
    "> WAP to express <1,2,1> is a linear combination of <1,1,0>, <0,1,-1> and <1,2,-1>"
   ]
  },
  {
   "cell_type": "code",
   "execution_count": 90,
   "id": "0dda92bf",
   "metadata": {},
   "outputs": [],
   "source": [
    "def printVector(x):\n",
    "    return \"<\"+\",\".join([str(i) for i in x])+\">\"\n",
    "def printAsCombination(a,b,c):\n",
    "    return printVector(b.A1) + \" = \" + \" + \".join([str(int(c.A1[i]))+\"·\"+printVector(a.A[i]) for i in range(len(a.A))]);"
   ]
  },
  {
   "cell_type": "code",
   "execution_count": 91,
   "id": "a80832a6",
   "metadata": {},
   "outputs": [
    {
     "name": "stdout",
     "output_type": "stream",
     "text": [
      "The linear combination is- \n",
      "<1,2,1> = 3·<1,1,0> + 1·<0,1,-1> + -2·<1,1,-1>\n"
     ]
    }
   ],
   "source": [
    "a = np.matrix([[1,1,0],[0,1,-1],[1,1,-1]])\n",
    "b = np.matrix([1,2,1])\n",
    "c = checkLinearComb(a,b)[-1]\n",
    "print(\"The linear combination is- \");\n",
    "print(printAsCombination(a,b,c))"
   ]
  },
  {
   "cell_type": "code",
   "execution_count": 92,
   "id": "43d3815c",
   "metadata": {},
   "outputs": [
    {
     "name": "stdout",
     "output_type": "stream",
     "text": [
      "The linear combination is- \n",
      "<6,4,3> = 1·<1,2,-1> + 2·<3,1,2> + 0·<3,2,-1>\n"
     ]
    }
   ],
   "source": [
    "a = np.matrix([[1,2,-1],[3,1,2],[3,2,-1]])\n",
    "b = np.matrix([6,4,3])\n",
    "c = checkLinearComb(a,b)[-1]\n",
    "print(\"The linear combination is- \");\n",
    "print(printAsCombination(a,b,c))"
   ]
  }
 ],
 "metadata": {
  "kernelspec": {
   "display_name": "Python 3 (ipykernel)",
   "language": "python",
   "name": "python3"
  },
  "language_info": {
   "codemirror_mode": {
    "name": "ipython",
    "version": 3
   },
   "file_extension": ".py",
   "mimetype": "text/x-python",
   "name": "python",
   "nbconvert_exporter": "python",
   "pygments_lexer": "ipython3",
   "version": "3.9.12"
  }
 },
 "nbformat": 4,
 "nbformat_minor": 5
}
