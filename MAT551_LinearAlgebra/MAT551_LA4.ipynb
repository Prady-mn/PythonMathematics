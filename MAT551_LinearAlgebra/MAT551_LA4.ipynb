{
 "cells": [
  {
   "cell_type": "markdown",
   "id": "00910af2",
   "metadata": {},
   "source": [
    "## LAB 4: Linear Dependence\n",
    "\n",
    "**Dates: 16-10-23**"
   ]
  },
  {
   "cell_type": "code",
   "execution_count": 1,
   "id": "67a597bc",
   "metadata": {},
   "outputs": [],
   "source": [
    "import numpy as np"
   ]
  },
  {
   "cell_type": "markdown",
   "id": "cdbc4a27",
   "metadata": {},
   "source": [
    "> WAP to check if a vector can be a linear combination of given vectors"
   ]
  },
  {
   "cell_type": "code",
   "execution_count": 87,
   "id": "9a02c29e",
   "metadata": {},
   "outputs": [],
   "source": [
    "def checkLinearComb(M,b):\n",
    "    M = M.T;\n",
    "    b = b.T;\n",
    "    C = np.linalg.solve(M,b);\n",
    "    B = sum([C[i,0]*a[i] for i in range(len(a))])\n",
    "    return [b.all() == B.all(),C]"
   ]
  },
  {
   "cell_type": "code",
   "execution_count": 88,
   "id": "ad68851e",
   "metadata": {},
   "outputs": [
    {
     "data": {
      "text/plain": [
       "[True,\n",
       " matrix([[-0.55555556],\n",
       "         [ 2.22222222],\n",
       "         [ 0.33333333]])]"
      ]
     },
     "execution_count": 88,
     "metadata": {},
     "output_type": "execute_result"
    }
   ],
   "source": [
    "a = np.matrix([[1,5,-1],[1,2,2],[1,4,3]])\n",
    "b = np.matrix([2,3,6])\n",
    "checkLinearComb(a,b)"
   ]
  },
  {
   "cell_type": "markdown",
   "id": "de4372b7",
   "metadata": {},
   "source": [
    "> Check if <2,1,3> is a linear combination of <1,2,3>, <3,2,1> and <2,3,1>"
   ]
  },
  {
   "cell_type": "code",
   "execution_count": 89,
   "id": "23d7941d",
   "metadata": {},
   "outputs": [
    {
     "data": {
      "text/plain": [
       "[True,\n",
       " matrix([[ 1.],\n",
       "         [ 1.],\n",
       "         [-1.]])]"
      ]
     },
     "execution_count": 89,
     "metadata": {},
     "output_type": "execute_result"
    }
   ],
   "source": [
    "a = np.matrix([[1,2,3],[3,2,1],[2,3,1]])\n",
    "b = np.matrix([2,1,3])\n",
    "checkLinearComb(a,b)"
   ]
  },
  {
   "cell_type": "markdown",
   "id": "2694a8e6",
   "metadata": {},
   "source": [
    "> WAP to express <1,2,1> is a linear combination of <1,1,0>, <0,1,-1> and <1,2,-1>"
   ]
  },
  {
   "cell_type": "code",
   "execution_count": 90,
   "id": "0dda92bf",
   "metadata": {},
   "outputs": [],
   "source": [
    "def printVector(x):\n",
    "    return \"<\"+\",\".join([str(i) for i in x])+\">\"\n",
    "def printAsCombination(a,b,c):\n",
    "    return printVector(b.A1) + \" = \" + \" + \".join([str(int(c.A1[i]))+\"·\"+printVector(a.A[i]) for i in range(len(a.A))]);"
   ]
  },
  {
   "cell_type": "code",
   "execution_count": 91,
   "id": "a80832a6",
   "metadata": {},
   "outputs": [
    {
     "name": "stdout",
     "output_type": "stream",
     "text": [
      "The linear combination is- \n",
      "<1,2,1> = 3·<1,1,0> + 1·<0,1,-1> + -2·<1,1,-1>\n"
     ]
    }
   ],
   "source": [
    "a = np.matrix([[1,1,0],[0,1,-1],[1,1,-1]])\n",
    "b = np.matrix([1,2,1])\n",
    "c = checkLinearComb(a,b)[-1]\n",
    "print(\"The linear combination is- \");\n",
    "print(printAsCombination(a,b,c))"
   ]
  },
  {
   "cell_type": "code",
   "execution_count": 92,
   "id": "43d3815c",
   "metadata": {},
   "outputs": [
    {
     "name": "stdout",
     "output_type": "stream",
     "text": [
      "The linear combination is- \n",
      "<6,4,3> = 1·<1,2,-1> + 2·<3,1,2> + 0·<3,2,-1>\n"
     ]
    }
   ],
   "source": [
    "a = np.matrix([[1,2,-1],[3,1,2],[3,2,-1]])\n",
    "b = np.matrix([6,4,3])\n",
    "c = checkLinearComb(a,b)[-1]\n",
    "print(\"The linear combination is- \");\n",
    "print(printAsCombination(a,b,c))"
   ]
  }
 ],
 "metadata": {
  "kernelspec": {
   "display_name": "Python 3 (ipykernel)",
   "language": "python",
   "name": "python3"
  },
  "language_info": {
   "codemirror_mode": {
    "name": "ipython",
    "version": 3
   },
   "file_extension": ".py",
   "mimetype": "text/x-python",
   "name": "python",
   "nbconvert_exporter": "python",
   "pygments_lexer": "ipython3",
   "version": "3.10.5"
  }
 },
 "nbformat": 4,
 "nbformat_minor": 5
}
