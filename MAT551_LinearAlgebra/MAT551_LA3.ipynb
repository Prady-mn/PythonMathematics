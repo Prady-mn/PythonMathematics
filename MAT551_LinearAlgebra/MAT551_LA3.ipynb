{
 "cells": [
  {
   "cell_type": "markdown",
   "id": "b59bd728",
   "metadata": {},
   "source": [
    "## LAB 3: Eigenvalue and Eigenvector\n",
    "\n",
    "**Dates: 08-08-23**"
   ]
  },
  {
   "cell_type": "markdown",
   "id": "51e84d86",
   "metadata": {},
   "source": [
    "> WAP to find the Eigenvalue of a given Matrix"
   ]
  },
  {
   "cell_type": "code",
   "execution_count": 7,
   "id": "573112ee",
   "metadata": {},
   "outputs": [
    {
     "name": "stdout",
     "output_type": "stream",
     "text": [
      "Eigenvalue =  [-1.42668648e-16+1.j -1.42668648e-16-1.j  8.54650083e-17+0.j]\n"
     ]
    }
   ],
   "source": [
    "import numpy as np\n",
    "#myMat = np.matrix(eval(input(\"Enter Matrix:\")));\n",
    "myMat = np.matrix([[1,-1,1],[1,0,0],[-1,1,-1]])\n",
    "evalue = np.linalg.eigvals(myMat)\n",
    "print(\"Eigenvalue = \",evalue)"
   ]
  },
  {
   "cell_type": "code",
   "execution_count": 14,
   "id": "225b15ac",
   "metadata": {},
   "outputs": [
    {
     "name": "stdout",
     "output_type": "stream",
     "text": [
      "Eigenvector =  (array([4., 2.]), matrix([[ 0.70710678, -0.70710678],\n",
      "        [ 0.70710678,  0.70710678]]))\n"
     ]
    }
   ],
   "source": [
    "import numpy as np\n",
    "#myMat = np.matrix(eval(input(\"Enter Matrix:\")));\n",
    "#myMat = np.matrix([[1,-1,1],[1,0,0],[-1,1,-1]])\n",
    "myMat = np.matrix([[3,1],[1,3]])\n",
    "evec = np.linalg.eig(myMat)\n",
    "#print(\"Eigenvalue = \",evalue)\n",
    "print(\"Eigenvector = \",evec)"
   ]
  },
  {
   "cell_type": "code",
   "execution_count": null,
   "id": "0d9bc9b0",
   "metadata": {},
   "outputs": [],
   "source": []
  }
 ],
 "metadata": {
  "kernelspec": {
   "display_name": "Python 3 (ipykernel)",
   "language": "python",
   "name": "python3"
  },
  "language_info": {
   "codemirror_mode": {
    "name": "ipython",
    "version": 3
   },
   "file_extension": ".py",
   "mimetype": "text/x-python",
   "name": "python",
   "nbconvert_exporter": "python",
   "pygments_lexer": "ipython3",
   "version": "3.10.5"
  }
 },
 "nbformat": 4,
 "nbformat_minor": 5
}
