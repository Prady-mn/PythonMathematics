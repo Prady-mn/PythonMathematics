{
 "cells": [
  {
   "cell_type": "markdown",
   "id": "d9ad01e2",
   "metadata": {},
   "source": [
    "## MID SEM EXAMINATION\n",
    "### Pradyumn Agarwal\n",
    "### 2140327 - 5PME\n",
    "**Date: 04-10-23**"
   ]
  },
  {
   "cell_type": "code",
   "execution_count": 9,
   "id": "9b3898fa",
   "metadata": {},
   "outputs": [],
   "source": [
    "import numpy as np\n",
    "import sympy as sym"
   ]
  },
  {
   "cell_type": "code",
   "execution_count": 10,
   "id": "ad55db05",
   "metadata": {},
   "outputs": [],
   "source": [
    "# Q3"
   ]
  },
  {
   "cell_type": "code",
   "execution_count": 47,
   "id": "c2d18e5f",
   "metadata": {},
   "outputs": [],
   "source": [
    "#F @ 21\n",
    "#P @ 27\n",
    "#U @ 27\n",
    "\n",
    "# Total Tickets = 40\n",
    "# Total INR = 2140327\n",
    "# P = 2F\n",
    "\n",
    "#F + P + U = 40\n",
    "#21*F + 27*P +27*U = 2140327\n",
    "#2F - P = 0"
   ]
  },
  {
   "cell_type": "code",
   "execution_count": 48,
   "id": "006c2c5e",
   "metadata": {},
   "outputs": [],
   "source": [
    "F,P,U = sym.symbols(\"F,P,U\")\n",
    "\n",
    "eq1 = sym.Eq(F + P + U, 40)\n",
    "eq2 = sym.Eq(21*F + 27*P +27*U, 2140327)\n",
    "eq3 = sym.Eq(2*F - P, 0)"
   ]
  },
  {
   "cell_type": "code",
   "execution_count": 49,
   "id": "4b35d89b",
   "metadata": {},
   "outputs": [
    {
     "name": "stdout",
     "output_type": "stream",
     "text": [
      "The Equations are- \n"
     ]
    }
   ],
   "source": [
    "print(\"The Equations are- \")"
   ]
  },
  {
   "cell_type": "code",
   "execution_count": 50,
   "id": "ac3e8f63",
   "metadata": {},
   "outputs": [
    {
     "data": {
      "text/latex": [
       "$\\displaystyle F + P + U = 40$"
      ],
      "text/plain": [
       "Eq(F + P + U, 40)"
      ]
     },
     "execution_count": 50,
     "metadata": {},
     "output_type": "execute_result"
    }
   ],
   "source": [
    "eq1"
   ]
  },
  {
   "cell_type": "code",
   "execution_count": 51,
   "id": "aa59641f",
   "metadata": {},
   "outputs": [
    {
     "data": {
      "text/latex": [
       "$\\displaystyle 21 F + 27 P + 27 U = 2140327$"
      ],
      "text/plain": [
       "Eq(21*F + 27*P + 27*U, 2140327)"
      ]
     },
     "execution_count": 51,
     "metadata": {},
     "output_type": "execute_result"
    }
   ],
   "source": [
    "eq2"
   ]
  },
  {
   "cell_type": "code",
   "execution_count": 52,
   "id": "6a881b40",
   "metadata": {},
   "outputs": [
    {
     "data": {
      "text/latex": [
       "$\\displaystyle 2 F - P = 0$"
      ],
      "text/plain": [
       "Eq(2*F - P, 0)"
      ]
     },
     "execution_count": 52,
     "metadata": {},
     "output_type": "execute_result"
    }
   ],
   "source": [
    "eq3"
   ]
  },
  {
   "cell_type": "code",
   "execution_count": 53,
   "id": "9ec10ef7",
   "metadata": {},
   "outputs": [
    {
     "data": {
      "text/plain": [
       "{F: -2139247/6, P: -2139247/3, U: 2139327/2}"
      ]
     },
     "execution_count": 53,
     "metadata": {},
     "output_type": "execute_result"
    }
   ],
   "source": [
    "sym.solve([eq1,eq2,eq3])"
   ]
  },
  {
   "cell_type": "code",
   "execution_count": 54,
   "id": "09ad6454",
   "metadata": {},
   "outputs": [],
   "source": [
    "#SOLVING WITH MATRIX INVERSE METHOD"
   ]
  },
  {
   "cell_type": "code",
   "execution_count": 55,
   "id": "553826de",
   "metadata": {},
   "outputs": [
    {
     "name": "stdout",
     "output_type": "stream",
     "text": [
      "[[ 1  1  1]\n",
      " [21 27 27]\n",
      " [ 2 -1  0]]\n",
      "Solution for number of tickets is -\n",
      "{F: -356541.1666666668, P: -713082.3333333336, U: 1069663.5000000005}\n"
     ]
    }
   ],
   "source": [
    "A = np.matrix([[1,1,1],\n",
    "               [21,27,27],\n",
    "               [2,-1,0]])\n",
    "X = np.matrix([[F],[P],[U]])\n",
    "B = np.matrix([[40],[2140327],[0]])\n",
    "print(A)\n",
    "if(np.linalg.det(A) == 0):\n",
    "    print(\"NOT POSSIBLE\");\n",
    "else:\n",
    "    X_ = (A.I)*B\n",
    "    print(\"Solution for number of tickets is -\")\n",
    "    print(dict(zip(X.A1,X_.A1)))"
   ]
  },
  {
   "cell_type": "code",
   "execution_count": 56,
   "id": "c75eb845",
   "metadata": {},
   "outputs": [],
   "source": [
    "#SOLVING WITH CRAMERS RULE"
   ]
  },
  {
   "cell_type": "code",
   "execution_count": 57,
   "id": "51e120f9",
   "metadata": {},
   "outputs": [
    {
     "name": "stdout",
     "output_type": "stream",
     "text": [
      "Solution for number of tickets is -\n",
      "{F: -356541.1666666669, P: -713082.333333334, U: 1069663.5000000005}\n"
     ]
    }
   ],
   "source": [
    "A = np.matrix([[1,1,1],\n",
    "               [21,27,27],\n",
    "               [2,-1,0]])\n",
    "B = np.matrix([[40],[2140327],[0]])\n",
    "X = np.matrix([[F],[P],[U]])\n",
    "D = []\n",
    "for i in range(0,A.shape[0]):\n",
    "    C = (A.T).copy()\n",
    "    C[i] = B.T\n",
    "    C = C.T\n",
    "    D.append(np.linalg.det(C))\n",
    "D.append(np.linalg.det(A));\n",
    "SOL = [D[i]/D[-1] for i in range(len(D)-1)]\n",
    "print(\"Solution for number of tickets is -\")\n",
    "print(dict(zip(X.A1,SOL)))"
   ]
  },
  {
   "cell_type": "code",
   "execution_count": 58,
   "id": "a3e68090",
   "metadata": {},
   "outputs": [],
   "source": [
    "# Q4"
   ]
  },
  {
   "cell_type": "code",
   "execution_count": 59,
   "id": "3d73e78b",
   "metadata": {},
   "outputs": [
    {
     "data": {
      "text/plain": [
       "matrix([[1, 1, 2],\n",
       "        [1, 2, 1],\n",
       "        [2, 7, 8]])"
      ]
     },
     "execution_count": 59,
     "metadata": {},
     "output_type": "execute_result"
    }
   ],
   "source": [
    "A = np.matrix([[1,1,2],\n",
    "               [1,2,1],\n",
    "               [2,7,8]])\n",
    "A"
   ]
  },
  {
   "cell_type": "code",
   "execution_count": 81,
   "id": "88f7d626",
   "metadata": {},
   "outputs": [
    {
     "data": {
      "text/plain": [
       "matrix([[ 1,  1,  2],\n",
       "        [-1,  0, -3],\n",
       "        [ 0,  5,  0]])"
      ]
     },
     "execution_count": 81,
     "metadata": {},
     "output_type": "execute_result"
    }
   ],
   "source": [
    "B = np.matrix([[1,1,2],\n",
    "               [-1,0,-3],\n",
    "               [0,5,0]])\n",
    "B"
   ]
  },
  {
   "cell_type": "code",
   "execution_count": 82,
   "id": "7a75ddee",
   "metadata": {},
   "outputs": [
    {
     "name": "stdout",
     "output_type": "stream",
     "text": [
      "Equivalent Matrix is -\n"
     ]
    },
    {
     "data": {
      "text/plain": [
       "matrix([[ 1,  1,  2],\n",
       "        [ 0,  1, -1],\n",
       "        [ 0,  0,  1]])"
      ]
     },
     "execution_count": 82,
     "metadata": {},
     "output_type": "execute_result"
    }
   ],
   "source": [
    "# (a)\n",
    "print(\"Equivalent Matrix is -\")\n",
    "for i in range(B.shape[0]):\n",
    "    if(B[i,i] == 0):\n",
    "        continue;\n",
    "    B[i] = B[i]/B[i,i];\n",
    "    for j in range(i+1,B.shape[1]):\n",
    "        B[j] = B[j] - B[j,i]*B[i] \n",
    "B"
   ]
  },
  {
   "cell_type": "code",
   "execution_count": 63,
   "id": "c2fbc17f",
   "metadata": {},
   "outputs": [
    {
     "name": "stdout",
     "output_type": "stream",
     "text": [
      "Determinant of A =  9.000000000000002\n",
      "Adjoint Matrix -\n",
      "[[ 9.  6. -3.]\n",
      " [-6.  4.  1.]\n",
      " [ 3. -5.  1.]]\n"
     ]
    }
   ],
   "source": [
    "# (b)\n",
    "\n",
    "det_A = np.linalg.det(A)\n",
    "print(\"Determinant of A = \",det_A)\n",
    "\n",
    "adj_A = det_A*(A.I)\n",
    "print(\"Adjoint Matrix -\")\n",
    "print(adj_A)"
   ]
  },
  {
   "cell_type": "code",
   "execution_count": null,
   "id": "5f5f0316",
   "metadata": {},
   "outputs": [],
   "source": []
  }
 ],
 "metadata": {
  "kernelspec": {
   "display_name": "Python 3 (ipykernel)",
   "language": "python",
   "name": "python3"
  },
  "language_info": {
   "codemirror_mode": {
    "name": "ipython",
    "version": 3
   },
   "file_extension": ".py",
   "mimetype": "text/x-python",
   "name": "python",
   "nbconvert_exporter": "python",
   "pygments_lexer": "ipython3",
   "version": "3.9.12"
  }
 },
 "nbformat": 4,
 "nbformat_minor": 5
}
