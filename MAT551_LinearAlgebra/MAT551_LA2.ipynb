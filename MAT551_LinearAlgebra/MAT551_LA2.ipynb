{
 "cells": [
  {
   "cell_type": "markdown",
   "id": "69b0d55d",
   "metadata": {},
   "source": [
    "## LAB 2: System of Equations"
   ]
  },
  {
   "cell_type": "markdown",
   "id": "f006e827",
   "metadata": {},
   "source": [
    "**Dates: 24-07-23 to 31-07-23**"
   ]
  },
  {
   "cell_type": "markdown",
   "id": "a09f3772",
   "metadata": {},
   "source": [
    "**Row Echelon form of Matrix**<br>\n",
    ">"
   ]
  },
  {
   "cell_type": "code",
   "execution_count": 2,
   "id": "edc72ee3",
   "metadata": {},
   "outputs": [
    {
     "name": "stdout",
     "output_type": "stream",
     "text": [
      "Matrix: \n",
      "[[ 1.  1. -1.  7.]\n",
      " [ 1. -1.  2.  3.]\n",
      " [ 2.  1.  1.  9.]]\n",
      "Row Echelon Form: \n",
      "[[ 1.   1.  -1.   7. ]\n",
      " [-0.   1.  -1.5  2. ]\n",
      " [ 0.   0.   1.  -2. ]]\n"
     ]
    }
   ],
   "source": [
    "import numpy as np\n",
    "\n",
    "def rowEchelon(A):\n",
    "    mat = A.copy()\n",
    "    for i in range(min(mat.shape)):\n",
    "        row = mat[i,:].A1\n",
    "        if(row[i] == 0):\n",
    "            continue;\n",
    "        row = row/row[i];\n",
    "        mat[i,:] = row\n",
    "        for j in range(i+1,mat.shape[0]):\n",
    "            mat[j,:] = mat[j,:] - (mat[j,i]*row)\n",
    "        #print(mat)\n",
    "    return mat\n",
    "\n",
    "#myMat = np.matrix(eval(input(\"Enter Matrix:\")),float);\n",
    "#myMat = np.matrix([[-2,1,-3],[4,5,6],[-4,2,-6],[8,10,12]],float)\n",
    "#myMat = np.matrix([[1,-1,2,2],[2,1,4,7],[4,-1,1,4]],float)\n",
    "#myMat = np.matrix([[2,5,9,2],[4,8,6,3],[5,-4,6,5],[3,9,7,7]],float)\n",
    "myMat = np.matrix([[1,1,-1,7],[1,-1,2,3],[2,1,1,9]],float)\n",
    "\n",
    "print(\"Matrix: \")\n",
    "print(myMat)\n",
    "print(\"Row Echelon Form: \")\n",
    "print(rowEchelon(myMat))"
   ]
  },
  {
   "cell_type": "markdown",
   "id": "740246f7",
   "metadata": {},
   "source": [
    "**Rank of a matrix**<br>\n",
    ">"
   ]
  },
  {
   "cell_type": "code",
   "execution_count": 3,
   "id": "7eb0d18c",
   "metadata": {},
   "outputs": [
    {
     "name": "stdout",
     "output_type": "stream",
     "text": [
      "Matrix: \n",
      "[[-2.  1. -3.]\n",
      " [ 4.  5.  6.]\n",
      " [-4.  2. -6.]\n",
      " [ 8. 10. 12.]]\n",
      "Rank =  2\n"
     ]
    }
   ],
   "source": [
    "def getRank(mat):\n",
    "    flag = ~rowEchelon(mat).astype(bool).A\n",
    "    rem = []\n",
    "    #flag = np.delete(flag,next((i for i in range(len(flag)) if(flag[i].all())),[]),0)\n",
    "    for i in range(len(flag)):\n",
    "        if i in rem:\n",
    "            continue;\n",
    "        for j in range(i+1,len(flag)):\n",
    "            if j in rem:\n",
    "                continue;\n",
    "            if((flag[i]==flag[j]).all() or flag[j].all()):\n",
    "                rem.append(j)\n",
    "    flag = np.delete(flag,rem,0)\n",
    "    return len(flag)\n",
    "\n",
    "#myMat = np.matrix(eval(input(\"Enter Matrix:\")),float);\n",
    "myMat = np.matrix([[-2,1,-3],[4,5,6],[-4,2,-6],[8,10,12]],float)\n",
    "print(\"Matrix: \")\n",
    "print(myMat)\n",
    "print(\"Rank = \",getRank(myMat))"
   ]
  },
  {
   "cell_type": "code",
   "execution_count": 4,
   "id": "2c53edc8",
   "metadata": {},
   "outputs": [
    {
     "name": "stdout",
     "output_type": "stream",
     "text": [
      "Rank =  2\n"
     ]
    }
   ],
   "source": [
    "#Using linalg\n",
    "import numpy as np\n",
    "\n",
    "#myMat = np.matrix(eval(input(\"Enter Matrix:\")));\n",
    "myMat = np.matrix([[-2,1,-3],[4,5,6],[-4,2,-6],[8,10,12]],float)\n",
    "rank = np.linalg.matrix_rank(myMat);\n",
    "print(\"Rank = \",rank)"
   ]
  },
  {
   "cell_type": "markdown",
   "id": "31d4bbea",
   "metadata": {},
   "source": [
    "**Gauss Elemination Method for System of Equations**<br>\n",
    "> We have $\\ldots\\quad\\quad\\quad AX = B$<br>\n",
    "  Then $\\ldots \\quad [A:B] = \\begin{bmatrix}\n",
    "              a_{11} & a_{12} & a_{13} & : & b_{1}\\\\\n",
    "              a_{21} & a_{22} & a_{23} & : & b_{2}\\\\\n",
    "              a_{31} & a_{32} & a_{33} & : & b_{3}\n",
    "           \\end{bmatrix}\n",
    "  $\n",
    "  $\\quad\\sim\\quad \\begin{bmatrix}\n",
    "              a_{11} & a_{12} & a_{13} & : & b_{1}\\\\\n",
    "                 0   & a_{22} & a_{23} & : & b_{2}\\\\\n",
    "                 0   &   0    & a_{33} & : & b_{3}\n",
    "           \\end{bmatrix}\n",
    "  $<br>\n",
    "  Solve for $X$ using transformed $A$ and $B$"
   ]
  },
  {
   "cell_type": "code",
   "execution_count": 5,
   "id": "9cc31445",
   "metadata": {},
   "outputs": [
    {
     "name": "stdout",
     "output_type": "stream",
     "text": [
      "[[ 1.          2.5         4.5         1.          1.        ]\n",
      " [-0.          1.          6.          0.5        -1.5       ]\n",
      " [ 0.          0.          1.          0.1        -0.31212121]\n",
      " [ 0.          0.          0.          1.         -0.95580808]]\n",
      "Solved: \n",
      " [[ 2.23737374]\n",
      " [ 0.27714646]\n",
      " [-0.2165404 ]\n",
      " [-0.95580808]]\n",
      "Solved: \n",
      " [[ 2.23737374]\n",
      " [ 0.27714646]\n",
      " [-0.2165404 ]\n",
      " [-0.95580808]]\n"
     ]
    }
   ],
   "source": [
    "import numpy as np\n",
    "\n",
    "def gaussMethod(A,B):\n",
    "    mat = np.insert(arr=A,obj=A.shape[1],values=B.A1,axis=1)\n",
    "    mat = rowEchelon(mat)\n",
    "    print(mat)\n",
    "    A_ = mat[:,:-1].A #Get Without Last Columns\n",
    "    B_ = mat[:,-1:] #Get Last Column\n",
    "    X = np.matrix(np.zeros(B.shape),float)\n",
    "    varSolved = []\n",
    "    solving = [list(i).count(0) for i in A_]\n",
    "    for i in range(A_.shape[1])[::-1]:\n",
    "        rowIndex = solving.index(i)\n",
    "        row = A_[rowIndex,:]\n",
    "        for j in range(A_.shape[1]):\n",
    "            #print(\"rowele:\",j,\"    \",varSolved)\n",
    "            if((row[j] != 0) and (j not in varSolved)):\n",
    "                varSolved.append(j)\n",
    "                break;\n",
    "        #print(i,varSolved)\n",
    "        X[varSolved[-1],0] = (B_[rowIndex,0] - np.sum([row[k]*X[k,0] for k in range(len(row))]))/row[varSolved[-1]]\n",
    "    #X = np.linalg.solve(mat.T[:-1,:].T,mat.T[-1,:].T)\n",
    "    return(X)\n",
    "A = np.matrix([[2,5,9,2],[4,8,6,3],[5,-4,6,5],[3,9,7,7]],float)\n",
    "#A = np.matrix([[1,-1,2],[2,1,4],[4,-1,1]],float)\n",
    "B = np.matrix([[2],[7],[4],[1]],float)\n",
    "#print(getRank(A))\n",
    "print(\"Solved: \\n\",gaussMethod(A,B))\n",
    "print(\"Solved: \\n\",np.linalg.solve(A,B))"
   ]
  },
  {
   "cell_type": "markdown",
   "id": "c4b1df83",
   "metadata": {},
   "source": [
    "**Reduced Row Echelon Form**<br>\n",
    ">"
   ]
  },
  {
   "cell_type": "code",
   "execution_count": 13,
   "id": "450203a0",
   "metadata": {},
   "outputs": [
    {
     "name": "stdout",
     "output_type": "stream",
     "text": [
      "Matrix: \n",
      "[[ 1.  1. -1.  7.]\n",
      " [ 1. -1.  2.  3.]\n",
      " [ 2.  1.  1.  9.]]\n",
      "Reduced Row Echelon Form: \n",
      "[[ 1.  0.  0.  6.]\n",
      " [ 0.  1.  0. -1.]\n",
      " [ 0.  0.  1. -2.]]\n"
     ]
    }
   ],
   "source": [
    "import numpy as np\n",
    "\n",
    "def redRowEchelon(mat):\n",
    "    for i in range(min(mat.shape)):\n",
    "        row = mat[i,:].A1\n",
    "        if(row[i] == 0):\n",
    "            continue;\n",
    "        row = row/row[i];\n",
    "        mat[i,:] = row\n",
    "        for j in range(mat.shape[0]):\n",
    "            if(j==i):\n",
    "                continue;\n",
    "            mat[j,:] = mat[j,:] - (mat[j,i]*row)\n",
    "        #print(mat)\n",
    "    return mat\n",
    "\n",
    "#myMat = np.matrix(eval(input(\"Enter Matrix:\")),float);\n",
    "#myMat = np.matrix([[-2,1,-3],[4,5,6],[-4,2,-6],[8,10,12]],float)\n",
    "#myMat = np.matrix([[1,-1,2,2],[2,1,4,7],[4,-1,1,4]],float)\n",
    "#myMat = np.matrix([[2,5,9,2],[4,8,6,3],[5,-4,6,5],[3,9,7,7]],float)\n",
    "myMat = np.matrix([[1,1,-1,7],[1,-1,2,3],[2,1,1,9]],float)\n",
    "\n",
    "print(\"Matrix: \")\n",
    "print(myMat)\n",
    "print(\"Reduced Row Echelon Form: \")\n",
    "print(redRowEchelon(myMat))"
   ]
  },
  {
   "cell_type": "markdown",
   "id": "405c3773",
   "metadata": {},
   "source": [
    "**Gauss Jordan Method for System of Equations**<br>\n",
    "> We have $\\ldots\\quad\\quad\\quad AX = B$<br>\n",
    "  Then $\\ldots \\quad [A:B] = \\begin{bmatrix}\n",
    "              a_{11} & a_{12} & a_{13} & : & b_{1}\\\\\n",
    "              a_{21} & a_{22} & a_{23} & : & b_{2}\\\\\n",
    "              a_{31} & a_{32} & a_{33} & : & b_{3}\n",
    "           \\end{bmatrix}\n",
    "  $\n",
    "  $\\quad\\sim\\quad \\begin{bmatrix}\n",
    "              a_{11} &   0    &   0    & : & b_{1}\\\\\n",
    "                 0   & a_{22} &   0    & : & b_{2}\\\\\n",
    "                 0   &   0    & a_{33} & : & b_{3}\n",
    "           \\end{bmatrix}\n",
    "  $<br>\n",
    "  Solve for $X$ using transformed $A$ and $B$"
   ]
  },
  {
   "cell_type": "code",
   "execution_count": 14,
   "id": "59a5cd26",
   "metadata": {},
   "outputs": [
    {
     "name": "stdout",
     "output_type": "stream",
     "text": [
      "[[ 1.  0.  0.  6.]\n",
      " [ 0.  1.  0. -1.]\n",
      " [ 0.  0.  1. -2.]]\n",
      "Solved: \n",
      " [[ 6.]\n",
      " [-1.]\n",
      " [-2.]]\n",
      "Solved: \n",
      " [[ 6.]\n",
      " [-1.]\n",
      " [-2.]]\n"
     ]
    }
   ],
   "source": [
    "def gaussJordanMethod(A,B):\n",
    "    mat = np.insert(arr=A,obj=A.shape[1],values=B.A1,axis=1)\n",
    "    mat = redRowEchelon(mat)\n",
    "    print(mat)\n",
    "    A_ = mat.T[:-1,:].T.A\n",
    "    B_ = mat.T[-1,:].T\n",
    "    return B_\n",
    "#A = np.matrix([[2,5,9,2],[4,8,6,3],[5,-4,6,5],[3,9,7,7]],float)\n",
    "#A = np.matrix([[1,-1,2],[2,1,4],[4,-1,1]],float)\n",
    "#B = np.matrix([[2],[7],[4],[1]],float)\n",
    "A = np.matrix([[1,1,-1],[1,-1,2],[2,1,1]],float)\n",
    "B = np.matrix([[7],[3],[9]],float)\n",
    "#print(getRank(A))\n",
    "print(\"Solved: \\n\",gaussJordanMethod(A,B))\n",
    "print(\"Solved: \\n\",np.linalg.solve(A,B))"
   ]
  },
  {
   "cell_type": "markdown",
   "id": "62735dca",
   "metadata": {},
   "source": [
    "**Inverse Using Gauss Jordan Method**"
   ]
  },
  {
   "cell_type": "code",
   "execution_count": 41,
   "id": "eaa1a74a",
   "metadata": {},
   "outputs": [
    {
     "name": "stdout",
     "output_type": "stream",
     "text": [
      "[[ 1.          0.          0.         -0.23809524  0.04761905  0.28571429]\n",
      " [ 0.          1.          0.         -0.66666667  0.33333333  0.        ]\n",
      " [-0.         -0.          1.          0.28571429  0.14285714 -0.14285714]]\n"
     ]
    },
    {
     "data": {
      "text/plain": [
       "matrix([[-0.23809524,  0.04761905,  0.28571429],\n",
       "        [-0.66666667,  0.33333333,  0.        ],\n",
       "        [ 0.28571429,  0.14285714, -0.14285714]])"
      ]
     },
     "execution_count": 41,
     "metadata": {},
     "output_type": "execute_result"
    }
   ],
   "source": [
    "import numpy as np\n",
    "def gjInverse(A):\n",
    "    mat = np.insert(arr=A,obj=A.shape[1],values=np.identity(A.shape[1]),axis=1)\n",
    "    mat = redRowEchelon(mat)\n",
    "    print(mat)\n",
    "    return mat[:,A.shape[1]:];\n",
    "\n",
    "A = np.matrix([[1,-1,2],[2,1,4],[4,-1,1]],float)\n",
    "gjInverse(A)"
   ]
  }
 ],
 "metadata": {
  "kernelspec": {
   "display_name": "Python 3 (ipykernel)",
   "language": "python",
   "name": "python3"
  },
  "language_info": {
   "codemirror_mode": {
    "name": "ipython",
    "version": 3
   },
   "file_extension": ".py",
   "mimetype": "text/x-python",
   "name": "python",
   "nbconvert_exporter": "python",
   "pygments_lexer": "ipython3",
   "version": "3.10.5"
  },
  "widgets": {
   "application/vnd.jupyter.widget-state+json": {
    "state": {},
    "version_major": 2,
    "version_minor": 0
   }
  }
 },
 "nbformat": 4,
 "nbformat_minor": 5
}
