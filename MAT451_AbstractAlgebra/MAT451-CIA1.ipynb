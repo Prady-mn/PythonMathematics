{
 "cells": [
  {
   "cell_type": "markdown",
   "id": "64cc1aa5",
   "metadata": {},
   "source": [
    "## CIA - 1:  MAT451\n",
    "##### PRADYUMN AGARWAL \n",
    "#### 4PME - 2140327\n",
    "#\n",
    "**Date: 11-02-2023**"
   ]
  },
  {
   "cell_type": "code",
   "execution_count": 8,
   "id": "63ff04a5",
   "metadata": {},
   "outputs": [
    {
     "data": {
      "image/png": "[encoded data removed]",
      "text/plain": [
       "<Figure size 432x288 with 4 Axes>"
      ]
     },
     "metadata": {
      "needs_background": "light"
     },
     "output_type": "display_data"
    }
   ],
   "source": [
    "import matplotlib.pyplot as plt\n",
    "import numpy as np\n",
    "\n",
    "fig, ax = plt.subplots(2,2)\n",
    "x = np.linspace(-5,5,20)\n",
    "\n",
    "ax[0,0].plot(x,np.tan(x));\n",
    "\n",
    "ax[0,1].plot(x**2,x);\n",
    "\n",
    "ax[1,0].plot(x**2,x,color = 'red',linewidth = 5,drawstyle = \"steps\");\n",
    "\n",
    "ax[1,1].plot(x,x);\n",
    "ax[1,1].plot(x,x**2);\n",
    "ax[1,1].plot(x,x**3);"
   ]
  },
  {
   "cell_type": "code",
   "execution_count": 9,
   "id": "92840e76",
   "metadata": {},
   "outputs": [
    {
     "name": "stdout",
     "output_type": "stream",
     "text": [
      "Left Hand Limit- \n",
      "[0.25078617 0.25074455 0.25070295 0.25066138 0.25061984 0.25057832\n",
      " 0.25053684 0.25049538 0.25045395 0.25041254 0.25037117 0.25032982\n",
      " 0.25028849 0.2502472  0.25020593 0.25016469 0.25012348 0.25008229\n",
      " 0.25004113        nan]\n",
      "Right Hand Limit- \n",
      "[       nan 0.2499589  0.24991782 0.24987677 0.24983574 0.24979475\n",
      " 0.24975378 0.24971283 0.24967192 0.24963103 0.24959016 0.24954933\n",
      " 0.24950852 0.24946773 0.24942698 0.24938625 0.24934555 0.24930487\n",
      " 0.24926422 0.24922359]\n"
     ]
    },
    {
     "name": "stderr",
     "output_type": "stream",
     "text": [
      "C:\\Users\\Pradyumna\\AppData\\Local\\Temp\\ipykernel_6916\\3125401225.py:5: RuntimeWarning: invalid value encountered in true_divide\n",
      "  f = lambda x: ((2*x+ 22)**0.5 - 4)/(x+3)\n"
     ]
    }
   ],
   "source": [
    "#2. (a)\n",
    "from sympy import limit,Symbol\n",
    "import numpy as np\n",
    "\n",
    "f = lambda x: ((2*x+ 22)**0.5 - 4)/(x+3)\n",
    "\n",
    "n = -3;\n",
    "L = np.linspace(n-0.1,n,20);\n",
    "R = np.linspace(n,n+0.1,20);\n",
    "\n",
    "LHL = f(L);\n",
    "RHL = f(R);\n",
    "\n",
    "print(\"Left Hand Limit- \");\n",
    "print(LHL);\n",
    "\n",
    "print(\"Right Hand Limit- \");\n",
    "print(RHL);"
   ]
  },
  {
   "cell_type": "code",
   "execution_count": 10,
   "id": "c73fd2b0",
   "metadata": {},
   "outputs": [
    {
     "data": {
      "text/latex": [
       "$\\displaystyle \\lim_{x \\to -3^+}\\left(\\frac{\\left(2 x + 22\\right)^{0.5} - 4}{x + 3}\\right)$"
      ],
      "text/plain": [
       "Limit(((2*x + 22)**0.5 - 4)/(x + 3), x, -3)"
      ]
     },
     "execution_count": 10,
     "metadata": {},
     "output_type": "execute_result"
    }
   ],
   "source": [
    "x = Symbol(\"x\")\n",
    "Limit(f(x),x,-3)"
   ]
  },
  {
   "cell_type": "code",
   "execution_count": 11,
   "id": "31eea614",
   "metadata": {},
   "outputs": [
    {
     "data": {
      "text/latex": [
       "$\\displaystyle \\frac{1}{4}$"
      ],
      "text/plain": [
       "1/4"
      ]
     },
     "execution_count": 11,
     "metadata": {},
     "output_type": "execute_result"
    }
   ],
   "source": [
    "limit(f(x),x,-3)"
   ]
  },
  {
   "cell_type": "code",
   "execution_count": 12,
   "id": "851f03b4",
   "metadata": {},
   "outputs": [
    {
     "name": "stdout",
     "output_type": "stream",
     "text": [
      "Left Hand Limit- \n",
      "[5.55       5.54736842 5.54473684 5.54210526 5.53947368 5.53684211\n",
      " 5.53421053 5.53157895 5.52894737 5.52631579 5.52368421 5.52105263\n",
      " 5.51842105 5.51578947 5.51315789 5.51052632 5.50789474 5.50526316\n",
      " 5.50263158 5.5       ]\n",
      "Right Hand Limit- \n",
      "[5.5        5.49736842 5.49473684 5.49210526 5.48947368 5.48684211\n",
      " 5.48421053 5.48157895 5.47894737 5.47631579 5.47368421 5.47105263\n",
      " 5.46842105 5.46578947 5.46315789 5.46052632 5.45789474 5.45526316\n",
      " 5.45263158 5.45      ]\n"
     ]
    }
   ],
   "source": [
    "# 2(b)\n",
    "from sympy import limit,Symbol\n",
    "import numpy as np\n",
    "\n",
    "f = lambda x: -x/2 + 9\n",
    "\n",
    "n = 7;\n",
    "L = np.linspace(n-0.1,n,20);\n",
    "R = np.linspace(n,n+0.1,20);\n",
    "\n",
    "LHL = f(L);\n",
    "RHL = f(R);\n",
    "\n",
    "print(\"Left Hand Limit- \");\n",
    "print(LHL);\n",
    "\n",
    "print(\"Right Hand Limit- \");\n",
    "print(RHL);\n"
   ]
  },
  {
   "cell_type": "code",
   "execution_count": 13,
   "id": "f7644ddb",
   "metadata": {},
   "outputs": [
    {
     "name": "stdout",
     "output_type": "stream",
     "text": [
      "Limit Exists and is Equal To-\n",
      "Limit(9 - x/2, x, -3)\n",
      "21/2\n",
      "Thus the function is Continous\n"
     ]
    }
   ],
   "source": [
    "if(LHL[-1] == RHL[0]):\n",
    "    print(\"Limit Exists and is Equal To-\");\n",
    "    print(Limit(f(x),x,-3));\n",
    "    print(limit(f(x),x,-3));\n",
    "    print(\"Thus the function is Continous\")\n",
    "else:\n",
    "    print(\"Limit Does Not Exist\")"
   ]
  },
  {
   "cell_type": "code",
   "execution_count": 17,
   "id": "49a5c85d",
   "metadata": {},
   "outputs": [],
   "source": [
    "#2(c)\n",
    "from sympy import limit,Limit,tan,sec,Symbol\n",
    "x = Symbol(\"x\");\n",
    "f = lambda x:  2*tan(x) - 7*sec(x);\n",
    "\n",
    "der = lambda x,h: (f(x+h) - f(x))/h"
   ]
  },
  {
   "cell_type": "code",
   "execution_count": 18,
   "id": "2c1dad44",
   "metadata": {},
   "outputs": [
    {
     "name": "stdout",
     "output_type": "stream",
     "text": [
      "The Function-\n"
     ]
    },
    {
     "data": {
      "text/latex": [
       "$\\displaystyle 2 \\tan{\\left(x \\right)} - 7 \\sec{\\left(x \\right)}$"
      ],
      "text/plain": [
       "2*tan(x) - 7*sec(x)"
      ]
     },
     "execution_count": 18,
     "metadata": {},
     "output_type": "execute_result"
    }
   ],
   "source": [
    "print(\"The Function-\");\n",
    "f(x)"
   ]
  },
  {
   "cell_type": "code",
   "execution_count": 19,
   "id": "281dc272",
   "metadata": {},
   "outputs": [
    {
     "name": "stdout",
     "output_type": "stream",
     "text": [
      "The Derivative-\n"
     ]
    },
    {
     "ename": "NotImplementedError",
     "evalue": "Limits approaching a variable point are not supported (0 -> 0)",
     "output_type": "error",
     "traceback": [
      "\u001b[1;31m---------------------------------------------------------------------------\u001b[0m",
      "\u001b[1;31mNotImplementedError\u001b[0m                       Traceback (most recent call last)",
      "Input \u001b[1;32mIn [19]\u001b[0m, in \u001b[0;36m<cell line: 4>\u001b[1;34m()\u001b[0m\n\u001b[0;32m      2\u001b[0m \u001b[38;5;28mprint\u001b[39m(\u001b[38;5;124m\"\u001b[39m\u001b[38;5;124mThe Derivative-\u001b[39m\u001b[38;5;124m\"\u001b[39m);\n\u001b[0;32m      3\u001b[0m h \u001b[38;5;241m=\u001b[39m \u001b[38;5;241m0\u001b[39m\n\u001b[1;32m----> 4\u001b[0m \u001b[43mlimit\u001b[49m\u001b[43m(\u001b[49m\u001b[43mder\u001b[49m\u001b[43m(\u001b[49m\u001b[43mx\u001b[49m\u001b[43m,\u001b[49m\u001b[43mh\u001b[49m\u001b[43m)\u001b[49m\u001b[43m,\u001b[49m\u001b[43mh\u001b[49m\u001b[43m,\u001b[49m\u001b[38;5;241;43m0\u001b[39;49m\u001b[43m)\u001b[49m\n",
      "File \u001b[1;32mC:\\ProgramData\\Anaconda3\\lib\\site-packages\\sympy\\series\\limits.py:67\u001b[0m, in \u001b[0;36mlimit\u001b[1;34m(e, z, z0, dir)\u001b[0m\n\u001b[0;32m     16\u001b[0m \u001b[38;5;28;01mdef\u001b[39;00m \u001b[38;5;21mlimit\u001b[39m(e, z, z0, \u001b[38;5;28mdir\u001b[39m\u001b[38;5;241m=\u001b[39m\u001b[38;5;124m\"\u001b[39m\u001b[38;5;124m+\u001b[39m\u001b[38;5;124m\"\u001b[39m):\n\u001b[0;32m     17\u001b[0m     \u001b[38;5;124;03m\"\"\"Computes the limit of ``e(z)`` at the point ``z0``.\u001b[39;00m\n\u001b[0;32m     18\u001b[0m \n\u001b[0;32m     19\u001b[0m \u001b[38;5;124;03m    Parameters\u001b[39;00m\n\u001b[1;32m   (...)\u001b[0m\n\u001b[0;32m     64\u001b[0m \u001b[38;5;124;03m     limit_seq : returns the limit of a sequence.\u001b[39;00m\n\u001b[0;32m     65\u001b[0m \u001b[38;5;124;03m    \"\"\"\u001b[39;00m\n\u001b[1;32m---> 67\u001b[0m     \u001b[38;5;28;01mreturn\u001b[39;00m \u001b[43mLimit\u001b[49m\u001b[43m(\u001b[49m\u001b[43me\u001b[49m\u001b[43m,\u001b[49m\u001b[43m \u001b[49m\u001b[43mz\u001b[49m\u001b[43m,\u001b[49m\u001b[43m \u001b[49m\u001b[43mz0\u001b[49m\u001b[43m,\u001b[49m\u001b[43m \u001b[49m\u001b[38;5;28;43mdir\u001b[39;49m\u001b[43m)\u001b[49m\u001b[38;5;241m.\u001b[39mdoit(deep\u001b[38;5;241m=\u001b[39m\u001b[38;5;28;01mFalse\u001b[39;00m)\n",
      "File \u001b[1;32mC:\\ProgramData\\Anaconda3\\lib\\site-packages\\sympy\\series\\limits.py:157\u001b[0m, in \u001b[0;36mLimit.__new__\u001b[1;34m(cls, e, z, z0, dir)\u001b[0m\n\u001b[0;32m    154\u001b[0m     \u001b[38;5;28mdir\u001b[39m \u001b[38;5;241m=\u001b[39m \u001b[38;5;124m\"\u001b[39m\u001b[38;5;124m+\u001b[39m\u001b[38;5;124m\"\u001b[39m\n\u001b[0;32m    156\u001b[0m \u001b[38;5;28;01mif\u001b[39;00m(z0\u001b[38;5;241m.\u001b[39mhas(z)):\n\u001b[1;32m--> 157\u001b[0m     \u001b[38;5;28;01mraise\u001b[39;00m \u001b[38;5;167;01mNotImplementedError\u001b[39;00m(\u001b[38;5;124m\"\u001b[39m\u001b[38;5;124mLimits approaching a variable point are\u001b[39m\u001b[38;5;124m\"\u001b[39m\n\u001b[0;32m    158\u001b[0m             \u001b[38;5;124m\"\u001b[39m\u001b[38;5;124m not supported (\u001b[39m\u001b[38;5;132;01m%s\u001b[39;00m\u001b[38;5;124m -> \u001b[39m\u001b[38;5;132;01m%s\u001b[39;00m\u001b[38;5;124m)\u001b[39m\u001b[38;5;124m\"\u001b[39m \u001b[38;5;241m%\u001b[39m (z, z0))\n\u001b[0;32m    159\u001b[0m \u001b[38;5;28;01mif\u001b[39;00m \u001b[38;5;28misinstance\u001b[39m(\u001b[38;5;28mdir\u001b[39m, \u001b[38;5;28mstr\u001b[39m):\n\u001b[0;32m    160\u001b[0m     \u001b[38;5;28mdir\u001b[39m \u001b[38;5;241m=\u001b[39m Symbol(\u001b[38;5;28mdir\u001b[39m)\n",
      "\u001b[1;31mNotImplementedError\u001b[0m: Limits approaching a variable point are not supported (0 -> 0)"
     ]
    }
   ],
   "source": [
    "from sympy import Derivative\n",
    "print(\"The Derivative-\");\n",
    "h = 0\n",
    "limit(der(x,h),h,0)"
   ]
  },
  {
   "cell_type": "code",
   "execution_count": null,
   "id": "a10bb499",
   "metadata": {},
   "outputs": [],
   "source": []
  }
 ],
 "metadata": {
  "kernelspec": {
   "display_name": "Python 3 (ipykernel)",
   "language": "python",
   "name": "python3"
  },
  "language_info": {
   "codemirror_mode": {
    "name": "ipython",
    "version": 3
   },
   "file_extension": ".py",
   "mimetype": "text/x-python",
   "name": "python",
   "nbconvert_exporter": "python",
   "pygments_lexer": "ipython3",
   "version": "3.9.12"
  }
 },
 "nbformat": 4,
 "nbformat_minor": 5
}
