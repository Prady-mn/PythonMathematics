{
 "cells": [
  {
   "cell_type": "markdown",
   "id": "a957b3cb",
   "metadata": {},
   "source": [
    "## ESE:  MAT451\n",
    "##### PRADYUMN AGARWAL \n",
    "#### 4PME - 2140327\n",
    "\n",
    "**Date: 25-04-2023**"
   ]
  },
  {
   "cell_type": "code",
   "execution_count": 36,
   "id": "1eb84228",
   "metadata": {},
   "outputs": [
    {
     "data": {
      "text/plain": [
       "1"
      ]
     },
     "execution_count": 36,
     "metadata": {},
     "output_type": "execute_result"
    }
   ],
   "source": [
    "def sumOfDigits(x):\n",
    "    #Initialising variable to store sum\n",
    "    s = 0\n",
    "    #Loop to execute over all digits of number\n",
    "    while(x!=0):\n",
    "        #Adding digit to sum variable\n",
    "        s += int(x%10)\n",
    "        x = int(x/10)\n",
    "    #If sum is greater that 9, recalculation sum of digits\n",
    "    if(s>9):\n",
    "        return sumOfDigits(s)\n",
    "    return s\n",
    "\n",
    "sumOfDigits(2140327)"
   ]
  },
  {
   "cell_type": "code",
   "execution_count": 37,
   "id": "c685deac",
   "metadata": {},
   "outputs": [
    {
     "name": "stdout",
     "output_type": "stream",
     "text": [
      "Differential Equation for Population Growth-\n"
     ]
    },
    {
     "data": {
      "text/latex": [
       "$\\displaystyle \\frac{d}{d t} P{\\left(t \\right)} = r P{\\left(t \\right)}$"
      ],
      "text/plain": [
       "Eq(Derivative(P(t), t), r*P(t))"
      ]
     },
     "metadata": {},
     "output_type": "display_data"
    },
    {
     "name": "stdout",
     "output_type": "stream",
     "text": [
      "General Solution of the Differential Equation-\n"
     ]
    },
    {
     "data": {
      "text/latex": [
       "$\\displaystyle P{\\left(t \\right)} = C_{1} e^{r t}$"
      ],
      "text/plain": [
       "Eq(P(t), C1*exp(r*t))"
      ]
     },
     "metadata": {},
     "output_type": "display_data"
    },
    {
     "name": "stdout",
     "output_type": "stream",
     "text": [
      "Constants: {C1: 2140327, r: log(3)/4}\n",
      "Equation for the Problem-\n"
     ]
    },
    {
     "data": {
      "text/latex": [
       "$\\displaystyle P{\\left(t \\right)} = 2140327 e^{\\frac{t \\log{\\left(3 \\right)}}{4}}$"
      ],
      "text/plain": [
       "Eq(P(t), 2140327*exp(t*log(3)/4))"
      ]
     },
     "metadata": {},
     "output_type": "display_data"
    }
   ],
   "source": [
    "from sympy import *\n",
    "\n",
    "#Defining variables, symbols and Function\n",
    "regNo = 2140327\n",
    "t,r,C1 = symbols(\"t,r,C1\")\n",
    "\n",
    "P = Function(\"P\")(t)\n",
    "\n",
    "#Creating Differential Equation\n",
    "D = Eq(diff(P,t),r*P)\n",
    "print(\"Differential Equation for Population Growth-\")\n",
    "display(D)\n",
    "\n",
    "#Solving Differential Equation\n",
    "gen = dsolve(D)\n",
    "print(\"General Solution of the Differential Equation-\")\n",
    "display(gen)\n",
    "\n",
    "#Setting Constraints as per problem\n",
    "constraints = [{\n",
    "                    P:regNo,\n",
    "                    t:0\n",
    "                },\n",
    "                {\n",
    "                    P:3*regNo,\n",
    "                    t:4\n",
    "                }]\n",
    "\n",
    "#Solving for given constraints\n",
    "constants = solve([gen.subs(i) for i in constraints],[C1,r],dict = True)[-1]\n",
    "print(\"Constants:\",constants)\n",
    "\n",
    "#Getting Equation for the problem\n",
    "Pt = gen.subs(constants)\n",
    "print(\"Equation for the Problem-\")\n",
    "display(Pt)"
   ]
  },
  {
   "cell_type": "code",
   "execution_count": 38,
   "id": "08ba589a",
   "metadata": {},
   "outputs": [
    {
     "name": "stdout",
     "output_type": "stream",
     "text": [
      "On Subtituting value of n we get -\n"
     ]
    },
    {
     "data": {
      "text/latex": [
       "$\\displaystyle P{\\left(1 \\right)} = 2140327 \\cdot \\sqrt[4]{3}$"
      ],
      "text/plain": [
       "Eq(P(1), 2140327*3**(1/4))"
      ]
     },
     "metadata": {},
     "output_type": "display_data"
    },
    {
     "name": "stdout",
     "output_type": "stream",
     "text": [
      "Population after  1  years is predicted to be - 2816828.7439205693\n"
     ]
    }
   ],
   "source": [
    "n = sumOfDigits(regNo)\n",
    "#Substitution time:n\n",
    "print(\"On Subtituting value of n we get -\")\n",
    "pop = Pt.subs({t:n})\n",
    "display(pop)\n",
    "#Calculating and displaying final population\n",
    "print(\"Population after \",n,\" years is predicted to be -\",float(pop.rhs))"
   ]
  }
 ],
 "metadata": {
  "kernelspec": {
   "display_name": "Python 3 (ipykernel)",
   "language": "python",
   "name": "python3"
  },
  "language_info": {
   "codemirror_mode": {
    "name": "ipython",
    "version": 3
   },
   "file_extension": ".py",
   "mimetype": "text/x-python",
   "name": "python",
   "nbconvert_exporter": "python",
   "pygments_lexer": "ipython3",
   "version": "3.9.12"
  }
 },
 "nbformat": 4,
 "nbformat_minor": 5
}
