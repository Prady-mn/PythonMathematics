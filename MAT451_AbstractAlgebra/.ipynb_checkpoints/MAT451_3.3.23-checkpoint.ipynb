{
 "cells": [
  {
   "cell_type": "markdown",
   "id": "78e63c95",
   "metadata": {},
   "source": [
    "**Date: 03/03/2023**"
   ]
  },
  {
   "cell_type": "markdown",
   "id": "97967e9c",
   "metadata": {},
   "source": [
    "> Given the demand equation for a monopolist$\\left(p\\right)$ and the cost function, WAP to find the marginal profit, \n",
    "where $\\ldots$<br>\n",
    "$\\quad\\quad p\\left(x\\right) = 100 - 0.01x \\quad C\\left(x\\right) = 50x + 10000$\n",
    ">> Marginal Profit is found as follows-<br>\n",
    "    Differentiate Profit function: $P^{'}\\left(x\\right)$ <br>\n",
    "    $\\quad P\\left(x\\right) = xp -  C\\left(x\\right)$"
   ]
  },
  {
   "cell_type": "code",
   "execution_count": 11,
   "id": "627ac088",
   "metadata": {},
   "outputs": [
    {
     "name": "stdout",
     "output_type": "stream",
     "text": [
      "Cost Function : 50*x + 10000\n",
      "Demand Function : 100 - 0.01*x\n",
      "Profit Function : -0.01*x**2 + 50.0*x - 10000.0\n",
      "Marginal Profit Function : 50.0 - 0.02*x\n"
     ]
    }
   ],
   "source": [
    "from sympy import *\n",
    "\n",
    "x = Symbol(\"x\")\n",
    "C_fn = 50*x + 10000\n",
    "p_fn = 100 - 0.01*x\n",
    "\n",
    "P_fn = (p_fn*x - C_fn).simplify()\n",
    "\n",
    "mP_fn = diff(P_fn)\n",
    "\n",
    "print(\"Cost Function :\",C_fn)\n",
    "print(\"Demand Function :\",p_fn)\n",
    "print(\"Profit Function :\",P_fn)\n",
    "print(\"Marginal Profit Function :\",mP_fn)"
   ]
  },
  {
   "cell_type": "markdown",
   "id": "5a75cee4",
   "metadata": {},
   "source": [
    "> Given the cost function$\\left(C\\right)$, WAP to find marginal cost and marginal profit at $x = 50$.<br>\n",
    "$\\quad\\quad p\\left(x\\right) = 20 \\quad C\\left(x\\right) = 100 + 8x + 0.1x^{2}$"
   ]
  },
  {
   "cell_type": "code",
   "execution_count": 21,
   "id": "1609f59a",
   "metadata": {},
   "outputs": [
    {
     "name": "stdout",
     "output_type": "stream",
     "text": [
      "At x = 20:\n",
      "Marginal Cost =  18\n",
      "Marginal Profit =  2\n"
     ]
    }
   ],
   "source": [
    "from sympy import *\n",
    "\n",
    "x = Symbol(\"x\")\n",
    "p_fn = 20\n",
    "C_fn = 100 + 8*x + 0.1*(x**2)\n",
    "\n",
    "mC_fn = diff(C_fn)\n",
    "P_fn = x*p_fn - C_fn\n",
    "mP_fn = diff(P_fn)\n",
    "\n",
    "print(\"At x = 20:\")\n",
    "print(\"Marginal Cost = \",int(mC_fn.subs({x:50})))\n",
    "print(\"Marginal Profit = \",int(mP_fn.subs({x:50})))"
   ]
  },
  {
   "cell_type": "markdown",
   "id": "c203333f",
   "metadata": {},
   "source": [
    "#### LA6: Differential Equations Using Sympy"
   ]
  },
  {
   "cell_type": "markdown",
   "id": "c15c0bbb",
   "metadata": {},
   "source": [
    "> WAP to solve the following DE-<br>\n",
    "$\\quad \\dfrac{d}{dx}y\\left(x\\right) = 1$"
   ]
  },
  {
   "cell_type": "code",
   "execution_count": 30,
   "id": "c0574561",
   "metadata": {},
   "outputs": [
    {
     "name": "stdout",
     "output_type": "stream",
     "text": [
      "Eq(Derivative(y(x), x), 1)\n"
     ]
    },
    {
     "data": {
      "text/latex": [
       "$\\displaystyle \\frac{d}{d x} y{\\left(x \\right)} = 1$"
      ],
      "text/plain": [
       "Eq(Derivative(y(x), x), 1)"
      ]
     },
     "metadata": {},
     "output_type": "display_data"
    },
    {
     "data": {
      "text/latex": [
       "$\\displaystyle y{\\left(x \\right)} = C_{1} + x$"
      ],
      "text/plain": [
       "Eq(y(x), C1 + x)"
      ]
     },
     "execution_count": 30,
     "metadata": {},
     "output_type": "execute_result"
    }
   ],
   "source": [
    "from sympy import *\n",
    "\n",
    "#Independent Variable\n",
    "x = Symbol(\"x\")\n",
    "\n",
    "#Dependent Variable\n",
    "y = Function(\"y\")(x)\n",
    "\n",
    "#Assigning Differential Equation\n",
    "D = Eq(y.diff(x),1)\n",
    "\n",
    "#Printing The Equation\n",
    "print(D)\n",
    "display(D)\n",
    "\n",
    "#Solving the Equation\n",
    "dsolve(D,y)"
   ]
  },
  {
   "cell_type": "markdown",
   "id": "61d2a2ca",
   "metadata": {},
   "source": [
    "> WAP to solve the following DE-<br>\n",
    "$\\quad \\dfrac{dp}{dt} - r = 0$"
   ]
  },
  {
   "cell_type": "code",
   "execution_count": 31,
   "id": "47e2da87",
   "metadata": {},
   "outputs": [
    {
     "name": "stdout",
     "output_type": "stream",
     "text": [
      "Eq(-r + Derivative(p(t), t), 0)\n"
     ]
    },
    {
     "data": {
      "text/latex": [
       "$\\displaystyle - r + \\frac{d}{d t} p{\\left(t \\right)} = 0$"
      ],
      "text/plain": [
       "Eq(-r + Derivative(p(t), t), 0)"
      ]
     },
     "metadata": {},
     "output_type": "display_data"
    },
    {
     "data": {
      "text/latex": [
       "$\\displaystyle p{\\left(t \\right)} = C_{1} + r t$"
      ],
      "text/plain": [
       "Eq(p(t), C1 + r*t)"
      ]
     },
     "execution_count": 31,
     "metadata": {},
     "output_type": "execute_result"
    }
   ],
   "source": [
    "from sympy import *\n",
    "\n",
    "t = Symbol(\"t\")\n",
    "p = Function(\"p\")(t)\n",
    "r = Symbol(\"r\")\n",
    "D = Eq(p.diff(t,1)-r,0)\n",
    "\n",
    "print(D)\n",
    "display(D)\n",
    "dsolve(D)"
   ]
  },
  {
   "cell_type": "markdown",
   "id": "998dd3ac",
   "metadata": {},
   "source": [
    "> WAP to solve the following DE-<br>\n",
    "$\\quad 6y + 5\\dfrac{dy}{dx} + \\dfrac{d^{2}y}{dx^{2}} = 0$"
   ]
  },
  {
   "cell_type": "code",
   "execution_count": 39,
   "id": "18becbd9",
   "metadata": {},
   "outputs": [
    {
     "name": "stdout",
     "output_type": "stream",
     "text": [
      "Eq(6*y(x) + 5*Derivative(y(x), x) + Derivative(y(x), (x, 2)), 0)\n"
     ]
    },
    {
     "data": {
      "text/latex": [
       "$\\displaystyle 6 y{\\left(x \\right)} + 5 \\frac{d}{d x} y{\\left(x \\right)} + \\frac{d^{2}}{d x^{2}} y{\\left(x \\right)} = 0$"
      ],
      "text/plain": [
       "Eq(6*y(x) + 5*Derivative(y(x), x) + Derivative(y(x), (x, 2)), 0)"
      ]
     },
     "metadata": {},
     "output_type": "display_data"
    },
    {
     "data": {
      "text/latex": [
       "$\\displaystyle y{\\left(x \\right)} = \\left(C_{1} + C_{2} e^{- x}\\right) e^{- 2 x}$"
      ],
      "text/plain": [
       "Eq(y(x), (C1 + C2*exp(-x))*exp(-2*x))"
      ]
     },
     "execution_count": 39,
     "metadata": {},
     "output_type": "execute_result"
    }
   ],
   "source": [
    "from sympy import *\n",
    "\n",
    "x = Symbol(\"x\")\n",
    "y = Function(\"y\")(x)\n",
    "\n",
    "D = Eq(6*y + 5*y.diff(x,1) + y.diff(x,2),0)\n",
    "\n",
    "print(D)\n",
    "display(D)\n",
    "dsolve(D)"
   ]
  },
  {
   "cell_type": "markdown",
   "id": "1a61c270",
   "metadata": {},
   "source": [
    "> WAP to solve the following DE-<br>\n",
    "$\\quad 6y + 5\\dfrac{dy}{dx} + \\dfrac{d^{2}y}{dx^{2}} = 0$"
   ]
  },
  {
   "cell_type": "code",
   "execution_count": 40,
   "id": "d0b44c8e",
   "metadata": {},
   "outputs": [
    {
     "name": "stdout",
     "output_type": "stream",
     "text": [
      "Eq(6*y(x) + 5*Derivative(y(x), x) + Derivative(y(x), (x, 2)), 0)\n"
     ]
    },
    {
     "data": {
      "text/latex": [
       "$\\displaystyle 6 y{\\left(x \\right)} + 5 \\frac{d}{d x} y{\\left(x \\right)} + \\frac{d^{2}}{d x^{2}} y{\\left(x \\right)} = 0$"
      ],
      "text/plain": [
       "Eq(6*y(x) + 5*Derivative(y(x), x) + Derivative(y(x), (x, 2)), 0)"
      ]
     },
     "metadata": {},
     "output_type": "display_data"
    },
    {
     "data": {
      "text/latex": [
       "$\\displaystyle y{\\left(x \\right)} = \\left(C_{1} + C_{2} e^{- x}\\right) e^{- 2 x}$"
      ],
      "text/plain": [
       "Eq(y(x), (C1 + C2*exp(-x))*exp(-2*x))"
      ]
     },
     "execution_count": 40,
     "metadata": {},
     "output_type": "execute_result"
    }
   ],
   "source": [
    "from sympy import *\n",
    "\n",
    "x = Symbol(\"x\")\n",
    "y = Function(\"y\")(x)\n",
    "\n",
    "D = Eq(6*y + 5*y.diff(x,1) + y.diff(x,2),0)\n",
    "\n",
    "print(D)\n",
    "display(D)\n",
    "dsolve(D)"
   ]
  },
  {
   "cell_type": "markdown",
   "id": "61dd5f32",
   "metadata": {},
   "source": [
    "> WAP to solve the following DE-<br>\n",
    "$\\quad \\dfrac{d^{3}y}{dx^{3}} + y = 0$"
   ]
  },
  {
   "cell_type": "code",
   "execution_count": 41,
   "id": "29cce906",
   "metadata": {},
   "outputs": [
    {
     "name": "stdout",
     "output_type": "stream",
     "text": [
      "Eq(y(x) + Derivative(y(x), (x, 3)), 0)\n"
     ]
    },
    {
     "data": {
      "text/latex": [
       "$\\displaystyle y{\\left(x \\right)} + \\frac{d^{3}}{d x^{3}} y{\\left(x \\right)} = 0$"
      ],
      "text/plain": [
       "Eq(y(x) + Derivative(y(x), (x, 3)), 0)"
      ]
     },
     "metadata": {},
     "output_type": "display_data"
    },
    {
     "data": {
      "text/latex": [
       "$\\displaystyle y{\\left(x \\right)} = C_{3} e^{- x} + \\left(C_{1} \\sin{\\left(\\frac{\\sqrt{3} x}{2} \\right)} + C_{2} \\cos{\\left(\\frac{\\sqrt{3} x}{2} \\right)}\\right) e^{\\frac{x}{2}}$"
      ],
      "text/plain": [
       "Eq(y(x), C3*exp(-x) + (C1*sin(sqrt(3)*x/2) + C2*cos(sqrt(3)*x/2))*exp(x/2))"
      ]
     },
     "execution_count": 41,
     "metadata": {},
     "output_type": "execute_result"
    }
   ],
   "source": [
    "from sympy import *\n",
    "\n",
    "x = Symbol(\"x\")\n",
    "y = Function(\"y\")(x)\n",
    "\n",
    "D = Eq(y.diff(x,3) + y,0)\n",
    "\n",
    "print(D)\n",
    "display(D)\n",
    "dsolve(D)"
   ]
  },
  {
   "cell_type": "code",
   "execution_count": null,
   "id": "6122d26e",
   "metadata": {},
   "outputs": [],
   "source": []
  }
 ],
 "metadata": {
  "kernelspec": {
   "display_name": "Python 3",
   "language": "python",
   "name": "python3"
  },
  "language_info": {
   "codemirror_mode": {
    "name": "ipython",
    "version": 3
   },
   "file_extension": ".py",
   "mimetype": "text/x-python",
   "name": "python",
   "nbconvert_exporter": "python",
   "pygments_lexer": "ipython3",
   "version": "3.8.8"
  }
 },
 "nbformat": 4,
 "nbformat_minor": 5
}
