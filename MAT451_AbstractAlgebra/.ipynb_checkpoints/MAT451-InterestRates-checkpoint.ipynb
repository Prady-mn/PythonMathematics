{
 "cells": [
  {
   "cell_type": "markdown",
   "id": "4408a815",
   "metadata": {},
   "source": [
    "### Asynchronous Assignment: Interest Rates\n",
    "#### MAT451 - Python Programming for Mathematical Modelling\n",
    "#### Pradyumn Agarwal - 2104327 4PME\n",
    "#### Date: 12/04/23"
   ]
  },
  {
   "cell_type": "markdown",
   "id": "21c6c9be",
   "metadata": {},
   "source": [
    "> WAP to find how long it takes for a given amount of money to triple at 10% per annum compounded annually."
   ]
  },
  {
   "cell_type": "code",
   "execution_count": 5,
   "id": "49ab5f53",
   "metadata": {},
   "outputs": [
    {
     "data": {
      "text/latex": [
       "$\\displaystyle 3 = 1.1^{T}$"
      ],
      "text/plain": [
       "Eq(3, 1.1**T)"
      ]
     },
     "metadata": {},
     "output_type": "display_data"
    },
    {
     "name": "stdout",
     "output_type": "stream",
     "text": [
      "Time is Takes is -\n"
     ]
    },
    {
     "data": {
      "text/latex": [
       "$\\displaystyle T = 11.5267046072476$"
      ],
      "text/plain": [
       "Eq(T, 11.5267046072476)"
      ]
     },
     "metadata": {},
     "output_type": "display_data"
    }
   ],
   "source": [
    "from sympy import *\n",
    "import numpy as np\n",
    "\n",
    "rate = 0.1\n",
    "\n",
    "p,t,r,a = symbols(\"P,T,R,A\")\n",
    "CI = Eq(a,p*(1 + r)**t)\n",
    "\n",
    "myData = {p:1, r:rate, t:t, A:3}\n",
    "display(CI.subs(myData))\n",
    "print(\"Time is Takes is -\")\n",
    "display(Eq(t,solve(CI.subs(myData))[0]))"
   ]
  },
  {
   "cell_type": "markdown",
   "id": "1da0f7b1",
   "metadata": {},
   "source": [
    "> In a bank, principle increases continuously at the rate of r% per year. WAP to find the value of r if Rs.100 double itself in 10 years."
   ]
  },
  {
   "cell_type": "code",
   "execution_count": 18,
   "id": "51ceb691",
   "metadata": {
    "scrolled": true
   },
   "outputs": [
    {
     "data": {
      "text/latex": [
       "$\\displaystyle 200 = 1000 R$"
      ],
      "text/plain": [
       "Eq(200, 1000*R)"
      ]
     },
     "metadata": {},
     "output_type": "display_data"
    },
    {
     "data": {
      "text/latex": [
       "$\\displaystyle R = \\frac{1}{5}$"
      ],
      "text/plain": [
       "Eq(R, 1/5)"
      ]
     },
     "metadata": {},
     "output_type": "display_data"
    },
    {
     "name": "stdout",
     "output_type": "stream",
     "text": [
      "Rate = 20 %\n"
     ]
    }
   ],
   "source": [
    "from sympy import *\n",
    "import numpy as np\n",
    "\n",
    "p,t,r,a = symbols(\"P,T,R,A\")\n",
    "SI = Eq(a,p*r*t)\n",
    "\n",
    "myData = {p:100, r:r, t:10, A:200}\n",
    "display(SI.subs(myData))\n",
    "rate = Eq(r,solve(SI.subs(myData))[0])\n",
    "display(rate)\n",
    "print(\"Rate =\",rate.rhs*100,\"%\")"
   ]
  },
  {
   "cell_type": "markdown",
   "id": "f3eec9f9",
   "metadata": {},
   "source": [
    "> WAP to find how long it takes for a given amount of money to double at 15% per annum compounded annually."
   ]
  },
  {
   "cell_type": "code",
   "execution_count": 13,
   "id": "50f9e19a",
   "metadata": {},
   "outputs": [
    {
     "data": {
      "text/latex": [
       "$\\displaystyle 2 = 1.15^{T}$"
      ],
      "text/plain": [
       "Eq(2, 1.15**T)"
      ]
     },
     "metadata": {},
     "output_type": "display_data"
    },
    {
     "data": {
      "text/latex": [
       "$\\displaystyle T = 4.95948445464039$"
      ],
      "text/plain": [
       "Eq(T, 4.95948445464039)"
      ]
     },
     "metadata": {},
     "output_type": "display_data"
    },
    {
     "name": "stdout",
     "output_type": "stream",
     "text": [
      "Time is Takes is - 4.95948445464039  years\n"
     ]
    }
   ],
   "source": [
    "from sympy import *\n",
    "import numpy as np\n",
    "\n",
    "rate = 0.15\n",
    "\n",
    "p,t,r,a = symbols(\"P,T,R,A\")\n",
    "CI = Eq(a,p*(1 + r)**t)\n",
    "\n",
    "myData = {p:1, r:rate, t:t, A:2}\n",
    "display(CI.subs(myData))\n",
    "time = Eq(t,solve(CI.subs(myData))[0])\n",
    "display(time)\n",
    "\n",
    "print(\"Time is Takes is -\",time.rhs,\" years\")"
   ]
  },
  {
   "cell_type": "markdown",
   "id": "8dd43061",
   "metadata": {},
   "source": [
    "> Steve deposited Rs.9000 in a bank account and 10 years later he closed out the account,which is worth Rs.18000. WAP to find the annual interest rate over the 10 years?"
   ]
  },
  {
   "cell_type": "code",
   "execution_count": 20,
   "id": "303451b6",
   "metadata": {},
   "outputs": [
    {
     "data": {
      "text/latex": [
       "$\\displaystyle 18000 = 90000 R$"
      ],
      "text/plain": [
       "Eq(18000, 90000*R)"
      ]
     },
     "metadata": {},
     "output_type": "display_data"
    },
    {
     "data": {
      "text/latex": [
       "$\\displaystyle R = \\frac{1}{5}$"
      ],
      "text/plain": [
       "Eq(R, 1/5)"
      ]
     },
     "metadata": {},
     "output_type": "display_data"
    },
    {
     "name": "stdout",
     "output_type": "stream",
     "text": [
      "Rate = 20 %\n"
     ]
    }
   ],
   "source": [
    "from sympy import *\n",
    "import numpy as np\n",
    "\n",
    "p,t,r,a = symbols(\"P,T,R,A\")\n",
    "SI = Eq(a,p*r*t)\n",
    "\n",
    "myData = {p:9000, r:r, t:10, A:18000}\n",
    "display(SI.subs(myData))\n",
    "rate = Eq(r,solve(CI.subs(myData))[0])\n",
    "display(rate)\n",
    "print(\"Rate =\",rate.rhs*100,\"%\")"
   ]
  },
  {
   "cell_type": "code",
   "execution_count": null,
   "id": "b28e4e6b",
   "metadata": {},
   "outputs": [],
   "source": []
  }
 ],
 "metadata": {
  "kernelspec": {
   "display_name": "Python 3 (ipykernel)",
   "language": "python",
   "name": "python3"
  },
  "language_info": {
   "codemirror_mode": {
    "name": "ipython",
    "version": 3
   },
   "file_extension": ".py",
   "mimetype": "text/x-python",
   "name": "python",
   "nbconvert_exporter": "python",
   "pygments_lexer": "ipython3",
   "version": "3.9.12"
  }
 },
 "nbformat": 4,
 "nbformat_minor": 5
}
