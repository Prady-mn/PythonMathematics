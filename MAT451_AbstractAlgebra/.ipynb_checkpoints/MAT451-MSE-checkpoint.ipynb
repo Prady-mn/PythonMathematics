{
 "cells": [
  {
   "cell_type": "markdown",
   "id": "d657f77c",
   "metadata": {},
   "source": [
    "## MSE:  MAT451\n",
    "##### PRADYUMN AGARWAL \n",
    "#### 4PME - 2140327\n",
    "\n",
    "**Date: 28-03-2023**"
   ]
  },
  {
   "cell_type": "code",
   "execution_count": 44,
   "id": "b8f55ae5",
   "metadata": {
    "scrolled": false
   },
   "outputs": [
    {
     "name": "stdout",
     "output_type": "stream",
     "text": [
      "Differential Equation-\n"
     ]
    },
    {
     "data": {
      "text/latex": [
       "$\\displaystyle 2 \\frac{d}{d x} y{\\left(x \\right)} + \\frac{d^{2}}{d x^{2}} y{\\left(x \\right)} = 0$"
      ],
      "text/plain": [
       "Eq(2*Derivative(y(x), x) + Derivative(y(x), (x, 2)), 0)"
      ]
     },
     "metadata": {},
     "output_type": "display_data"
    },
    {
     "name": "stdout",
     "output_type": "stream",
     "text": [
      "General Solution-\n"
     ]
    },
    {
     "data": {
      "text/latex": [
       "$\\displaystyle y{\\left(x \\right)} = C_{1} + C_{2} e^{- 2 x}$"
      ],
      "text/plain": [
       "Eq(y(x), C1 + C2*exp(-2*x))"
      ]
     },
     "metadata": {},
     "output_type": "display_data"
    },
    {
     "name": "stdout",
     "output_type": "stream",
     "text": [
      "Particular Solution-\n"
     ]
    },
    {
     "data": {
      "text/latex": [
       "$\\displaystyle y{\\left(x \\right)} = \\frac{3}{2} - \\frac{e^{- 2 x}}{2}$"
      ],
      "text/plain": [
       "Eq(y(x), 3/2 - exp(-2*x)/2)"
      ]
     },
     "metadata": {},
     "output_type": "display_data"
    },
    {
     "data": {
      "image/png": "[encoded data removed]",
      "text/plain": [
       "<Figure size 432x288 with 1 Axes>"
      ]
     },
     "metadata": {
      "needs_background": "light"
     },
     "output_type": "display_data"
    }
   ],
   "source": [
    "#1. a)\n",
    "import matplotlib.pyplot as plt\n",
    "import numpy as np\n",
    "from sympy import *\n",
    "constraints = [(0,1,0),(0,1,1)]#(x,y,order of y)\n",
    "x,C1,C2 = symbols(\"x,C1,C2\")\n",
    "constants = [C1,C2]\n",
    "y = Function(\"y\")(x)\n",
    "D = Eq(diff(y,x,2) + 2*diff(y,x,1),0)\n",
    "print(\"Differential Equation-\")\n",
    "display(D)\n",
    "gen_sol = dsolve(D)\n",
    "print(\"General Solution-\")\n",
    "display(gen_sol)\n",
    "\n",
    "#C = [Eq(diff(gen_sol.rhs,x,i[2]),diff(y,x,i[2])).subs({x:i[0],diff(y,x,i[2]):i[1]}) for i in constraints]\n",
    "C = [Eq(diff(gen_sol.rhs,x,i[2]),i[1]).subs({x:i[0]}) for i in constraints]\n",
    "\n",
    "par_sol = gen_sol.subs(solve(C,constants))\n",
    "print(\"Particular Solution-\")\n",
    "display(par_sol)\n",
    "\n",
    "X = np.linspace(-10,10,100)\n",
    "Y = lambda X: [par_sol.subs({x:i}).rhs for i in X]\n",
    "plt.plot(X,Y(X))\n",
    "plt.show()"
   ]
  },
  {
   "cell_type": "code",
   "execution_count": 43,
   "id": "8c41848d",
   "metadata": {},
   "outputs": [
    {
     "name": "stdout",
     "output_type": "stream",
     "text": [
      "i. Max No of Bicycles-  25\n",
      "ii. Max Profit-  525\n",
      "iii. Loss-  -100\n"
     ]
    }
   ],
   "source": [
    "#1. b)\n",
    "from sympy import *\n",
    "\n",
    "n = Symbol(\"n\")\n",
    "P = -n**2 + 50*n - 100\n",
    "P_ = Derivative(P,n).doit()\n",
    "n_max = max(solve(P_,n))\n",
    "P_max = P.subs({n:n_max})\n",
    "loss = P.subs({n:0})\n",
    "print(\"i. Max No of Bicycles- \",n_max)\n",
    "print(\"ii. Max Profit- \",P_max)\n",
    "print(\"iii. Loss- \",loss)"
   ]
  }
 ],
 "metadata": {
  "kernelspec": {
   "display_name": "Python 3 (ipykernel)",
   "language": "python",
   "name": "python3"
  },
  "language_info": {
   "codemirror_mode": {
    "name": "ipython",
    "version": 3
   },
   "file_extension": ".py",
   "mimetype": "text/x-python",
   "name": "python",
   "nbconvert_exporter": "python",
   "pygments_lexer": "ipython3",
   "version": "3.9.12"
  }
 },
 "nbformat": 4,
 "nbformat_minor": 5
}
