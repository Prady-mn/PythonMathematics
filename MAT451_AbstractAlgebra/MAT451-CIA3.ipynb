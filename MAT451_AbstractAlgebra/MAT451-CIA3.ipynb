{
 "cells": [
  {
   "cell_type": "markdown",
   "id": "0ae3657e",
   "metadata": {},
   "source": [
    "### CIA3: Component 4\n",
    "#### MAT451 - Python Programming for Mathematical Modelling\n",
    "#### Pradyumn Agarwal - 2104327 4PME\n",
    "#### Date: 26/04/23"
   ]
  },
  {
   "cell_type": "markdown",
   "id": "cc82b83f",
   "metadata": {},
   "source": [
    "> A bacteria culture starts with 1,000 bacteria and doubles in size every 3 hours. WAP to find an exponential model for the size of the culture as a function of time t in hours."
   ]
  },
  {
   "cell_type": "code",
   "execution_count": 5,
   "id": "9863dd63",
   "metadata": {},
   "outputs": [
    {
     "name": "stdout",
     "output_type": "stream",
     "text": [
      "General Equation -\n"
     ]
    },
    {
     "data": {
      "text/latex": [
       "$\\displaystyle P{\\left(t \\right)} = C_{1} e^{r t}$"
      ],
      "text/plain": [
       "Eq(P(t), C1*exp(r*t))"
      ]
     },
     "metadata": {},
     "output_type": "display_data"
    },
    {
     "name": "stdout",
     "output_type": "stream",
     "text": [
      "Constants -  {C1: 1000, r: log(2)/3}\n",
      "Equation for Model - \n"
     ]
    },
    {
     "data": {
      "text/latex": [
       "$\\displaystyle P{\\left(t \\right)} = 1000 e^{\\frac{t \\log{\\left(2 \\right)}}{3}}$"
      ],
      "text/plain": [
       "Eq(P(t), 1000*exp(t*log(2)/3))"
      ]
     },
     "metadata": {},
     "output_type": "display_data"
    }
   ],
   "source": [
    "from sympy import *\n",
    "\n",
    "t,r,C1 = symbols(\"t,r,C1\")\n",
    "P = Function(\"P\")(t)\n",
    "\n",
    "gen = dsolve(Eq(diff(P,t),r*P))\n",
    "print(\"General Equation -\")\n",
    "display(gen)\n",
    "\n",
    "constraints = [{t:0,P:1000},{t:3,P:2000}]\n",
    "\n",
    "constants = solve([gen.subs(i) for i in constraints],[C1,r],dict = True)[-1]\n",
    "print(\"Constants - \",constants)\n",
    "\n",
    "Pt = gen.subs(constants)\n",
    "print(\"Equation for Model - \")\n",
    "display(Pt)"
   ]
  },
  {
   "cell_type": "markdown",
   "id": "9869e9ab",
   "metadata": {},
   "source": [
    "> Frog population projections. The frog population in a small pond grows exponentially. The current population is 85 frogs, and the relative growth rate is 18% per year. WAP to evaluate the following - <br>\n",
    "> - Find a function that models the number of frogs after t years.\n",
    "> - Find the projected population after 3 years.\n",
    "> - Find the number of years required for the frog population to reach 600."
   ]
  },
  {
   "cell_type": "code",
   "execution_count": 7,
   "id": "5af62274",
   "metadata": {},
   "outputs": [
    {
     "name": "stdout",
     "output_type": "stream",
     "text": [
      "General Equation -\n"
     ]
    },
    {
     "data": {
      "text/latex": [
       "$\\displaystyle P{\\left(t \\right)} = C_{1} e^{r t}$"
      ],
      "text/plain": [
       "Eq(P(t), C1*exp(r*t))"
      ]
     },
     "metadata": {},
     "output_type": "display_data"
    },
    {
     "name": "stdout",
     "output_type": "stream",
     "text": [
      "Constants -  {C1: 85, r: 0.18}\n",
      "Equation for Model - \n"
     ]
    },
    {
     "data": {
      "text/latex": [
       "$\\displaystyle P{\\left(t \\right)} = 85 e^{0.18 t}$"
      ],
      "text/plain": [
       "Eq(P(t), 85*exp(0.18*t))"
      ]
     },
     "metadata": {},
     "output_type": "display_data"
    }
   ],
   "source": [
    "from sympy import *\n",
    "\n",
    "t,r,C1 = symbols(\"t,r,C1\")\n",
    "\n",
    "P = Function(\"P\")(t)\n",
    "\n",
    "gen = dsolve(Eq(diff(P,t),r*P))\n",
    "print(\"General Equation -\")\n",
    "display(gen)\n",
    "\n",
    "constraints = [{t:0,P:85,r:0.18}]\n",
    "\n",
    "constants = solve([gen.subs(i) for i in constraints],[C1],dict = True)[-1]\n",
    "constants[r] = 0.18\n",
    "print(\"Constants - \",constants)\n",
    "\n",
    "Pt = gen.subs(constants)\n",
    "print(\"Equation for Model - \")\n",
    "display(Pt)"
   ]
  },
  {
   "cell_type": "code",
   "execution_count": 10,
   "id": "06dece6d",
   "metadata": {},
   "outputs": [
    {
     "name": "stdout",
     "output_type": "stream",
     "text": [
      "Projected Population after 3 years is -\n"
     ]
    },
    {
     "data": {
      "text/latex": [
       "$\\displaystyle P{\\left(3 \\right)} = 145.860583285713$"
      ],
      "text/plain": [
       "Eq(P(3), 145.860583285713)"
      ]
     },
     "metadata": {},
     "output_type": "display_data"
    }
   ],
   "source": [
    "print(\"Projected Population after 3 years is -\")\n",
    "display(Pt.subs({t:3}))"
   ]
  },
  {
   "cell_type": "code",
   "execution_count": 13,
   "id": "93b160d2",
   "metadata": {},
   "outputs": [
    {
     "name": "stdout",
     "output_type": "stream",
     "text": [
      "Number of years for population to reach 600 is -\n"
     ]
    },
    {
     "data": {
      "text/latex": [
       "$\\displaystyle t = 10.8571022151435$"
      ],
      "text/plain": [
       "Eq(t, 10.8571022151435)"
      ]
     },
     "metadata": {},
     "output_type": "display_data"
    }
   ],
   "source": [
    "print(\"Number of years for population to reach 600 is -\")\n",
    "display(Eq(t,solve(Pt.subs({P:600}),t)[0]))"
   ]
  },
  {
   "cell_type": "markdown",
   "id": "34ca810d",
   "metadata": {},
   "source": [
    "> Researcher stock a tank with 18 and estimate the carrying capacity to be 700. The number of yeast increased by 0.773 times during the first year. Assuming that the yeast population growth satisfies the logistic equation, WAP to find population after t years."
   ]
  },
  {
   "cell_type": "code",
   "execution_count": 25,
   "id": "f35a8af8",
   "metadata": {},
   "outputs": [
    {
     "name": "stdout",
     "output_type": "stream",
     "text": [
      "General Equation -\n"
     ]
    },
    {
     "data": {
      "text/latex": [
       "$\\displaystyle P{\\left(t \\right)} = \\frac{M e^{C_{1} M + r t}}{e^{C_{1} M + r t} - 1}$"
      ],
      "text/plain": [
       "Eq(P(t), M*exp(C1*M + r*t)/(exp(C1*M + r*t) - 1))"
      ]
     },
     "metadata": {},
     "output_type": "display_data"
    },
    {
     "name": "stdout",
     "output_type": "stream",
     "text": [
      "Constants -  {C1: log(-18.0/(M - 18.0))/M, r: log(886.5*(M - 18.0)/(500.0*M - 15957.0))}\n",
      "Equation for Model - \n"
     ]
    },
    {
     "data": {
      "text/latex": [
       "$\\displaystyle P{\\left(t \\right)} = - \\frac{18.475073313783 e^{0.593285777170524 t}}{- 0.0263929618768328 e^{0.593285777170524 t} - 1}$"
      ],
      "text/plain": [
       "Eq(P(t), -18.475073313783*exp(0.593285777170524*t)/(-0.0263929618768328*exp(0.593285777170524*t) - 1))"
      ]
     },
     "metadata": {},
     "output_type": "display_data"
    }
   ],
   "source": [
    "from sympy import *\n",
    "\n",
    "t,r,M,P0,C1 = symbols(\"t,r,M,P0,C1\")\n",
    "#C1 = symbols(\"C1\")\n",
    "\n",
    "P = Function(\"P\")(t)\n",
    "\n",
    "gen = dsolve(Eq(diff(P,t),r*P*(1 - (P/M))))\n",
    "print(\"General Equation -\")\n",
    "display(gen)\n",
    "\n",
    "constraints = [{t:0,P:18},{t:1,P:1.773*18}]\n",
    "\n",
    "constants = solve([gen.subs(i) for i in constraints],[C1,r],dict = True,manual = True)[0]\n",
    "\n",
    "print(\"Constants - \",constants)\n",
    "\n",
    "Pt = gen.subs(constants).subs({M:700})\n",
    "print(\"Equation for Model - \")\n",
    "display(Pt)"
   ]
  },
  {
   "cell_type": "markdown",
   "id": "ec3a9828",
   "metadata": {},
   "source": [
    "> Biologists stock 50 bacterias and estimate the carrying capacity to be 1000. Assuming that the growth of bacteria satisfies the logistic equation, find the population after t years. For the following growth rates: a) 0.39 b) 0.535 c) 0.409."
   ]
  },
  {
   "cell_type": "code",
   "execution_count": 7,
   "id": "3899d7f8",
   "metadata": {},
   "outputs": [
    {
     "name": "stdout",
     "output_type": "stream",
     "text": [
      "General Equation -\n"
     ]
    },
    {
     "data": {
      "text/latex": [
       "$\\displaystyle P{\\left(t \\right)} = \\frac{M e^{C_{1} M + r t}}{e^{C_{1} M + r t} - 1}$"
      ],
      "text/plain": [
       "Eq(P(t), M*exp(C1*M + r*t)/(exp(C1*M + r*t) - 1))"
      ]
     },
     "metadata": {},
     "output_type": "display_data"
    },
    {
     "name": "stdout",
     "output_type": "stream",
     "text": [
      "Constants -  {C1: log(-50/(M - 50))/M}\n",
      "Equation for Model - \n"
     ]
    },
    {
     "data": {
      "text/latex": [
       "$\\displaystyle P{\\left(t \\right)} = - \\frac{700 e^{r t}}{13 \\left(- \\frac{e^{r t}}{13} - 1\\right)}$"
      ],
      "text/plain": [
       "Eq(P(t), -700*exp(r*t)/(13*(-exp(r*t)/13 - 1)))"
      ]
     },
     "metadata": {},
     "output_type": "display_data"
    }
   ],
   "source": [
    "from sympy import *\n",
    "\n",
    "t,r,M,P0,C1 = symbols(\"t,r,M,P0,C1\")\n",
    "#C1 = symbols(\"C1\")\n",
    "\n",
    "P = Function(\"P\")(t)\n",
    "\n",
    "gen = dsolve(Eq(diff(P,t),r*P*(1 - (P/M))))\n",
    "print(\"General Equation -\")\n",
    "display(gen)\n",
    "\n",
    "constraints = [{t:0,P:50}]\n",
    "\n",
    "constants = solve([gen.subs(i) for i in constraints],[C1],dict = True)[0]\n",
    "#constants[M] = 1000\n",
    "print(\"Constants - \",constants)\n",
    "\n",
    "Pt = gen.subs(constants).subs({M:700})\n",
    "print(\"Equation for Model - \")\n",
    "display(Pt)"
   ]
  },
  {
   "cell_type": "code",
   "execution_count": 8,
   "id": "323d76a4",
   "metadata": {},
   "outputs": [
    {
     "name": "stdout",
     "output_type": "stream",
     "text": [
      "r =  0.39\n"
     ]
    },
    {
     "data": {
      "text/latex": [
       "$\\displaystyle P{\\left(t \\right)} = - \\frac{700 e^{0.39 t}}{13 \\left(- \\frac{e^{0.39 t}}{13} - 1\\right)}$"
      ],
      "text/plain": [
       "Eq(P(t), -700*exp(0.39*t)/(13*(-exp(0.39*t)/13 - 1)))"
      ]
     },
     "metadata": {},
     "output_type": "display_data"
    }
   ],
   "source": [
    "print(\"r = \",0.39)\n",
    "display(Pt.subs({r:0.39}))"
   ]
  },
  {
   "cell_type": "code",
   "execution_count": 9,
   "id": "5f7829bb",
   "metadata": {},
   "outputs": [
    {
     "name": "stdout",
     "output_type": "stream",
     "text": [
      "r =  0.535\n"
     ]
    },
    {
     "data": {
      "text/latex": [
       "$\\displaystyle P{\\left(t \\right)} = - \\frac{700 e^{0.535 t}}{13 \\left(- \\frac{e^{0.535 t}}{13} - 1\\right)}$"
      ],
      "text/plain": [
       "Eq(P(t), -700*exp(0.535*t)/(13*(-exp(0.535*t)/13 - 1)))"
      ]
     },
     "metadata": {},
     "output_type": "display_data"
    }
   ],
   "source": [
    "print(\"r = \",0.535)\n",
    "display(Pt.subs({r:0.535}))"
   ]
  },
  {
   "cell_type": "code",
   "execution_count": 10,
   "id": "164871bb",
   "metadata": {},
   "outputs": [
    {
     "name": "stdout",
     "output_type": "stream",
     "text": [
      "r =  0.409\n"
     ]
    },
    {
     "data": {
      "text/latex": [
       "$\\displaystyle P{\\left(t \\right)} = - \\frac{700 e^{0.409 t}}{13 \\left(- \\frac{e^{0.409 t}}{13} - 1\\right)}$"
      ],
      "text/plain": [
       "Eq(P(t), -700*exp(0.409*t)/(13*(-exp(0.409*t)/13 - 1)))"
      ]
     },
     "metadata": {},
     "output_type": "display_data"
    }
   ],
   "source": [
    "print(\"r = \",0.409)\n",
    "display(Pt.subs({r:0.409}))"
   ]
  }
 ],
 "metadata": {
  "kernelspec": {
   "display_name": "Python 3 (ipykernel)",
   "language": "python",
   "name": "python3"
  },
  "language_info": {
   "codemirror_mode": {
    "name": "ipython",
    "version": 3
   },
   "file_extension": ".py",
   "mimetype": "text/x-python",
   "name": "python",
   "nbconvert_exporter": "python",
   "pygments_lexer": "ipython3",
   "version": "3.9.12"
  }
 },
 "nbformat": 4,
 "nbformat_minor": 5
}
