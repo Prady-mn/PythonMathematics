{
 "cells": [
  {
   "cell_type": "markdown",
   "id": "44dbe1a6-7158-4614-a117-cd801af2cf6d",
   "metadata": {},
   "source": [
    "## LAB 4: Conformal Mapping\n",
    "\n",
    "**Date: 20-03-2024**"
   ]
  },
  {
   "cell_type": "code",
   "execution_count": 11,
   "id": "a7f2bb0a-4517-48f0-915b-b5deb9a54402",
   "metadata": {},
   "outputs": [],
   "source": [
    "import numpy as np\n",
    "import sympy as sp\n",
    "from typing import *\n",
    "import import_ipynb\n",
    "from MAT651_LA3 import checkCR,checkHarmonic"
   ]
  },
  {
   "cell_type": "code",
   "execution_count": 12,
   "id": "47b98e44-59f2-45b7-b006-99e139783b20",
   "metadata": {},
   "outputs": [],
   "source": [
    "def mySympify(f:str,vars = {\"x\":sp.symbols(\"x\",real = True),\"y\":sp.symbols(\"y\",real = True)}) -> [\"function\",\"x\",\"y\"]:\n",
    "    f = sp.sympify(f,locals = vars)\n",
    "    x,y = list(vars.values())\n",
    "    return [f,x,y]"
   ]
  },
  {
   "cell_type": "code",
   "execution_count": 41,
   "id": "5ab81fb5-f296-4803-9286-511472c6d78c",
   "metadata": {},
   "outputs": [],
   "source": [
    "def checkConformal(f:str):\n",
    "    if(not checkCR(f)[0]):\n",
    "        return {\"CR\":False}\n",
    "    f,x,y = mySympify(f)\n",
    "    df = sp.diff(f,x) + sp.diff(f,y)\n",
    "    critical = sp.solve(df,0)\n",
    "    #if(df == 0):\n",
    "    return {\"Conformal\": (df != 0),\"Critical Points\":critical,\"Function\":f}"
   ]
  },
  {
   "cell_type": "code",
   "execution_count": 42,
   "id": "8556a3c5-7ec6-4dac-a70f-cf93164c9b07",
   "metadata": {},
   "outputs": [
    {
     "data": {
      "text/plain": [
       "{'CR': False}"
      ]
     },
     "execution_count": 42,
     "metadata": {},
     "output_type": "execute_result"
    }
   ],
   "source": [
    "checkConformal(\"cos(y)*e**x + 1j*sin(y)*e**x\")"
   ]
  },
  {
   "cell_type": "code",
   "execution_count": 43,
   "id": "4dcf0079-5552-4f8b-bc0b-ec8baea6cb61",
   "metadata": {},
   "outputs": [
    {
     "data": {
      "text/plain": [
       "{'Conformal': True, 'Critical Points': [], 'Function': x**2 + 2*I*x*y - y**2}"
      ]
     },
     "execution_count": 43,
     "metadata": {},
     "output_type": "execute_result"
    }
   ],
   "source": [
    "checkConformal(\"x**2 + 2*x*y*1j - y**2\")"
   ]
  },
  {
   "cell_type": "code",
   "execution_count": 46,
   "id": "0634c060-1a2a-4e6e-a5f4-720c0286767b",
   "metadata": {},
   "outputs": [
    {
     "data": {
      "text/plain": [
       "{'Conformal': True,\n",
       " 'Critical Points': [],\n",
       " 'Function': -asin(I*sin(x)*sinh(y) - cos(x)*cosh(y))}"
      ]
     },
     "execution_count": 46,
     "metadata": {},
     "output_type": "execute_result"
    }
   ],
   "source": [
    "#asin(cosh(-y)*cos(x) + 1j*sinh(-y)*sin(x))\n",
    "checkConformal(\"asin(cosh(-y)*cos(x) + 1j*sinh(-y)*sin(x))\")"
   ]
  },
  {
   "cell_type": "code",
   "execution_count": null,
   "id": "d4196fd0-095d-4b7d-a0f7-e07a59f4c311",
   "metadata": {},
   "outputs": [],
   "source": []
  }
 ],
 "metadata": {
  "kernelspec": {
   "display_name": "Python 3 (ipykernel)",
   "language": "python",
   "name": "python3"
  },
  "language_info": {
   "codemirror_mode": {
    "name": "ipython",
    "version": 3
   },
   "file_extension": ".py",
   "mimetype": "text/x-python",
   "name": "python",
   "nbconvert_exporter": "python",
   "pygments_lexer": "ipython3",
   "version": "3.10.5"
  },
  "widgets": {
   "application/vnd.jupyter.widget-state+json": {
    "state": {},
    "version_major": 2,
    "version_minor": 0
   }
  }
 },
 "nbformat": 4,
 "nbformat_minor": 5
}
