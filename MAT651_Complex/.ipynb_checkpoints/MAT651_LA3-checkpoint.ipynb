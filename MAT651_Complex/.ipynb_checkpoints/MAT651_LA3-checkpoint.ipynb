{
 "cells": [
  {
   "cell_type": "markdown",
   "id": "e1d83630-6c6e-41c5-a8e7-efcf6b6c280d",
   "metadata": {},
   "source": [
    "## LAB 3: Analytical Functions\n",
    "\n",
    "**Date: 01-02-2024**"
   ]
  },
  {
   "cell_type": "code",
   "execution_count": 1,
   "id": "979c312e-9df1-45c1-a562-df7f8db7b824",
   "metadata": {},
   "outputs": [],
   "source": [
    "import sympy as sp\n",
    "import numpy as np\n",
    "from typing import *"
   ]
  },
  {
   "cell_type": "markdown",
   "id": "508ceb19-3d66-44dc-a809-77832b338e85",
   "metadata": {},
   "source": [
    "> WAP to check whether a complex function satisfies the CR equation"
   ]
  },
  {
   "cell_type": "markdown",
   "id": "2c3e58e4-6813-48ef-8cdd-964f4cd04a0c",
   "metadata": {},
   "source": [
    "> *Algorithm*<br>\n",
    ">  STEP 1: START<br>\n",
    ">  STEP 2: Declare symbols<br>\n",
    ">  STEP 3: Declare dependent functions(u,v)<br>\n",
    ">  STEP 4: Find partial derivatives of dependent functions<br>\n",
    ">  STEP 5: Check and return for validity of CR equation<br>\n",
    ">  STEP 6: STOP"
   ]
  },
  {
   "cell_type": "code",
   "execution_count": 132,
   "id": "b1a71be9-92d6-4694-9abf-991b9a1f1dca",
   "metadata": {},
   "outputs": [],
   "source": [
    "def checkCR(f:str,x:\"sympy.Symbol\" = sp.symbols(\"x\",real = True), y:\"sympy.Symbol\" = sp.symbols(\"y\",real = True),):\n",
    "    f = sp.simplify(f,locals = [x,y])\n",
    "    u,v = sp.re(f),sp.im(f)\n",
    "    print(u)\n",
    "    return u,v"
   ]
  },
  {
   "cell_type": "code",
   "execution_count": 133,
   "id": "53c676c7-97dd-4290-a3e1-a511341ba4a5",
   "metadata": {},
   "outputs": [
    {
     "name": "stdout",
     "output_type": "stream",
     "text": [
      "re(x)**2 - re(y)**2 - im(x)**2 + im(y)**2 - 2*im(x*y)\n"
     ]
    },
    {
     "data": {
      "text/plain": [
       "(re(x)**2 - re(y)**2 - im(x)**2 + im(y)**2 - 2*im(x*y),\n",
       " 2*re(x)*im(x) - 2*re(y)*im(y) + 2*re(x*y))"
      ]
     },
     "execution_count": 133,
     "metadata": {},
     "output_type": "execute_result"
    }
   ],
   "source": [
    "checkCR(\"x**2 - y**2 + 1j*2*x*y\")"
   ]
  },
  {
   "cell_type": "code",
   "execution_count": null,
   "id": "2cdb56e7-0310-402d-9d46-0f9e0fc098c9",
   "metadata": {},
   "outputs": [],
   "source": []
  }
 ],
 "metadata": {
  "kernelspec": {
   "display_name": "Python 3 (ipykernel)",
   "language": "python",
   "name": "python3"
  },
  "language_info": {
   "codemirror_mode": {
    "name": "ipython",
    "version": 3
   },
   "file_extension": ".py",
   "mimetype": "text/x-python",
   "name": "python",
   "nbconvert_exporter": "python",
   "pygments_lexer": "ipython3",
   "version": "3.10.5"
  },
  "widgets": {
   "application/vnd.jupyter.widget-state+json": {
    "state": {},
    "version_major": 2,
    "version_minor": 0
   }
  }
 },
 "nbformat": 4,
 "nbformat_minor": 5
}
