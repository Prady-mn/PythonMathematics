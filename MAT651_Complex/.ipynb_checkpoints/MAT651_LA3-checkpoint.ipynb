{
 "cells": [
  {
   "cell_type": "markdown",
   "id": "e1d83630-6c6e-41c5-a8e7-efcf6b6c280d",
   "metadata": {},
   "source": [
    "## LAB 3: Analytical Functions\n",
    "\n",
    "**Date: 01-02-2024**"
   ]
  },
  {
   "cell_type": "code",
   "execution_count": 1,
   "id": "979c312e-9df1-45c1-a562-df7f8db7b824",
   "metadata": {},
   "outputs": [],
   "source": [
    "import sympy as sp\n",
    "import numpy as np\n",
    "from typing import *"
   ]
  },
  {
   "cell_type": "markdown",
   "id": "508ceb19-3d66-44dc-a809-77832b338e85",
   "metadata": {},
   "source": [
    "> WAP to check whether a complex function satisfies the **CR equation**"
   ]
  },
  {
   "cell_type": "markdown",
   "id": "2c3e58e4-6813-48ef-8cdd-964f4cd04a0c",
   "metadata": {},
   "source": [
    "> *Algorithm*<br>\n",
    ">  STEP 1: START<br>\n",
    ">  STEP 2: Declare symbols<br>\n",
    ">  STEP 3: Declare dependent functions(u,v)<br>\n",
    ">  STEP 4: Find partial derivatives of dependent functions<br>\n",
    ">  STEP 5: Check and return for validity of CR equation<br>\n",
    ">  STEP 6: STOP"
   ]
  },
  {
   "cell_type": "code",
   "execution_count": 2,
   "id": "b1a71be9-92d6-4694-9abf-991b9a1f1dca",
   "metadata": {},
   "outputs": [],
   "source": [
    "def checkCR(f:str,vars = {\"x\":sp.symbols(\"x\",real = True),\"y\":sp.symbols(\"y\",real = True)}) -> [bool,[\"derivatives\"]]:\n",
    "    f = sp.sympify(f,locals = vars)\n",
    "    x,y = list(vars.values())\n",
    "    u,v = sp.re(f),sp.im(f)\n",
    "    ux,vx,uy,vy = sp.diff(u,x),sp.diff(v,x),sp.diff(u,y),sp.diff(v,y)\n",
    "    return ((ux == vy) and (uy == -vx)),[[ux,vx],[uy,vy]]"
   ]
  },
  {
   "cell_type": "code",
   "execution_count": 3,
   "id": "53c676c7-97dd-4290-a3e1-a511341ba4a5",
   "metadata": {},
   "outputs": [
    {
     "data": {
      "text/plain": [
       "(True, [[2*x, 2*y], [-2*y, 2*x]])"
      ]
     },
     "execution_count": 3,
     "metadata": {},
     "output_type": "execute_result"
    }
   ],
   "source": [
    "checkCR(\"x**2 - y**2 + 1j*2*x*y\")"
   ]
  },
  {
   "cell_type": "markdown",
   "id": "235c42fb-54a5-41e2-9183-72b258f81f1c",
   "metadata": {},
   "source": [
    "**Date: 07-02-2024**"
   ]
  },
  {
   "cell_type": "markdown",
   "id": "5a2c7b96-d5ad-423d-890f-623402861364",
   "metadata": {},
   "source": [
    "**Harmonic Function**"
   ]
  },
  {
   "cell_type": "markdown",
   "id": "71466930-970e-4782-be2d-6e2133ba564a",
   "metadata": {},
   "source": [
    "> WAP to check if a function is Harmonic"
   ]
  },
  {
   "cell_type": "markdown",
   "id": "f313740b-9fbd-4e08-8468-29af7505940d",
   "metadata": {},
   "source": [
    "> *Algorithm*<br>\n",
    ">  STEP 1: START<br>\n",
    ">  STEP 2: Calculate second order partial derivatives, ie. Laplacian<br>\n",
    ">  STEP 4: Check if Laplacian is equal to 0, then it is Harmonic<br>\n",
    ">  STEP 6: STOP"
   ]
  },
  {
   "cell_type": "code",
   "execution_count": 4,
   "id": "9927a9ba-1923-4192-b86a-41172a3643f0",
   "metadata": {},
   "outputs": [],
   "source": [
    "def checkHarmonic(f:str,vars = {\"x\":sp.symbols(\"x\",real = True),\"y\":sp.symbols(\"y\",real = True)}) -> [bool,str,\"sympy.expression\"] :\n",
    "    f = sp.sympify(f,locals = vars)\n",
    "    x,y = list(vars.values())\n",
    "    fxx,fyy = sp.diff(f,x,x),sp.diff(f,y,y)\n",
    "    return (fxx+fyy) == 0, f\"fxx = {fxx}  fyy = {fyy}\",f"
   ]
  },
  {
   "cell_type": "code",
   "execution_count": 5,
   "id": "e1c67a55-7ecd-4c5f-9a7a-15027abf703f",
   "metadata": {},
   "outputs": [],
   "source": [
    "def printCheckHarmonic(f:str):\n",
    "    harmonic = checkHarmonic(f)\n",
    "    if(harmonic[0]):\n",
    "        print(\"FUNCTION IS HARMONIC\")\n",
    "    else:\n",
    "        print(\"FUNCTION IS NOT HARMONIC\")\n",
    "    return harmonic[-1]"
   ]
  },
  {
   "cell_type": "code",
   "execution_count": 6,
   "id": "8f060bc3-3e7e-46ac-91a5-e1be14da303f",
   "metadata": {},
   "outputs": [
    {
     "name": "stdout",
     "output_type": "stream",
     "text": [
      "FUNCTION IS HARMONIC\n"
     ]
    },
    {
     "data": {
      "text/latex": [
       "$\\displaystyle x^{2} - y^{2}$"
      ],
      "text/plain": [
       "x**2 - y**2"
      ]
     },
     "execution_count": 6,
     "metadata": {},
     "output_type": "execute_result"
    }
   ],
   "source": [
    "printCheckHarmonic(\"x**2 - y**2\")"
   ]
  },
  {
   "cell_type": "code",
   "execution_count": 7,
   "id": "05cba4ec-279a-4083-b58e-89d6ea2ea1c0",
   "metadata": {},
   "outputs": [
    {
     "name": "stdout",
     "output_type": "stream",
     "text": [
      "FUNCTION IS HARMONIC\n"
     ]
    },
    {
     "data": {
      "text/latex": [
       "$\\displaystyle x^{3} - 3 x y^{2}$"
      ],
      "text/plain": [
       "x**3 - 3*x*y**2"
      ]
     },
     "execution_count": 7,
     "metadata": {},
     "output_type": "execute_result"
    }
   ],
   "source": [
    "printCheckHarmonic(\"x**3 - 3*x*y**2\")"
   ]
  },
  {
   "cell_type": "code",
   "execution_count": 8,
   "id": "815bce72-3a59-42bd-a9ef-988148c8d3d9",
   "metadata": {},
   "outputs": [
    {
     "name": "stdout",
     "output_type": "stream",
     "text": [
      "FUNCTION IS HARMONIC\n"
     ]
    },
    {
     "data": {
      "text/latex": [
       "$\\displaystyle x^{2} + x - y^{2} + 1$"
      ],
      "text/plain": [
       "x**2 + x - y**2 + 1"
      ]
     },
     "execution_count": 8,
     "metadata": {},
     "output_type": "execute_result"
    }
   ],
   "source": [
    "printCheckHarmonic(\"x**2 - y**2 + x + 1\")"
   ]
  },
  {
   "cell_type": "code",
   "execution_count": 9,
   "id": "c3a60e82-bf30-48a3-8dbc-55431f27b4e8",
   "metadata": {},
   "outputs": [
    {
     "name": "stdout",
     "output_type": "stream",
     "text": [
      "FUNCTION IS NOT HARMONIC\n"
     ]
    },
    {
     "data": {
      "text/latex": [
       "$\\displaystyle x^{2} y - x y^{2}$"
      ],
      "text/plain": [
       "x**2*y - x*y**2"
      ]
     },
     "execution_count": 9,
     "metadata": {},
     "output_type": "execute_result"
    }
   ],
   "source": [
    "printCheckHarmonic(\"x**2 * y - y**2 * x\")"
   ]
  },
  {
   "cell_type": "code",
   "execution_count": 10,
   "id": "f6a9a0a4-ab65-468e-8593-c8b940401364",
   "metadata": {},
   "outputs": [
    {
     "name": "stdout",
     "output_type": "stream",
     "text": [
      "FUNCTION IS NOT HARMONIC\n"
     ]
    },
    {
     "data": {
      "text/latex": [
       "$\\displaystyle x^{3} + x - y^{3} + i \\left(x^{3} - 3 x y^{2} + 2 x\\right) + 1$"
      ],
      "text/plain": [
       "x**3 + x - y**3 + I*(x**3 - 3*x*y**2 + 2*x) + 1"
      ]
     },
     "execution_count": 10,
     "metadata": {},
     "output_type": "execute_result"
    }
   ],
   "source": [
    "printCheckHarmonic(\"x**3 - y**3 + x + 1 + I*(x**3 - 3*x*y**2 + 2*x)\")"
   ]
  },
  {
   "cell_type": "code",
   "execution_count": 11,
   "id": "afd976cf-10ad-4faf-9dc9-7443ba4ce94a",
   "metadata": {},
   "outputs": [],
   "source": [
    "def checkHarmonicConjugate(u:str,v:str,vars = {\"x\":sp.symbols(\"x\",real = True),\"y\":sp.symbols(\"y\",real = True)}) -> [bool, dict]:\n",
    "    f = u+\"+ I*\"+v\n",
    "    u,v = [sp.sympify(f,locals = vars) for f in [u,v]]\n",
    "\n",
    "    isHarmonic = checkHarmonic(u)[0] and checkHarmonic(v)[0]\n",
    "    CReq = checkCR(f)[0]\n",
    "    \n",
    "    return isHarmonic and CReq,{\"u\":u,\"v\":v,\"Harmonic\":isHarmonic,\"CReq\":CReq}"
   ]
  },
  {
   "cell_type": "code",
   "execution_count": 12,
   "id": "9888247d-858b-4ed9-b63d-1da66fa3caf2",
   "metadata": {},
   "outputs": [
    {
     "data": {
      "text/plain": [
       "(True, {'u': x**2 - y**2, 'v': 2*x*y, 'Harmonic': True, 'CReq': True})"
      ]
     },
     "execution_count": 12,
     "metadata": {},
     "output_type": "execute_result"
    }
   ],
   "source": [
    "checkHarmonicConjugate(\"x**2 - y**2\",\"2*x*y\")"
   ]
  },
  {
   "cell_type": "code",
   "execution_count": 13,
   "id": "6b69df1b-2ba1-4348-9701-a87361bbd465",
   "metadata": {},
   "outputs": [
    {
     "data": {
      "text/plain": [
       "(False,\n",
       " {'u': cos(x)*sinh(y), 'v': sin(x)*cosh(y), 'Harmonic': True, 'CReq': False})"
      ]
     },
     "execution_count": 13,
     "metadata": {},
     "output_type": "execute_result"
    }
   ],
   "source": [
    "checkHarmonicConjugate(\"cos(x)*sinh(y)\",\"sin(x)*cosh(y)\")"
   ]
  },
  {
   "cell_type": "markdown",
   "id": "68f910fb-17c3-4d3e-869a-f186eb1e8189",
   "metadata": {},
   "source": [
    "**Date: 08-02-2024**"
   ]
  },
  {
   "cell_type": "markdown",
   "id": "66a963a4-50bc-4782-bb24-2daae4012dae",
   "metadata": {},
   "source": [
    "**Harmonic Conjugate**"
   ]
  },
  {
   "cell_type": "markdown",
   "id": "1d1243c0-5fac-40bd-a159-745fb383bfb1",
   "metadata": {},
   "source": [
    "> WAP to find the harmonic conjugate of a function"
   ]
  },
  {
   "cell_type": "code",
   "execution_count": 14,
   "id": "aec1be3c-1192-470f-9f3f-2029d12826e7",
   "metadata": {},
   "outputs": [],
   "source": [
    "def harmonicConjugate(u:str,vars = {\"x\":sp.symbols(\"x\",real = True),\"y\":sp.symbols(\"y\",real = True)}) -> \"sympy.expression\":\n",
    "    if(not checkHarmonic(u)[0]):\n",
    "        return (None)\n",
    "    u = sp.sympify(u,locals=vars)\n",
    "    x,y = list(vars.values())\n",
    "    ux,uy = sp.diff(u,x),sp.diff(u,y)\n",
    "    #Remove terms with x in uy\n",
    "    #print([f for f in sp.Add.make_args(uy) if(x not in f.free_symbols)])\n",
    "    uy = sum([f for f in sp.Add.make_args(uy) if(x not in f.free_symbols)])\n",
    "    return -sp.integrate(uy,x) + sp.integrate(ux,y)"
   ]
  },
  {
   "cell_type": "code",
   "execution_count": 15,
   "id": "13fc1f43-7d09-4f16-8701-1e67afc3d187",
   "metadata": {},
   "outputs": [
    {
     "data": {
      "text/latex": [
       "$\\displaystyle 4 x y$"
      ],
      "text/plain": [
       "4*x*y"
      ]
     },
     "execution_count": 15,
     "metadata": {},
     "output_type": "execute_result"
    }
   ],
   "source": [
    "harmonicConjugate(\"x**2 - y**2\")"
   ]
  },
  {
   "cell_type": "code",
   "execution_count": 16,
   "id": "f5b84fb1-cc90-4130-a918-c1eaafcc6a0e",
   "metadata": {},
   "outputs": [
    {
     "data": {
      "text/latex": [
       "$\\displaystyle \\sin{\\left(y \\right)} \\cosh{\\left(x \\right)}$"
      ],
      "text/plain": [
       "sin(y)*cosh(x)"
      ]
     },
     "execution_count": 16,
     "metadata": {},
     "output_type": "execute_result"
    }
   ],
   "source": [
    "harmonicConjugate(\"sinh(x)*cos(y)\")"
   ]
  },
  {
   "cell_type": "code",
   "execution_count": 17,
   "id": "5d7f4456-77a8-4a1a-9b29-f01af7f8399a",
   "metadata": {},
   "outputs": [
    {
     "data": {
      "text/latex": [
       "$\\displaystyle 2 x y + y \\left(2 x + 1\\right)$"
      ],
      "text/plain": [
       "2*x*y + y*(2*x + 1)"
      ]
     },
     "execution_count": 17,
     "metadata": {},
     "output_type": "execute_result"
    }
   ],
   "source": [
    "harmonicConjugate(\"x**2 - y**2 + x + 1\")"
   ]
  },
  {
   "cell_type": "code",
   "execution_count": 18,
   "id": "f25c0f60-291d-4bd4-b2f1-d4c24c82f4eb",
   "metadata": {},
   "outputs": [
    {
     "data": {
      "text/latex": [
       "$\\displaystyle 3 x^{2} y - y^{3}$"
      ],
      "text/plain": [
       "3*x**2*y - y**3"
      ]
     },
     "execution_count": 18,
     "metadata": {},
     "output_type": "execute_result"
    }
   ],
   "source": [
    "harmonicConjugate(\"x**3 - 3*x*y**2\")"
   ]
  },
  {
   "cell_type": "markdown",
   "id": "d9362204-b862-4b33-83b6-e8d9cdf36482",
   "metadata": {},
   "source": [
    "**Date: 06-03-2024**"
   ]
  },
  {
   "cell_type": "markdown",
   "id": "c691e7a0-a2ca-4c4c-8494-05939042e8ec",
   "metadata": {},
   "source": [
    "**Milne Thompson Method**<br>\n",
    "$\\quad$ To find analytic function"
   ]
  },
  {
   "cell_type": "code",
   "execution_count": 38,
   "id": "7dfe171e-46e6-449c-974c-13de099a207f",
   "metadata": {},
   "outputs": [],
   "source": [
    "def milneThompson_u(u:str,vars = {\"x\":sp.symbols(\"x\",real = True),\"y\":sp.symbols(\"y\",real = True)}) -> \"sympy.expression\":\n",
    "    u = sp.sympify(u,locals=vars)\n",
    "    x,y = list(vars.values())\n",
    "    ux,uy = sp.diff(u,x),sp.diff(u,y)\n",
    "    z = sp.symbols(\"z\")\n",
    "    subst = {x:z, y:0}\n",
    "    \n",
    "    f = sp.integrate(ux.subs(subst),z) - sp.I * sp.integrate(uy.subs(subst),z)\n",
    "\n",
    "    return f"
   ]
  },
  {
   "cell_type": "code",
   "execution_count": 43,
   "id": "0f45b418-f92d-4093-b7f7-46f302707764",
   "metadata": {},
   "outputs": [
    {
     "data": {
      "text/latex": [
       "$\\displaystyle \\sin{\\left(z \\right)}$"
      ],
      "text/plain": [
       "sin(z)"
      ]
     },
     "execution_count": 43,
     "metadata": {},
     "output_type": "execute_result"
    }
   ],
   "source": [
    "milneThompson_u(\"sin(x)*cosh(y)\")"
   ]
  },
  {
   "cell_type": "code",
   "execution_count": 53,
   "id": "6fa26192-1042-408b-ae1c-c7d4b5b1f496",
   "metadata": {},
   "outputs": [
    {
     "data": {
      "text/latex": [
       "$\\displaystyle e^{z}$"
      ],
      "text/plain": [
       "e**z"
      ]
     },
     "execution_count": 53,
     "metadata": {},
     "output_type": "execute_result"
    }
   ],
   "source": [
    "milneThompson_u(\"e**x * cos(y)\")"
   ]
  },
  {
   "cell_type": "code",
   "execution_count": 55,
   "id": "bc544978-3eea-4425-a7e5-86fa412664de",
   "metadata": {},
   "outputs": [
    {
     "data": {
      "text/latex": [
       "$\\displaystyle \\frac{1}{z} - \\frac{i}{2 z^{2}}$"
      ],
      "text/plain": [
       "1/z - I/(2*z**2)"
      ]
     },
     "execution_count": 55,
     "metadata": {},
     "output_type": "execute_result"
    }
   ],
   "source": [
    "milneThompson_u(\"x/(x**2 + y)\")"
   ]
  },
  {
   "cell_type": "code",
   "execution_count": 51,
   "id": "14502917-d8f3-47a4-9e44-5a999e21ecbd",
   "metadata": {},
   "outputs": [],
   "source": [
    "def milneThompson_v(v:str,vars = {\"x\":sp.symbols(\"x\",real = True),\"y\":sp.symbols(\"y\",real = True)}) -> \"sympy.expression\":\n",
    "    v = sp.sympify(v,locals=vars)\n",
    "    x,y = list(vars.values())\n",
    "    vx,vy = sp.diff(v,x),sp.diff(v,y)\n",
    "    z = sp.symbols(\"z\")\n",
    "    subst = {x:z, y:0}\n",
    "    \n",
    "    f = sp.integrate(vy.subs(subst),z) + sp.I * sp.integrate(vx.subs(subst),z)\n",
    "\n",
    "    return f"
   ]
  },
  {
   "cell_type": "code",
   "execution_count": 52,
   "id": "a961940b-450f-407d-954f-ae806f34b9fe",
   "metadata": {},
   "outputs": [
    {
     "data": {
      "text/latex": [
       "$\\displaystyle i \\cosh{\\left(z \\right)}$"
      ],
      "text/plain": [
       "I*cosh(z)"
      ]
     },
     "execution_count": 52,
     "metadata": {},
     "output_type": "execute_result"
    }
   ],
   "source": [
    "milneThompson_v(\"cosh(x)\")"
   ]
  },
  {
   "cell_type": "code",
   "execution_count": 54,
   "id": "f866ebda-e117-4d3c-83a1-47de70899c3a",
   "metadata": {},
   "outputs": [
    {
     "data": {
      "text/latex": [
       "$\\displaystyle i e^{z}$"
      ],
      "text/plain": [
       "I*e**z"
      ]
     },
     "execution_count": 54,
     "metadata": {},
     "output_type": "execute_result"
    }
   ],
   "source": [
    "milneThompson_v(\"e**x * cos(y)\")"
   ]
  },
  {
   "cell_type": "code",
   "execution_count": 56,
   "id": "9991fd13-11bc-497c-81ea-dd4274c335b9",
   "metadata": {},
   "outputs": [
    {
     "data": {
      "text/latex": [
       "$\\displaystyle \\frac{i}{z} + \\frac{1}{2 z^{2}}$"
      ],
      "text/plain": [
       "I/z + 1/(2*z**2)"
      ]
     },
     "execution_count": 56,
     "metadata": {},
     "output_type": "execute_result"
    }
   ],
   "source": [
    "milneThompson_v(\"x/(x**2 + y)\")"
   ]
  },
  {
   "cell_type": "code",
   "execution_count": 57,
   "id": "09cdc552-2061-45be-a75b-1a24fd711799",
   "metadata": {},
   "outputs": [
    {
     "data": {
      "text/latex": [
       "$\\displaystyle i \\left(z^{2} + \\frac{1}{z}\\right)$"
      ],
      "text/plain": [
       "I*(z**2 + 1/z)"
      ]
     },
     "execution_count": 57,
     "metadata": {},
     "output_type": "execute_result"
    }
   ],
   "source": [
    "milneThompson_v(\"x**2 - y**2 + x/(x**2 + y**2)\")"
   ]
  },
  {
   "cell_type": "code",
   "execution_count": 59,
   "id": "65e13fc0-733e-4fdb-8169-b07d560454f1",
   "metadata": {},
   "outputs": [
    {
     "data": {
      "text/latex": [
       "$\\displaystyle 2 i \\log{\\left(z \\right)}$"
      ],
      "text/plain": [
       "2*I*log(z)"
      ]
     },
     "execution_count": 59,
     "metadata": {},
     "output_type": "execute_result"
    }
   ],
   "source": [
    "milneThompson_v(\"log(x**2 + y**2)\")"
   ]
  },
  {
   "cell_type": "code",
   "execution_count": 60,
   "id": "1dd0f0d9-159f-4f48-84a3-1c1b1a954e92",
   "metadata": {},
   "outputs": [
    {
     "data": {
      "text/latex": [
       "$\\displaystyle 4 \\log{\\left(e \\right)} \\cos{\\left(z \\right)}$"
      ],
      "text/plain": [
       "4*log(e)*cos(z)"
      ]
     },
     "execution_count": 60,
     "metadata": {},
     "output_type": "execute_result"
    }
   ],
   "source": [
    "milneThompson_v(\"-2*sin(x) * (e**y - e**(-y))\")"
   ]
  },
  {
   "cell_type": "code",
   "execution_count": null,
   "id": "3d12b80a-5fd9-4115-8035-ec5b3a933316",
   "metadata": {},
   "outputs": [],
   "source": []
  }
 ],
 "metadata": {
  "kernelspec": {
   "display_name": "Python 3 (ipykernel)",
   "language": "python",
   "name": "python3"
  },
  "language_info": {
   "codemirror_mode": {
    "name": "ipython",
    "version": 3
   },
   "file_extension": ".py",
   "mimetype": "text/x-python",
   "name": "python",
   "nbconvert_exporter": "python",
   "pygments_lexer": "ipython3",
   "version": "3.10.5"
  },
  "widgets": {
   "application/vnd.jupyter.widget-state+json": {
    "state": {},
    "version_major": 2,
    "version_minor": 0
   }
  }
 },
 "nbformat": 4,
 "nbformat_minor": 5
}
