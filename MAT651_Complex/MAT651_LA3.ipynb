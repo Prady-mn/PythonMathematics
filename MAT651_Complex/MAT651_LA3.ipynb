{
 "cells": [
  {
   "cell_type": "markdown",
   "id": "e1d83630-6c6e-41c5-a8e7-efcf6b6c280d",
   "metadata": {},
   "source": [
    "## LAB 3: Analytical Functions\n",
    "\n",
    "**Date: 01-02-2024**"
   ]
  },
  {
   "cell_type": "code",
   "execution_count": 20,
   "id": "979c312e-9df1-45c1-a562-df7f8db7b824",
   "metadata": {},
   "outputs": [],
   "source": [
    "import sympy as sp\n",
    "import numpy as np\n",
    "from typing import *"
   ]
  },
  {
   "cell_type": "markdown",
   "id": "508ceb19-3d66-44dc-a809-77832b338e85",
   "metadata": {},
   "source": [
    "> WAP to check whether a complex function satisfies the **CR equation**"
   ]
  },
  {
   "cell_type": "markdown",
   "id": "2c3e58e4-6813-48ef-8cdd-964f4cd04a0c",
   "metadata": {},
   "source": [
    "> *Algorithm*<br>\n",
    ">  STEP 1: START<br>\n",
    ">  STEP 2: Declare symbols<br>\n",
    ">  STEP 3: Declare dependent functions(u,v)<br>\n",
    ">  STEP 4: Find partial derivatives of dependent functions<br>\n",
    ">  STEP 5: Check and return for validity of CR equation<br>\n",
    ">  STEP 6: STOP"
   ]
  },
  {
   "cell_type": "code",
   "execution_count": 99,
   "id": "b1a71be9-92d6-4694-9abf-991b9a1f1dca",
   "metadata": {},
   "outputs": [],
   "source": [
    "def checkCR(f:str,vars = {\"x\":sp.symbols(\"x\",real = True),\"y\":sp.symbols(\"y\",real = True)}):\n",
    "    f = sp.sympify(f,locals = vars)\n",
    "    x,y = list(vars.values())\n",
    "    u,v = sp.re(f),sp.im(f)\n",
    "    ux,vx,uy,vy = sp.diff(u,x),sp.diff(v,x),sp.diff(u,y),sp.diff(v,y)\n",
    "    return ((ux == vy) and (uy == -vx)),[[ux,vx],[uy,vy]]"
   ]
  },
  {
   "cell_type": "code",
   "execution_count": 100,
   "id": "53c676c7-97dd-4290-a3e1-a511341ba4a5",
   "metadata": {},
   "outputs": [
    {
     "data": {
      "text/plain": [
       "(True, [[2*x, 2*y], [-2*y, 2*x]])"
      ]
     },
     "execution_count": 100,
     "metadata": {},
     "output_type": "execute_result"
    }
   ],
   "source": [
    "checkCR(\"x**2 - y**2 + 1j*2*x*y\")"
   ]
  },
  {
   "cell_type": "markdown",
   "id": "5a2c7b96-d5ad-423d-890f-623402861364",
   "metadata": {},
   "source": [
    "**Harmonic Function**"
   ]
  },
  {
   "cell_type": "markdown",
   "id": "71466930-970e-4782-be2d-6e2133ba564a",
   "metadata": {},
   "source": [
    "> WAP to check if a function is Harmonic"
   ]
  },
  {
   "cell_type": "markdown",
   "id": "f313740b-9fbd-4e08-8468-29af7505940d",
   "metadata": {},
   "source": [
    "> *Algorithm*<br>\n",
    ">  STEP 1: START<br>\n",
    ">  STEP 2: Calculate second order partial derivatives, ie. Laplacian<br>\n",
    ">  STEP 4: Check if Laplacian is equal to 0, then it is Harmonic<br>\n",
    ">  STEP 6: STOP"
   ]
  },
  {
   "cell_type": "code",
   "execution_count": 115,
   "id": "9927a9ba-1923-4192-b86a-41172a3643f0",
   "metadata": {},
   "outputs": [],
   "source": [
    "def checkHarmonic(f:str,vars = {\"x\":sp.symbols(\"x\",real = True),\"y\":sp.symbols(\"y\",real = True)}):\n",
    "    f = sp.sympify(f,locals = vars)\n",
    "    x,y = list(vars.values())\n",
    "    fxx,fyy = sp.diff(f,x,x),sp.diff(f,y,y)\n",
    "    return (fxx+fyy) == 0, f\"fxx = {fxx}  fyy = {fyy}\",f"
   ]
  },
  {
   "cell_type": "code",
   "execution_count": 119,
   "id": "e1c67a55-7ecd-4c5f-9a7a-15027abf703f",
   "metadata": {},
   "outputs": [],
   "source": [
    "def printCheckHarmonic(f:str):\n",
    "    harmonic = checkHarmonic(f)\n",
    "    if(harmonic[0]):\n",
    "        print(\"FUNCTION IS HARMONIC\")\n",
    "    else:\n",
    "        print(\"FUNCTION IS NOT HARMONIC\")\n",
    "    return harmonic[-1]"
   ]
  },
  {
   "cell_type": "code",
   "execution_count": 120,
   "id": "8f060bc3-3e7e-46ac-91a5-e1be14da303f",
   "metadata": {},
   "outputs": [
    {
     "name": "stdout",
     "output_type": "stream",
     "text": [
      "FUNCTION IS HARMONIC\n"
     ]
    },
    {
     "data": {
      "text/latex": [
       "$\\displaystyle x^{2} - y^{2}$"
      ],
      "text/plain": [
       "x**2 - y**2"
      ]
     },
     "execution_count": 120,
     "metadata": {},
     "output_type": "execute_result"
    }
   ],
   "source": [
    "printCheckHarmonic(\"x**2 - y**2\")"
   ]
  },
  {
   "cell_type": "code",
   "execution_count": 121,
   "id": "05cba4ec-279a-4083-b58e-89d6ea2ea1c0",
   "metadata": {},
   "outputs": [
    {
     "name": "stdout",
     "output_type": "stream",
     "text": [
      "FUNCTION IS HARMONIC\n"
     ]
    },
    {
     "data": {
      "text/latex": [
       "$\\displaystyle x^{3} - 3 x y^{2}$"
      ],
      "text/plain": [
       "x**3 - 3*x*y**2"
      ]
     },
     "execution_count": 121,
     "metadata": {},
     "output_type": "execute_result"
    }
   ],
   "source": [
    "printCheckHarmonic(\"x**3 - 3*x*y**2\")"
   ]
  },
  {
   "cell_type": "code",
   "execution_count": 122,
   "id": "815bce72-3a59-42bd-a9ef-988148c8d3d9",
   "metadata": {},
   "outputs": [
    {
     "name": "stdout",
     "output_type": "stream",
     "text": [
      "FUNCTION IS HARMONIC\n"
     ]
    },
    {
     "data": {
      "text/latex": [
       "$\\displaystyle x^{2} + x - y^{2} + 1$"
      ],
      "text/plain": [
       "x**2 + x - y**2 + 1"
      ]
     },
     "execution_count": 122,
     "metadata": {},
     "output_type": "execute_result"
    }
   ],
   "source": [
    "printCheckHarmonic(\"x**2 - y**2 + x + 1\")"
   ]
  },
  {
   "cell_type": "code",
   "execution_count": 123,
   "id": "c3a60e82-bf30-48a3-8dbc-55431f27b4e8",
   "metadata": {},
   "outputs": [
    {
     "name": "stdout",
     "output_type": "stream",
     "text": [
      "FUNCTION IS NOT HARMONIC\n"
     ]
    },
    {
     "data": {
      "text/latex": [
       "$\\displaystyle x^{2} y - x y^{2}$"
      ],
      "text/plain": [
       "x**2*y - x*y**2"
      ]
     },
     "execution_count": 123,
     "metadata": {},
     "output_type": "execute_result"
    }
   ],
   "source": [
    "printCheckHarmonic(\"x**2 * y - y**2 * x\")"
   ]
  },
  {
   "cell_type": "code",
   "execution_count": 128,
   "id": "f6a9a0a4-ab65-468e-8593-c8b940401364",
   "metadata": {},
   "outputs": [
    {
     "name": "stdout",
     "output_type": "stream",
     "text": [
      "FUNCTION IS NOT HARMONIC\n"
     ]
    },
    {
     "data": {
      "text/latex": [
       "$\\displaystyle x^{3} + x - y^{3} + i \\left(x^{3} - 3 x y^{2} + 2 x\\right) + 1$"
      ],
      "text/plain": [
       "x**3 + x - y**3 + I*(x**3 - 3*x*y**2 + 2*x) + 1"
      ]
     },
     "execution_count": 128,
     "metadata": {},
     "output_type": "execute_result"
    }
   ],
   "source": [
    "printCheckHarmonic(\"x**3 - y**3 + x + 1 + I*(x**3 - 3*x*y**2 + 2*x)\")"
   ]
  },
  {
   "cell_type": "code",
   "execution_count": 185,
   "id": "afd976cf-10ad-4faf-9dc9-7443ba4ce94a",
   "metadata": {},
   "outputs": [],
   "source": [
    "def checkHarmonicConjugate(u:str,v:str,vars = {\"x\":sp.symbols(\"x\",real = True),\"y\":sp.symbols(\"y\",real = True)}):\n",
    "    f = u+\"+ I*\"+v\n",
    "    u,v = [sp.sympify(f,locals = vars) for f in [u,v]]\n",
    "\n",
    "    isHarmonic = checkHarmonic(u)[0] and checkHarmonic(v)[0]\n",
    "    CReq = checkCR(f)[0]\n",
    "    \n",
    "    return isHarmonic and CReq,{\"u\":u,\"v\":v,\"Harmonic\":isHarmonic,\"CReq\":CReq}"
   ]
  },
  {
   "cell_type": "code",
   "execution_count": 186,
   "id": "9888247d-858b-4ed9-b63d-1da66fa3caf2",
   "metadata": {},
   "outputs": [
    {
     "data": {
      "text/plain": [
       "(True, {'u': x**2 - y**2, 'v': 2*x*y, 'Harmonic': True, 'CReq': True})"
      ]
     },
     "execution_count": 186,
     "metadata": {},
     "output_type": "execute_result"
    }
   ],
   "source": [
    "checkHarmonicConjugate(\"x**2 - y**2\",\"2*x*y\")"
   ]
  },
  {
   "cell_type": "code",
   "execution_count": 187,
   "id": "6b69df1b-2ba1-4348-9701-a87361bbd465",
   "metadata": {},
   "outputs": [
    {
     "data": {
      "text/plain": [
       "(False,\n",
       " {'u': cos(x)*sinh(y), 'v': sin(x)*cosh(y), 'Harmonic': True, 'CReq': False})"
      ]
     },
     "execution_count": 187,
     "metadata": {},
     "output_type": "execute_result"
    }
   ],
   "source": [
    "checkHarmonicConjugate(\"cos(x)*sinh(y)\",\"sin(x)*cosh(y)\")"
   ]
  }
 ],
 "metadata": {
  "kernelspec": {
   "display_name": "Python 3 (ipykernel)",
   "language": "python",
   "name": "python3"
  },
  "language_info": {
   "codemirror_mode": {
    "name": "ipython",
    "version": 3
   },
   "file_extension": ".py",
   "mimetype": "text/x-python",
   "name": "python",
   "nbconvert_exporter": "python",
   "pygments_lexer": "ipython3",
   "version": "3.10.5"
  },
  "widgets": {
   "application/vnd.jupyter.widget-state+json": {
    "state": {},
    "version_major": 2,
    "version_minor": 0
   }
  }
 },
 "nbformat": 4,
 "nbformat_minor": 5
}
