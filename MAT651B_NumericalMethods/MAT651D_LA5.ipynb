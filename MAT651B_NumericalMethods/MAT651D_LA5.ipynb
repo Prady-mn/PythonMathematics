{
 "cells": [
  {
   "cell_type": "markdown",
   "id": "889309d2-edbe-44bd-9ab8-2690ae1eb1d3",
   "metadata": {},
   "source": [
    "## LAB 5: LU Decomposition\n",
    "\n",
    "**Date: 10-02-2024**"
   ]
  },
  {
   "cell_type": "code",
   "execution_count": 1,
   "id": "c8e905a9-a0bb-4032-8cde-15a6ec3e19d2",
   "metadata": {},
   "outputs": [],
   "source": [
    "import numpy as np\n",
    "from typing import *"
   ]
  },
  {
   "cell_type": "code",
   "execution_count": 2,
   "id": "b0515f06-52f2-411f-9d61-76accc2a474d",
   "metadata": {},
   "outputs": [],
   "source": [
    "# FROM MAT551_LA2\n",
    "def rowEchelon(A):\n",
    "    mat = A.copy()\n",
    "    for i in range(min(mat.shape)):\n",
    "        row = mat[i,:].A1\n",
    "        if(row[i] == 0):\n",
    "            continue;\n",
    "        row = row/row[i];\n",
    "        mat[i,:] = row\n",
    "        for j in range(i+1,mat.shape[0]):\n",
    "            mat[j,:] = mat[j,:] - (mat[j,i]*row)\n",
    "        #print(mat)\n",
    "    return mat\n",
    "\n",
    "#def redRowEchelon(mat):\n",
    "#    for i in range(min(mat.shape)):\n",
    "#        row = mat[i,:].A1\n",
    "#        if(row[i] == 0):\n",
    "#            continue;\n",
    "#        row = row/row[i];\n",
    "#        mat[i,:] = row\n",
    "#        for j in range(mat.shape[0]):\n",
    "#            if(j==i):\n",
    "#                continue;\n",
    "#            mat[j,:] = mat[j,:] - (mat[j,i]*row)\n",
    "#        #print(mat)\n",
    "#    return mat"
   ]
  },
  {
   "cell_type": "code",
   "execution_count": 71,
   "id": "c2c188f0-7687-40fc-a16f-7768ed36f446",
   "metadata": {},
   "outputs": [],
   "source": [
    "def decompose(A:\"np.matrix\"):\n",
    "    # Assert A is Square Matrix\n",
    "    assert A.shape[0] == A.shape[1]\n",
    "    \n",
    "    n = A.shape[0]\n",
    "    L,U = np.diag([1.00]*len(A)),A.copy();\n",
    "    \n",
    "    for i in range(n):\n",
    "        #row = U[i,:].A1\n",
    "        if(U[i,i] == 0):\n",
    "            continue;\n",
    "        for j in range(i+1,n):\n",
    "            L[j,i] = U[j,i]/U[i,i]\n",
    "            U[j,:] = U[j,:] - U[i,:]*(U[j,i]/U[i,i])    \n",
    "    return L,U,(L*U == A).all()\n",
    "\n",
    "def LUsolve(A:\"np.matrix\",B:\"np.matrix\"):\n",
    "    assert A.shape[0] == B.shape[0]\n",
    "    \n",
    "    L,U,f = decompose(A)\n",
    "    #Z = np.linalg.solve(L,B)\n",
    "    return np.linalg.solve(U,np.linalg.solve(L,B)) if(f) else False"
   ]
  },
  {
   "cell_type": "code",
   "execution_count": 76,
   "id": "944cb385-e07e-450f-bee2-51506c0447e3",
   "metadata": {},
   "outputs": [
    {
     "data": {
      "text/plain": [
       "(array([[1., 0., 0.],\n",
       "        [4., 1., 0.],\n",
       "        [3., 8., 1.]]),\n",
       " matrix([[ 1.,  1.,  1.],\n",
       "         [ 0., -1., -5.],\n",
       "         [ 0.,  0., 40.]]),\n",
       " True)"
      ]
     },
     "execution_count": 76,
     "metadata": {},
     "output_type": "execute_result"
    }
   ],
   "source": [
    "A = np.matrix([[1,1,1],[4,3,-1],[3,-5,3]], dtype=float)\n",
    "B = np.matrix([1,6,4],dtype=float).T\n",
    "\n",
    "decompose(A)"
   ]
  },
  {
   "cell_type": "code",
   "execution_count": 77,
   "id": "916d6fef-7952-4dd3-9703-0046bdd191f9",
   "metadata": {},
   "outputs": [
    {
     "data": {
      "text/plain": [
       "matrix([[ 1.5  ],\n",
       "        [-0.125],\n",
       "        [-0.375]])"
      ]
     },
     "execution_count": 77,
     "metadata": {},
     "output_type": "execute_result"
    }
   ],
   "source": [
    "LUsolve(A,B)"
   ]
  },
  {
   "cell_type": "code",
   "execution_count": 78,
   "id": "a1be5d8a-a3d1-433f-9b91-b559fe3e4e8d",
   "metadata": {},
   "outputs": [
    {
     "data": {
      "text/plain": [
       "matrix([[ 1.5  ],\n",
       "        [-0.125],\n",
       "        [-0.375]])"
      ]
     },
     "execution_count": 78,
     "metadata": {},
     "output_type": "execute_result"
    }
   ],
   "source": [
    "np.linalg.solve(A,B)"
   ]
  },
  {
   "cell_type": "code",
   "execution_count": 79,
   "id": "5890ccb8-38d6-489e-9313-81dba45972fd",
   "metadata": {},
   "outputs": [
    {
     "data": {
      "text/plain": [
       "matrix([[3.125],\n",
       "        [1.25 ],\n",
       "        [2.   ]])"
      ]
     },
     "execution_count": 79,
     "metadata": {},
     "output_type": "execute_result"
    }
   ],
   "source": [
    "A = np.matrix([[2,-1,-2],[-4,6,3],[-4,-2,8]], dtype= float)\n",
    "#A = np.matrix([[4,3,6],[-1,3,2],[-4,9,7]], dtype= float)\n",
    "B = np.matrix([1,1,1],dtype=float).T\n",
    "\n",
    "LUsolve(A,B)"
   ]
  },
  {
   "cell_type": "code",
   "execution_count": 80,
   "id": "53629100-31b7-4827-96ec-4a7285b43028",
   "metadata": {},
   "outputs": [
    {
     "data": {
      "text/plain": [
       "matrix([[3.125],\n",
       "        [1.25 ],\n",
       "        [2.   ]])"
      ]
     },
     "execution_count": 80,
     "metadata": {},
     "output_type": "execute_result"
    }
   ],
   "source": [
    "np.linalg.solve(A,B)"
   ]
  },
  {
   "cell_type": "code",
   "execution_count": null,
   "id": "7f3d7209-78e1-40ab-bda9-b014a47370db",
   "metadata": {},
   "outputs": [],
   "source": []
  }
 ],
 "metadata": {
  "kernelspec": {
   "display_name": "Python 3 (ipykernel)",
   "language": "python",
   "name": "python3"
  },
  "language_info": {
   "codemirror_mode": {
    "name": "ipython",
    "version": 3
   },
   "file_extension": ".py",
   "mimetype": "text/x-python",
   "name": "python",
   "nbconvert_exporter": "python",
   "pygments_lexer": "ipython3",
   "version": "3.10.5"
  },
  "widgets": {
   "application/vnd.jupyter.widget-state+json": {
    "state": {},
    "version_major": 2,
    "version_minor": 0
   }
  }
 },
 "nbformat": 4,
 "nbformat_minor": 5
}
