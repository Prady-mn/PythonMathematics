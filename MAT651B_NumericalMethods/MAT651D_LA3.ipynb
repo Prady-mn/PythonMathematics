{
 "cells": [
  {
   "cell_type": "markdown",
   "id": "927898c7-8409-4ce4-8a62-2da69ce72072",
   "metadata": {},
   "source": [
    "## LAB 3: System of Equation\n",
    "\n",
    "**Date: 13-01-2024**"
   ]
  },
  {
   "cell_type": "code",
   "execution_count": 1,
   "id": "57e8bd45-eb23-4d86-b173-811f2ec4ad3b",
   "metadata": {},
   "outputs": [],
   "source": [
    "import numpy as np\n",
    "from typing import *"
   ]
  },
  {
   "cell_type": "markdown",
   "id": "7d08b8c3-ffd4-490b-ab15-ddf5d91693b7",
   "metadata": {},
   "source": [
    "> WAP to find the inverse of the following matrix and solve the system of equations."
   ]
  },
  {
   "cell_type": "code",
   "execution_count": 4,
   "id": "d1e334cb-a055-4a7f-b980-609e360a54f7",
   "metadata": {},
   "outputs": [
    {
     "data": {
      "text/plain": [
       "matrix([[ 4, -2,  1],\n",
       "        [-2,  4, -2],\n",
       "        [ 1, -2,  4]])"
      ]
     },
     "execution_count": 4,
     "metadata": {},
     "output_type": "execute_result"
    }
   ],
   "source": [
    "A = np.matrix([[4,-2,1],[-2,4,-2],[1,-2,4]])\n",
    "A"
   ]
  },
  {
   "cell_type": "code",
   "execution_count": 3,
   "id": "4db8384d-215b-47c8-846c-9787a2e29603",
   "metadata": {},
   "outputs": [
    {
     "data": {
      "text/plain": [
       "matrix([[ 11],\n",
       "        [-16],\n",
       "        [ 17]])"
      ]
     },
     "execution_count": 3,
     "metadata": {},
     "output_type": "execute_result"
    }
   ],
   "source": [
    "B = np.matrix([11,-16,17]).T\n",
    "B"
   ]
  },
  {
   "cell_type": "code",
   "execution_count": 4,
   "id": "c122febb-c1ff-4b39-b9f4-d98f7c2f0ddc",
   "metadata": {},
   "outputs": [
    {
     "data": {
      "text/plain": [
       "matrix([[0.33333333, 0.16666667, 0.        ],\n",
       "        [0.16666667, 0.41666667, 0.16666667],\n",
       "        [0.        , 0.16666667, 0.33333333]])"
      ]
     },
     "execution_count": 4,
     "metadata": {},
     "output_type": "execute_result"
    }
   ],
   "source": [
    "#Inverse\n",
    "A.I"
   ]
  },
  {
   "cell_type": "code",
   "execution_count": 5,
   "id": "2986b20a-0019-4e24-97a0-3b3eb3547418",
   "metadata": {},
   "outputs": [
    {
     "data": {
      "text/plain": [
       "matrix([[ 1.],\n",
       "        [-2.],\n",
       "        [ 3.]])"
      ]
     },
     "execution_count": 5,
     "metadata": {},
     "output_type": "execute_result"
    }
   ],
   "source": [
    "#Solution\n",
    "np.linalg.solve(A,B)"
   ]
  },
  {
   "cell_type": "code",
   "execution_count": 6,
   "id": "4a0bcd6c-ba55-4393-b921-0184a1b25ec7",
   "metadata": {},
   "outputs": [
    {
     "data": {
      "text/plain": [
       "matrix([[ 1.],\n",
       "        [-2.],\n",
       "        [ 3.]])"
      ]
     },
     "execution_count": 6,
     "metadata": {},
     "output_type": "execute_result"
    }
   ],
   "source": [
    "#Solution\n",
    "A.I @ B"
   ]
  },
  {
   "cell_type": "markdown",
   "id": "0b96fbc9-4f2a-4eec-a060-a76660111f81",
   "metadata": {},
   "source": [
    "> WAP to print the $2^{nd}$ row of the given matrix."
   ]
  },
  {
   "cell_type": "code",
   "execution_count": 7,
   "id": "ecb81903-c639-4355-91f5-374cd71684ee",
   "metadata": {},
   "outputs": [
    {
     "data": {
      "text/plain": [
       "matrix([[-2,  4, -2]])"
      ]
     },
     "execution_count": 7,
     "metadata": {},
     "output_type": "execute_result"
    }
   ],
   "source": [
    "A[1]"
   ]
  },
  {
   "cell_type": "markdown",
   "id": "37e578e7-2ad3-4307-9d79-122389b4fb9a",
   "metadata": {},
   "source": [
    "> WAP to print col[4 - 2]"
   ]
  },
  {
   "cell_type": "code",
   "execution_count": 8,
   "id": "985e82ca-6434-4765-96e2-a44be23fa8b6",
   "metadata": {},
   "outputs": [
    {
     "data": {
      "text/plain": [
       "matrix([[ 4],\n",
       "        [-2]])"
      ]
     },
     "execution_count": 8,
     "metadata": {},
     "output_type": "execute_result"
    }
   ],
   "source": [
    "A \n",
    "A[0,0:2].T"
   ]
  },
  {
   "cell_type": "markdown",
   "id": "9b3dd15e-f17f-467f-ac1b-0997e86cf810",
   "metadata": {},
   "source": [
    "**Date: 16-01-24**"
   ]
  },
  {
   "cell_type": "markdown",
   "id": "6f7f2a94-24de-4479-a7b8-aafa105c0c0a",
   "metadata": {},
   "source": [
    "> **CRAMERS RULE**<br>\n",
    "    $\\quad \\quad X = \\dfrac{A~with~X~replaced~with~B}{|A|}$ "
   ]
  },
  {
   "cell_type": "code",
   "execution_count": 4,
   "id": "b7d72fa7-6d3f-4bfe-b910-946f5888ee26",
   "metadata": {},
   "outputs": [],
   "source": [
    "def cramersRule(A,B):\n",
    "    X = [0]*len(A)\n",
    "    modA = np.linalg.det(A)\n",
    "    A = A.T\n",
    "    for i in range(len(A)):\n",
    "        X[i] = np.round(np.linalg.det((np.append(np.append(A[0:i],B,axis=0),A[i+1:],axis = 0)))/modA);\n",
    "    return X"
   ]
  },
  {
   "cell_type": "code",
   "execution_count": 5,
   "id": "53a7de7d-9de6-493d-887f-3886bcd3eba9",
   "metadata": {},
   "outputs": [],
   "source": [
    "A = np.matrix([[4,3,-2],[3,-7,5],[1,3,-2]])\n",
    "B = np.matrix([1,2,7])"
   ]
  },
  {
   "cell_type": "code",
   "execution_count": 6,
   "id": "e6ba13ca-3f5c-4f5d-9ad7-8f8b78528e2a",
   "metadata": {},
   "outputs": [
    {
     "data": {
      "text/plain": [
       "(matrix([[ 4,  3, -2],\n",
       "         [ 3, -7,  5],\n",
       "         [ 1,  3, -2]]),\n",
       " matrix([[1, 2, 7]]))"
      ]
     },
     "execution_count": 6,
     "metadata": {},
     "output_type": "execute_result"
    }
   ],
   "source": [
    "A,B"
   ]
  },
  {
   "cell_type": "code",
   "execution_count": 7,
   "id": "3398b805-e4cd-4e93-bc9e-ade95bc215ec",
   "metadata": {},
   "outputs": [
    {
     "data": {
      "text/plain": [
       "[-2.0, 61.0, 87.0]"
      ]
     },
     "execution_count": 7,
     "metadata": {},
     "output_type": "execute_result"
    }
   ],
   "source": [
    "cramersRule(A,B)"
   ]
  },
  {
   "cell_type": "code",
   "execution_count": 8,
   "id": "f92bf9b8-8ae4-4992-b842-d20de50da259",
   "metadata": {},
   "outputs": [
    {
     "data": {
      "text/plain": [
       "matrix([[-2.],\n",
       "        [61.],\n",
       "        [87.]])"
      ]
     },
     "execution_count": 8,
     "metadata": {},
     "output_type": "execute_result"
    }
   ],
   "source": [
    "np.linalg.solve(A,B.T)"
   ]
  },
  {
   "cell_type": "markdown",
   "id": "701a3a98-3a28-4af9-8171-61c715bb0bde",
   "metadata": {},
   "source": [
    "**Date: 20-01-24**"
   ]
  },
  {
   "cell_type": "markdown",
   "id": "4d5d3e5e-2523-43c3-9398-4d19af09eda0",
   "metadata": {},
   "source": [
    "> **Gauss Elemination Method**"
   ]
  },
  {
   "cell_type": "code",
   "execution_count": 2,
   "id": "96e44348-8ed8-480f-aadf-a50614fe2bd9",
   "metadata": {},
   "outputs": [],
   "source": [
    "def rowEchelon(A):\n",
    "    A = np.matrix(A,dtype=float)\n",
    "    mat = A.copy()\n",
    "    for i in range(min(mat.shape)):\n",
    "        row = mat[i,:].A1\n",
    "        if(row[i] == 0):\n",
    "            continue;\n",
    "        row = row/row[i];\n",
    "        mat[i,:] = row\n",
    "        for j in range(i+1,mat.shape[0]):\n",
    "            mat[j,:] = mat[j,:] - (mat[j,i]*row)\n",
    "    return mat\n",
    "\n",
    "def gaussMethod(A,B):\n",
    "    mat = np.insert(arr=A,obj=A.shape[1],values=B.A1,axis=1)\n",
    "    mat = rowEchelon(mat)\n",
    "    #print(mat)\n",
    "    A_ = mat[:,:-1].A #Get Without Last Columns\n",
    "    B_ = mat[:,-1:] #Get Last Column\n",
    "    X = np.matrix(np.zeros(B.shape),float)\n",
    "    varSolved = []\n",
    "    solving = [list(i).count(0) for i in A_]\n",
    "    for i in range(A_.shape[1])[::-1]:\n",
    "        rowIndex = solving.index(i)\n",
    "        row = A_[rowIndex,:]\n",
    "        for j in range(A_.shape[1]):\n",
    "            if((row[j] != 0) and (j not in varSolved)):\n",
    "                varSolved.append(j)\n",
    "                break;\n",
    "        X[varSolved[-1],0] = (B_[rowIndex,0] - np.sum([row[k]*X[k,0] for k in range(len(row))]))/row[varSolved[-1]]\n",
    "    #X = np.linalg.solve(mat.T[:-1,:].T,mat.T[-1,:].T)\n",
    "    return X"
   ]
  },
  {
   "cell_type": "markdown",
   "id": "b483d1e6-b5d4-4acd-8aab-1529a6891fd4",
   "metadata": {},
   "source": [
    "> $2x+5y = 7$ </br>\n",
    "> $4x+7y = 14$ </br>"
   ]
  },
  {
   "cell_type": "code",
   "execution_count": 10,
   "id": "c072ac17-93cc-4e0e-82b4-0131679138bc",
   "metadata": {},
   "outputs": [
    {
     "data": {
      "text/plain": [
       "matrix([[ 3.5],\n",
       "        [-0. ]])"
      ]
     },
     "execution_count": 10,
     "metadata": {},
     "output_type": "execute_result"
    }
   ],
   "source": [
    "A = np.matrix([[2,5],[4,7]])\n",
    "B = np.matrix([7,14]).T\n",
    "gaussMethod(A,B)"
   ]
  },
  {
   "cell_type": "code",
   "execution_count": 11,
   "id": "4a9384f6-b80d-4ff3-ba09-ee13719a2788",
   "metadata": {},
   "outputs": [
    {
     "data": {
      "text/plain": [
       "matrix([[3.5],\n",
       "        [0. ]])"
      ]
     },
     "execution_count": 11,
     "metadata": {},
     "output_type": "execute_result"
    }
   ],
   "source": [
    "np.linalg.solve(A,B)"
   ]
  },
  {
   "cell_type": "markdown",
   "id": "1cbb4198-b00f-4c43-840f-e9c3eb4a12bf",
   "metadata": {},
   "source": [
    ">$2x+y+z = 10$</br>\n",
    ">$5x-9y+3z =5$</br>\n",
    ">$x+4y+9z=16$</br>"
   ]
  },
  {
   "cell_type": "code",
   "execution_count": 12,
   "id": "9f6d1fff-2ab7-42dd-a391-acbeeed58903",
   "metadata": {},
   "outputs": [
    {
     "data": {
      "text/plain": [
       "(matrix([[2, 1, 1],\n",
       "         [3, 5, 3],\n",
       "         [1, 4, 9]]),\n",
       " matrix([[10],\n",
       "         [18],\n",
       "         [16]]),\n",
       " {'GE': matrix([[4.24489796],\n",
       "          [0.36734694],\n",
       "          [1.14285714]]),\n",
       "  'Inverse': matrix([[4.24489796],\n",
       "          [0.36734694],\n",
       "          [1.14285714]])})"
      ]
     },
     "execution_count": 12,
     "metadata": {},
     "output_type": "execute_result"
    }
   ],
   "source": [
    "A = np.matrix([[2,1,1],[3,5,3],[1,4,9]])\n",
    "B = np.matrix([10,18,16]).T\n",
    "A,B,dict(GE = gaussMethod(A,B),Inverse = A.I * B)"
   ]
  },
  {
   "cell_type": "code",
   "execution_count": 86,
   "id": "65149f30-29b3-4445-80c9-d8ef5b7cf8bf",
   "metadata": {},
   "outputs": [
    {
     "data": {
      "text/plain": [
       "matrix([[1.52713178],\n",
       "        [0.11111111],\n",
       "        [1.3126615 ]])"
      ]
     },
     "execution_count": 86,
     "metadata": {},
     "output_type": "execute_result"
    }
   ],
   "source": [
    "A = np.matrix([[12,-8,5],[-9,5,7],[2,13,8]])\n",
    "B = np.matrix([24,-4,15]).T\n",
    "gaussMethod(A,B)"
   ]
  },
  {
   "cell_type": "code",
   "execution_count": 87,
   "id": "dd964024-60c5-44da-b846-a3078bd595ab",
   "metadata": {},
   "outputs": [
    {
     "data": {
      "text/plain": [
       "matrix([[1.],\n",
       "        [2.],\n",
       "        [3.]])"
      ]
     },
     "execution_count": 87,
     "metadata": {},
     "output_type": "execute_result"
    }
   ],
   "source": [
    "A = np.matrix([[4,3,2],[2,3,4],[1,2,1]])\n",
    "B = np.matrix([16,20,8]).T\n",
    "gaussMethod(A,B)"
   ]
  },
  {
   "cell_type": "markdown",
   "id": "9ad97eca-f0dd-43b3-905b-c6dda7cf8880",
   "metadata": {},
   "source": [
    "**Date: 23-01-24**"
   ]
  },
  {
   "cell_type": "code",
   "execution_count": 15,
   "id": "517e2fcf-d561-46e0-bac2-56865f614db0",
   "metadata": {},
   "outputs": [
    {
     "data": {
      "text/plain": [
       "matrix([[ 0.03169091],\n",
       "        [ 0.03159245],\n",
       "        [-0.03162427]])"
      ]
     },
     "execution_count": 15,
     "metadata": {},
     "output_type": "execute_result"
    }
   ],
   "source": [
    "A = np.matrix([[2,1,1],[1,3,1],[1,2,3]])\n",
    "B = np.matrix([7,13,13]).T\n",
    "A.I*B - np.matrix([0.8774,3.422953,1.758897]).T"
   ]
  },
  {
   "cell_type": "markdown",
   "id": "53dbd236-2cec-4e12-94e8-6a5ee427a667",
   "metadata": {},
   "source": [
    "> **Iterative Methods**"
   ]
  },
  {
   "cell_type": "code",
   "execution_count": 3,
   "id": "d11705cf-cb35-4799-a6e7-72b53ae375ed",
   "metadata": {},
   "outputs": [],
   "source": [
    "import sympy as sp"
   ]
  },
  {
   "cell_type": "code",
   "execution_count": 4,
   "id": "4927bb0b-d97d-4938-be94-585fabbcecc8",
   "metadata": {},
   "outputs": [],
   "source": [
    "def stringToEquation(VARS: str,EQ: str):\n",
    "\n",
    "    #Making Sympy Variables\n",
    "    X_vars = VARS.split(\",\")\n",
    "    X_symb = sp.symbols(VARS)\n",
    "    X = dict(zip(X_vars,X_symb))\n",
    "\n",
    "    #SPLIT -> Convert comma separted equations to list\n",
    "    #FUNC -> SPLIT into LHS and RHS > Convert LHS and RHS to sympy Expression > Convert to sympy Equality\n",
    "    SP_EQ = list(map(lambda eq: sp.Eq(*[sp.simplify(i,locals = X) for i in eq.split(\"=\")]),EQ.split(\",\")))\n",
    "    # {Variable:Symbol},[Equations]\n",
    "    return X,SP_EQ"
   ]
  },
  {
   "cell_type": "code",
   "execution_count": 5,
   "id": "e459b317-57cf-49ac-9977-a1096e744976",
   "metadata": {},
   "outputs": [
    {
     "data": {
      "text/plain": [
       "({'a': a, 'b': b, 'c': c}, [Eq(a + 2*b, 2), Eq(20*a + b - 2*c, 17)])"
      ]
     },
     "execution_count": 5,
     "metadata": {},
     "output_type": "execute_result"
    }
   ],
   "source": [
    "stringToEquation(\"a,b,c\",\"a + 2*b = 2, 20*a + b - 2*c = 17\")"
   ]
  },
  {
   "cell_type": "markdown",
   "id": "e3ff1330-d211-4643-b518-b94a4422442c",
   "metadata": {},
   "source": [
    "> **Gauss Jacobi Method**"
   ]
  },
  {
   "cell_type": "code",
   "execution_count": 6,
   "id": "9a4c09ca-410b-4f01-be55-dd53db8d9836",
   "metadata": {},
   "outputs": [],
   "source": [
    "def gaussJacobi(variables:str, equations:str,steps:bool = False, error: float = 1e-6, itermax:int = 100):\n",
    "    iter = 0;\n",
    "    X,EQ = stringToEquation(variables,equations)\n",
    "    X = list(X.values())\n",
    "    \n",
    "    #To Make Diagonaly Dominant\n",
    "    D = [eq.args[0].as_coefficients_dict(*X) for eq in EQ]\n",
    "    indices = [np.argmax([d[x] for x in X]) for d in D]\n",
    "    EQ = list(np.array(EQ)[indices])\n",
    "        \n",
    "    funcs = [sp.lambdify(X,sp.solve(EQ[i],X[i]),\"numpy\") for i in range(len(X))]\n",
    "    X = np.zeros((2,len(X)))\n",
    "    X[0] += 1\n",
    "    while((np.max(abs(np.diff(X,axis=0))) > error) and (iter<itermax)):\n",
    "        X[0] = X[1]\n",
    "        X[1] = [f(*X[0])[0] for f in funcs]\n",
    "        iter += 1;\n",
    "        if(steps):\n",
    "            print(iter,\" \",[f\"{x:.5f}\" for x in X[-1]])\n",
    "    return list(map(lambda x: round(x,3),X[-1])),iter"
   ]
  },
  {
   "cell_type": "markdown",
   "id": "253935fc-0694-4b9f-bdd7-f6946844ba26",
   "metadata": {},
   "source": [
    "> $20x+y-2z=17$</br>\n",
    "> $3x+20y-z=-18$</br>\n",
    "> $2x-3y+20z=25$</br>"
   ]
  },
  {
   "cell_type": "code",
   "execution_count": 7,
   "id": "965e1d7c-9876-4bbe-bfc7-7569598c815b",
   "metadata": {},
   "outputs": [
    {
     "name": "stdout",
     "output_type": "stream",
     "text": [
      "1   ['0.85000', '-0.90000', '1.25000']\n",
      "2   ['1.02000', '-0.96500', '1.03000']\n",
      "3   ['1.00125', '-1.00150', '1.00325']\n",
      "4   ['1.00040', '-1.00002', '0.99965']\n",
      "5   ['0.99997', '-1.00008', '0.99996']\n",
      "6   ['1.00000', '-1.00000', '0.99999']\n",
      "7   ['1.00000', '-1.00000', '1.00000']\n",
      "8   ['1.00000', '-1.00000', '1.00000']\n",
      "9   ['1.00000', '-1.00000', '1.00000']\n"
     ]
    },
    {
     "data": {
      "text/plain": [
       "([1.0, -1.0, 1.0], 9)"
      ]
     },
     "execution_count": 7,
     "metadata": {},
     "output_type": "execute_result"
    }
   ],
   "source": [
    "gaussJacobi(\"a,b,c\",\"20*a + b - 2*c = 17, 3*a + 20*b - c = -18, 2*a - 3*b + 20*c = 25\",steps=True)"
   ]
  },
  {
   "cell_type": "markdown",
   "id": "39c8ecb8-8b1c-42e5-8e09-b5f91a4c042d",
   "metadata": {},
   "source": [
    "> $27x+6y-z=85$</br>\n",
    "> $x+y+54z=110$</br>\n",
    "> $6x+15y+2z=72$</br>"
   ]
  },
  {
   "cell_type": "code",
   "execution_count": 8,
   "id": "9f59a386-fc6a-4bfb-982e-b034e4cc526b",
   "metadata": {},
   "outputs": [
    {
     "name": "stdout",
     "output_type": "stream",
     "text": [
      "1   ['3.14815', '4.80000', '2.03704']\n",
      "2   ['2.15693', '3.26914', '1.88985']\n",
      "3   ['2.49167', '3.68525', '1.93655']\n",
      "4   ['2.40093', '3.54513', '1.92265']\n",
      "5   ['2.43155', '3.58328', '1.92692']\n",
      "6   ['2.42323', '3.57046', '1.92565']\n",
      "7   ['2.42603', '3.57395', '1.92604']\n",
      "8   ['2.42527', '3.57278', '1.92593']\n",
      "9   ['2.42553', '3.57310', '1.92596']\n",
      "10   ['2.42546', '3.57299', '1.92595']\n",
      "11   ['2.42548', '3.57302', '1.92595']\n",
      "12   ['2.42547', '3.57301', '1.92595']\n",
      "13   ['2.42548', '3.57302', '1.92595']\n",
      "14   ['2.42548', '3.57302', '1.92595']\n"
     ]
    },
    {
     "data": {
      "text/plain": [
       "([2.425, 3.573, 1.926], 14)"
      ]
     },
     "execution_count": 8,
     "metadata": {},
     "output_type": "execute_result"
    }
   ],
   "source": [
    "gaussJacobi(\"x,y,z\",\n",
    "            \"27*x + 6*y - z = 85, x + y + 54*z = 110, 6*x + 15*y + 2*z = 72\",steps = True)"
   ]
  },
  {
   "cell_type": "markdown",
   "id": "6cad909f-aaf6-4279-aba2-d8d94f05cbcb",
   "metadata": {},
   "source": [
    "> $6x+y+z=20$</br>\n",
    "> $x+4y-z=6$</br>\n",
    "> $x-y+5z=7$</br>"
   ]
  },
  {
   "cell_type": "code",
   "execution_count": 335,
   "id": "116e0394-72be-4a2d-89c8-0784f21bc69b",
   "metadata": {},
   "outputs": [
    {
     "data": {
      "text/plain": [
       "([3.0, 1.0, 1.0], 15)"
      ]
     },
     "execution_count": 335,
     "metadata": {},
     "output_type": "execute_result"
    }
   ],
   "source": [
    "gaussJacobi(\"x,y,z\",\n",
    "            \"6*x + y + z = 20, x + 4*y - z = 6, x - y + 5*z = 7\")"
   ]
  },
  {
   "cell_type": "markdown",
   "id": "0f8e570f-06ef-4c0a-8867-8795d8296559",
   "metadata": {},
   "source": [
    "**Date: 27-01-24**"
   ]
  },
  {
   "cell_type": "markdown",
   "id": "45462313-353a-41dd-8b76-d81e8cfa3a6e",
   "metadata": {},
   "source": [
    "> **Gauss Seidel Method**"
   ]
  },
  {
   "cell_type": "code",
   "execution_count": 10,
   "id": "81772759-5589-40af-9582-d48e8b01882f",
   "metadata": {},
   "outputs": [],
   "source": [
    "def gaussSeidel(variables:str, equations:str,steps:bool = False, error: float = 1e-6, itermax:int = 100):\n",
    "    iter = 0;\n",
    "    X,EQ = stringToEquation(variables,equations)\n",
    "    X = list(X.values())\n",
    "    \n",
    "    #To Make Diagonaly Dominant\n",
    "    D = [eq.args[0].as_coefficients_dict(*X) for eq in EQ]\n",
    "    indices = [np.argmax([d[x] for x in X]) for d in D]\n",
    "    EQ = list(np.array(EQ)[indices])\n",
    "        \n",
    "    funcs = [sp.lambdify(X,sp.solve(EQ[i],X[i]),\"numpy\") for i in range(len(X))]\n",
    "    X = np.zeros((2,len(X)))\n",
    "    X[0] += 1\n",
    "    while((np.max(abs(np.diff(X,axis=0))) > error) and (iter<itermax)):\n",
    "        X[0] = X[1]\n",
    "        for i in range(len(X[1])):\n",
    "            X[1][i] = funcs[i](*X[1])[0]\n",
    "        iter += 1;\n",
    "        if(steps):\n",
    "            print(iter,\" \",[f\"{x:.5f}\" for x in X[-1]])\n",
    "    return list(map(lambda x: round(x,2),X[-1])),iter"
   ]
  },
  {
   "cell_type": "markdown",
   "id": "a80cbf8e-31b6-4235-b766-e2ee16857790",
   "metadata": {},
   "source": [
    "> WAP to solve using Gauss Jacobi and Gauss Seidel, comment which method converges faster <br>\n",
    "> $4x+2y+z=14 $<br>\n",
    "  $x+5y-z = 10$ <br>\n",
    "  $x+y+8z = 20$"
   ]
  },
  {
   "cell_type": "code",
   "execution_count": 11,
   "id": "c49ca2fd-ad7d-467e-8efc-3c67f2a45164",
   "metadata": {},
   "outputs": [
    {
     "name": "stdout",
     "output_type": "stream",
     "text": [
      "Gauss Jacobi\n",
      "1   ['3.50000', '2.00000', '2.50000']\n",
      "2   ['1.87500', '1.80000', '1.81250']\n",
      "3   ['2.14688', '1.98750', '2.04062']\n",
      "4   ['1.99609', '1.97875', '1.98320']\n",
      "5   ['2.01482', '1.99742', '2.00314']\n",
      "6   ['2.00050', '1.99766', '1.99847']\n",
      "7   ['2.00155', '1.99959', '2.00023']\n",
      "8   ['2.00015', '1.99974', '1.99986']\n",
      "9   ['2.00017', '1.99994', '2.00001']\n",
      "10   ['2.00003', '1.99997', '1.99999']\n",
      "11   ['2.00002', '1.99999', '2.00000']\n",
      "12   ['2.00000', '2.00000', '2.00000']\n",
      "13   ['2.00000', '2.00000', '2.00000']\n",
      "14   ['2.00000', '2.00000', '2.00000']\n",
      "15   ['2.00000', '2.00000', '2.00000']\n",
      "16   ['2.00000', '2.00000', '2.00000']\n",
      "17   ['2.00000', '2.00000', '2.00000']\n",
      "18   ['2.00000', '2.00000', '2.00000']\n",
      "19   ['2.00000', '2.00000', '2.00000']\n",
      "Gauss Seidel\n",
      "1   ['3.50000', '1.30000', '1.90000']\n",
      "2   ['2.37500', '1.90500', '1.96500']\n",
      "3   ['2.05625', '1.98175', '1.99525']\n",
      "4   ['2.01031', '1.99699', '1.99909']\n",
      "5   ['2.00173', '1.99947', '1.99985']\n",
      "6   ['2.00030', '1.99991', '1.99997']\n",
      "7   ['2.00005', '1.99998', '2.00000']\n",
      "8   ['2.00001', '2.00000', '2.00000']\n",
      "9   ['2.00000', '2.00000', '2.00000']\n",
      "10   ['2.00000', '2.00000', '2.00000']\n",
      "11   ['2.00000', '2.00000', '2.00000']\n",
      "12   ['2.00000', '2.00000', '2.00000']\n",
      "13   ['2.00000', '2.00000', '2.00000']\n"
     ]
    },
    {
     "data": {
      "text/plain": [
       "(([2.0, 2.0, 2.0], 19),\n",
       " ([2.0, 2.0, 2.0], 13),\n",
       " 'GAUSS-SEIDEL CONVERGES FASTER THAN GAUSS-JACOBI')"
      ]
     },
     "execution_count": 11,
     "metadata": {},
     "output_type": "execute_result"
    }
   ],
   "source": [
    "equations = \"4*x + 2*y + z = 14, x + 5*y - z = 10, x + y + 8*z = 20\"\n",
    "vars = \"x,y,z\"\n",
    "print(\"Gauss Jacobi\")\n",
    "n1 = gaussJacobi(vars,equations,steps=True,error=1e-8)\n",
    "print(\"Gauss Seidel\")\n",
    "n2 = gaussSeidel(vars,equations,steps=True,error=1e-8)\n",
    "n1,n2,\"GAUSS-SEIDEL CONVERGES FASTER THAN GAUSS-JACOBI\""
   ]
  },
  {
   "cell_type": "markdown",
   "id": "8d833591-2637-4604-acb7-5a3a1168d2cc",
   "metadata": {},
   "source": [
    "> $x+3y+52z = 173.61$ </br>\n",
    "> $x-27y+2z=71.31$ </br>\n",
    "> $41x-2y+3z=65.46$ </br>"
   ]
  },
  {
   "cell_type": "code",
   "execution_count": 14,
   "id": "e0b5d348-9e07-4724-b7fa-af6474a1a36c",
   "metadata": {},
   "outputs": [
    {
     "name": "stdout",
     "output_type": "stream",
     "text": [
      "1   ['1.59659', '0.00000', '3.30795']\n",
      "2   ['1.35454', '0.00000', '3.31260']\n",
      "3   ['1.35420', '0.00000', '3.31261']\n",
      "4   ['1.35420', '0.00000', '3.31261']\n",
      "5   ['1.35420', '0.00000', '3.31261']\n",
      "6   ['1.35420', '0.00000', '3.31261']\n"
     ]
    },
    {
     "data": {
      "text/plain": [
       "([1.35, 0.0, 3.31], 6)"
      ]
     },
     "execution_count": 14,
     "metadata": {},
     "output_type": "execute_result"
    }
   ],
   "source": [
    "gaussSeidel(\"x,y,z\",\n",
    "           \"x + 3*y + 52*z = 173.61, x - 27*y + 2*z = 71.31, 41*x - 2*y + 3*z = 65.46\",steps=True,error=1e-10)"
   ]
  },
  {
   "cell_type": "code",
   "execution_count": null,
   "id": "02b739a8-d4ad-4afe-888f-e8eeaeacc782",
   "metadata": {},
   "outputs": [],
   "source": []
  }
 ],
 "metadata": {
  "kernelspec": {
   "display_name": "Python 3 (ipykernel)",
   "language": "python",
   "name": "python3"
  },
  "language_info": {
   "codemirror_mode": {
    "name": "ipython",
    "version": 3
   },
   "file_extension": ".py",
   "mimetype": "text/x-python",
   "name": "python",
   "nbconvert_exporter": "python",
   "pygments_lexer": "ipython3",
   "version": "3.10.5"
  },
  "widgets": {
   "application/vnd.jupyter.widget-state+json": {
    "state": {},
    "version_major": 2,
    "version_minor": 0
   }
  }
 },
 "nbformat": 4,
 "nbformat_minor": 5
}
