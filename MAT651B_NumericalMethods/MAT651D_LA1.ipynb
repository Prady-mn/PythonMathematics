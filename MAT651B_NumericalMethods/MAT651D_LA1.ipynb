{
 "cells": [
  {
   "cell_type": "markdown",
   "id": "b593d1c8",
   "metadata": {},
   "source": [
    "## LAB 1: Revision\n",
    "\n",
    "**Date: 19-12-2023**"
   ]
  },
  {
   "cell_type": "code",
   "execution_count": 3,
   "id": "9370f95c",
   "metadata": {},
   "outputs": [],
   "source": [
    "import numpy as np"
   ]
  },
  {
   "cell_type": "markdown",
   "id": "ccc66949",
   "metadata": {},
   "source": [
    "> WAP to solve the following system of linear equations: <br>\n",
    "    $\n",
    "        \\quad 2x - y + 3z = 8 \\\\\n",
    "        \\quad  x +2y +  z = 7 \\\\\n",
    "        \\quad 3x + y - 2x = 9\n",
    "    $"
   ]
  },
  {
   "cell_type": "code",
   "execution_count": 7,
   "id": "aea9739e",
   "metadata": {},
   "outputs": [
    {
     "name": "stdout",
     "output_type": "stream",
     "text": [
      "[[2.74545455]\n",
      " [1.85454545]\n",
      " [0.54545455]]\n"
     ]
    }
   ],
   "source": [
    "A = np.matrix([[2,-1,8],\n",
    "               [1,2,1],\n",
    "               [3,1,-2]])\n",
    "B = np.matrix([8,7,9]).T\n",
    "\n",
    "print(A.I * B)"
   ]
  },
  {
   "cell_type": "markdown",
   "id": "80867498",
   "metadata": {},
   "source": [
    "> WAP to find the roots of the given quadratic equation:<br>\n",
    "    $\\quad x^{2} + x + 1 = 0$"
   ]
  },
  {
   "cell_type": "code",
   "execution_count": 25,
   "id": "7187e759",
   "metadata": {},
   "outputs": [
    {
     "name": "stdout",
     "output_type": "stream",
     "text": [
      "[-0.5+0.8660254j -0.5-0.8660254j]\n"
     ]
    }
   ],
   "source": [
    "P = np.array([1,1,1])\n",
    "print(np.roots(P))"
   ]
  },
  {
   "cell_type": "markdown",
   "id": "2225661c",
   "metadata": {},
   "source": [
    "> WAP to display 10 values between 0 and 10 including 10."
   ]
  },
  {
   "cell_type": "code",
   "execution_count": 18,
   "id": "56761f1c",
   "metadata": {},
   "outputs": [
    {
     "data": {
      "text/plain": [
       "array([ 0.        ,  1.11111111,  2.22222222,  3.33333333,  4.44444444,\n",
       "        5.55555556,  6.66666667,  7.77777778,  8.88888889, 10.        ])"
      ]
     },
     "execution_count": 18,
     "metadata": {},
     "output_type": "execute_result"
    }
   ],
   "source": [
    "np.linspace(0,10,10)"
   ]
  },
  {
   "cell_type": "markdown",
   "id": "d4809d8b",
   "metadata": {},
   "source": [
    "> WAP to display 10 values between 0 and 10 excluding 10."
   ]
  },
  {
   "cell_type": "code",
   "execution_count": 19,
   "id": "064bdc25",
   "metadata": {},
   "outputs": [
    {
     "data": {
      "text/plain": [
       "array([0, 1, 2, 3, 4, 5, 6, 7, 8, 9])"
      ]
     },
     "execution_count": 19,
     "metadata": {},
     "output_type": "execute_result"
    }
   ],
   "source": [
    "np.arange(0,10,1)"
   ]
  },
  {
   "cell_type": "markdown",
   "id": "40899379",
   "metadata": {},
   "source": [
    "> WAP to add and multiply two matrices."
   ]
  },
  {
   "cell_type": "code",
   "execution_count": 21,
   "id": "fd94e737",
   "metadata": {},
   "outputs": [
    {
     "name": "stdout",
     "output_type": "stream",
     "text": [
      "Enter First Matrix:[[1,4],[5,9]]\n",
      "Enter Second Matrix:[[-2,4],[3,6]]\n",
      "SUM = \n",
      "[[-1  8]\n",
      " [ 8 15]]\n",
      "PRODUCT = \n",
      "[[10 28]\n",
      " [17 74]]\n"
     ]
    }
   ],
   "source": [
    "A = np.matrix(eval(input(\"Enter First Matrix:\")))\n",
    "B = np.matrix(eval(input(\"Enter Second Matrix:\")))\n",
    "\n",
    "print(\"SUM = \")\n",
    "print(A+B)\n",
    "print(\"PRODUCT = \")\n",
    "print(A*B)"
   ]
  },
  {
   "cell_type": "markdown",
   "id": "d91e703f",
   "metadata": {},
   "source": [
    "> WAP to find the invese of a matrix"
   ]
  },
  {
   "cell_type": "code",
   "execution_count": 22,
   "id": "e505c5fb",
   "metadata": {},
   "outputs": [
    {
     "name": "stdout",
     "output_type": "stream",
     "text": [
      "Enter First Matrix:[[1,4],[5,9]]\n",
      "Invese = \n",
      "[[-0.81818182  0.36363636]\n",
      " [ 0.45454545 -0.09090909]]\n"
     ]
    }
   ],
   "source": [
    "A = np.matrix(eval(input(\"Enter First Matrix:\")))\n",
    "print(\"Invese = \")\n",
    "print(A.I)"
   ]
  }
 ],
 "metadata": {
  "kernelspec": {
   "display_name": "Python 3 (ipykernel)",
   "language": "python",
   "name": "python3"
  },
  "language_info": {
   "codemirror_mode": {
    "name": "ipython",
    "version": 3
   },
   "file_extension": ".py",
   "mimetype": "text/x-python",
   "name": "python",
   "nbconvert_exporter": "python",
   "pygments_lexer": "ipython3",
   "version": "3.10.5"
  }
 },
 "nbformat": 4,
 "nbformat_minor": 5
}
