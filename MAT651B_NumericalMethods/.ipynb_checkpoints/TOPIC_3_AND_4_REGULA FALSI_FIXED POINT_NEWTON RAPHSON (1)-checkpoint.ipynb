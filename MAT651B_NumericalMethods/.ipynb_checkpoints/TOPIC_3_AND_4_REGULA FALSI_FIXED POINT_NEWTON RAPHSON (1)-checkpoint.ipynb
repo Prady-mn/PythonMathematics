{
 "cells": [
  {
   "cell_type": "markdown",
   "id": "ab918809",
   "metadata": {},
   "source": [
    "# Regula Falsi method or Method of False Position\n"
   ]
  },
  {
   "cell_type": "markdown",
   "id": "4a667ee2",
   "metadata": {},
   "source": [
    "## Implementing the False Position method"
   ]
  },
  {
   "cell_type": "code",
   "execution_count": 2,
   "id": "88a1c4e8",
   "metadata": {},
   "outputs": [],
   "source": [
    "# Implementing False Position Method\n",
    "def falsePosition(x0,x1,e):\n",
    "    step = 1\n",
    "    print('\\n\\n** FALSE POSITION METHOD IMPLEMENTATION **')\n",
    "    condition = True\n",
    "    while condition:\n",
    "        x2 = x1 - ((x1-x0) * f(x1))/(f(x1)-f(x0))\n",
    "        print('Iteration-%d, x2 = %0.6f and f(x2) = %0.6f' % (step, x2, f(x2)))\n",
    "        if f(x0) * f(x2) < 0:\n",
    "                x1 = x2\n",
    "        else:\n",
    "            x0 = x2\n",
    "        step = step + 1\n",
    "        condition = abs(f(x2)) > e\n",
    "    print('\\nRequired root is: %0.8f' % x2)"
   ]
  },
  {
   "cell_type": "markdown",
   "id": "a4e996f9",
   "metadata": {},
   "source": [
    "### Solve the following equations using Regula Falsi method."
   ]
  },
  {
   "cell_type": "markdown",
   "id": "a102f53d",
   "metadata": {},
   "source": [
    "### 1) $x^3 -2x -5 =0$"
   ]
  },
  {
   "cell_type": "code",
   "execution_count": 3,
   "id": "e91e920f",
   "metadata": {},
   "outputs": [
    {
     "name": "stdout",
     "output_type": "stream",
     "text": [
      "First Guess: 3\n",
      "Second Guess: 4\n",
      "Tolerable Error: 8\n",
      "Given guess values do not bracket the root.\n",
      "Try Again with different guess values.\n"
     ]
    }
   ],
   "source": [
    "\n",
    "# Defining Function\n",
    "def f(x):\n",
    "    return x**3-2*x-5\n",
    "    \n",
    "# Input Section\n",
    "x0 = input('First Guess: ')\n",
    "x1 = input('Second Guess: ')\n",
    "e = input('Tolerable Error: ')\n",
    "\n",
    "# Converting input to float\n",
    "x0 = float(x0)\n",
    "x1 = float(x1)\n",
    "e = float(e)\n",
    "\n",
    "#Note: You can combine above two section like this\n",
    "# x0 = float(input('First Guess: '))\n",
    "# x1 = float(input('Second Guess: '))\n",
    "# e = float(input('Tolerable Error: '))\n",
    "\n",
    "# Checking Correctness of initial guess values and false positioning\n",
    "if f(x0) * f(x1) > 0.0:\n",
    "        print('Given guess values do not bracket the root.')\n",
    "        print('Try Again with different guess values.')\n",
    "else:\n",
    "    falsePosition(x0,x1,e)"
   ]
  },
  {
   "cell_type": "markdown",
   "id": "24faec6c",
   "metadata": {},
   "source": [
    "### 2) $x^4 - 3 =0$"
   ]
  },
  {
   "cell_type": "code",
   "execution_count": 5,
   "id": "f4c0a185",
   "metadata": {},
   "outputs": [
    {
     "name": "stdout",
     "output_type": "stream",
     "text": [
      "First Guess: 1 \n",
      "Second Guess: 2\n",
      "Tolerable Error: 0.005\n",
      "\n",
      "\n",
      "** FALSE POSITION METHOD IMPLEMENTATION **\n",
      "Iteration-1, x2 = 1.133333 and f(x2) = -1.350202\n",
      "Iteration-2, x2 = 1.214878 and f(x2) = -0.821638\n",
      "Iteration-3, x2 = 1.261550 and f(x2) = -0.467103\n",
      "Iteration-4, x2 = 1.287163 and f(x2) = -0.255054\n",
      "Iteration-5, x2 = 1.300879 and f(x2) = -0.136166\n",
      "Iteration-6, x2 = 1.308126 and f(x2) = -0.071816\n",
      "Iteration-7, x2 = 1.311927 and f(x2) = -0.037633\n",
      "Iteration-8, x2 = 1.313913 and f(x2) = -0.019653\n",
      "Iteration-9, x2 = 1.314949 and f(x2) = -0.010245\n",
      "Iteration-10, x2 = 1.315488 and f(x2) = -0.005336\n",
      "Iteration-11, x2 = 1.315769 and f(x2) = -0.002778\n",
      "\n",
      "Required root is: 1.31576925\n"
     ]
    }
   ],
   "source": [
    "# Defining Function\n",
    "def f(x):\n",
    "    return x**4-3\n",
    "    \n",
    "# Input Section\n",
    "x0 = input('First Guess: ')\n",
    "x1 = input('Second Guess: ')\n",
    "e = input('Tolerable Error: ')\n",
    "\n",
    "# Converting input to float\n",
    "x0 = float(x0)\n",
    "x1 = float(x1)\n",
    "e = float(e)\n",
    "\n",
    "#Note: You can combine above two section like this\n",
    "# x0 = float(input('First Guess: '))\n",
    "# x1 = float(input('Second Guess: '))\n",
    "# e = float(input('Tolerable Error: '))\n",
    "\n",
    "# Checking Correctness of initial guess values and false positioning\n",
    "if f(x0) * f(x1) > 0.0:\n",
    "        print('Given guess values do not bracket the root.')\n",
    "        print('Try Again with different guess values.')\n",
    "else:\n",
    "    falsePosition(x0,x1,e)"
   ]
  },
  {
   "cell_type": "markdown",
   "id": "4a09d65d",
   "metadata": {},
   "source": [
    "### 3) $2cos(x) - x$\n",
    "\n",
    "### 4) $x e^x - 1$"
   ]
  },
  {
   "cell_type": "markdown",
   "id": "e25c27d4",
   "metadata": {},
   "source": [
    "## Newton Raphson method"
   ]
  },
  {
   "cell_type": "markdown",
   "id": "1d98f465",
   "metadata": {},
   "source": [
    "### Solve the following equations using Newton Raphson method."
   ]
  },
  {
   "cell_type": "markdown",
   "id": "19c6e505",
   "metadata": {},
   "source": [
    "### 1) $x^3 -5x^2 =0$"
   ]
  },
  {
   "cell_type": "code",
   "execution_count": 7,
   "id": "765ce435",
   "metadata": {},
   "outputs": [
    {
     "name": "stdout",
     "output_type": "stream",
     "text": [
      "f(x)= x**3 - 5*x**2\n",
      "df(x)/dx= 3*x**2 - 10*x\n",
      "Initial guess= 0\n",
      "Dervative is 0, can't compute\n"
     ]
    },
    {
     "data": {
      "text/plain": [
       "0.0"
      ]
     },
     "execution_count": 7,
     "metadata": {},
     "output_type": "execute_result"
    }
   ],
   "source": [
    "from sympy import *\n",
    "import numpy as np\n",
    "x=symbols(\"x\")\n",
    "def NR(f,x0,e):\n",
    "    it=1\n",
    "    d=diff(f,x)\n",
    "    print(\"f(x)=\",f)\n",
    "    print(\"df(x)/dx=\",d)\n",
    "    print(\"Initial guess=\",x0)\n",
    "    x0=float(x0)\n",
    "    cond=True\n",
    "    while cond:\n",
    "            if d.subs({x:x0})==0:\n",
    "                    print(\"Dervative is 0, can't compute\")\n",
    "                    break\n",
    "            h=f.subs({x:x0})/d.subs({x:x0})\n",
    "            x1=x0-h\n",
    "            x0=x1\n",
    "            print(\"it no:\\t\",it,\"\\t x=\",x0)\n",
    "            it+=1\n",
    "            cond=np.abs(f.subs({x:x1}))>e\n",
    "            if it>20:\n",
    "                print(\"solution diverges\")\n",
    "                break\n",
    "    return x0\n",
    "\n",
    "NR(x**3-5*x**2,0,0.000005)"
   ]
  },
  {
   "cell_type": "markdown",
   "id": "ae9e359c",
   "metadata": {},
   "source": [
    "### 2) $x^3 - 3x -1$"
   ]
  },
  {
   "cell_type": "code",
   "execution_count": 8,
   "id": "f79e1c55",
   "metadata": {},
   "outputs": [
    {
     "name": "stdout",
     "output_type": "stream",
     "text": [
      "f(x)= x**3 - 3*x - 1\n",
      "df(x)/dx= 3*x**2 - 3\n",
      "Initial guess= 0\n",
      "it no:\t 1 \t x= -0.333333333333333\n",
      "it no:\t 2 \t x= -0.347222222222222\n",
      "it no:\t 3 \t x= -0.347296353163868\n"
     ]
    },
    {
     "data": {
      "text/latex": [
       "$\\displaystyle -0.347296353163868$"
      ],
      "text/plain": [
       "-0.347296353163868"
      ]
     },
     "execution_count": 8,
     "metadata": {},
     "output_type": "execute_result"
    }
   ],
   "source": [
    "from sympy import *\n",
    "import numpy as np\n",
    "x=symbols(\"x\")\n",
    "def NR(f,x0,e):\n",
    "    it=1\n",
    "    d=diff(f,x)\n",
    "    print(\"f(x)=\",f)\n",
    "    print(\"df(x)/dx=\",d)\n",
    "    print(\"Initial guess=\",x0)\n",
    "    x0=float(x0)\n",
    "    cond=True\n",
    "    while cond:\n",
    "            if d.subs({x:x0})==0:\n",
    "                    print(\"Dervative is 0, can't compute\")\n",
    "                    break\n",
    "            h=f.subs({x:x0})/d.subs({x:x0})\n",
    "            x1=x0-h\n",
    "            x0=x1\n",
    "            print(\"it no:\\t\",it,\"\\t x=\",x0)\n",
    "            it+=1\n",
    "            cond=np.abs(f.subs({x:x1}))>e\n",
    "            if it>20:\n",
    "                print(\"solution diverges\")\n",
    "                break\n",
    "    return x0\n",
    "\n",
    "NR(x**3-3*x-1,0,0.000005)"
   ]
  },
  {
   "cell_type": "markdown",
   "id": "d14019e0",
   "metadata": {},
   "source": [
    "### 3) $x^3 + 2x^2 + x -1$\n",
    "\n",
    "### 4) $3cos(x) + x$"
   ]
  },
  {
   "cell_type": "markdown",
   "id": "cf2fb5fe",
   "metadata": {},
   "source": [
    "## Fixed Point Iteration Method"
   ]
  },
  {
   "cell_type": "code",
   "execution_count": 2,
   "id": "8b351a03",
   "metadata": {},
   "outputs": [],
   "source": [
    "from math import *\n",
    "from sympy import *\n",
    "from numpy import *\n",
    "#Implementing Fixed POint Iteration Method\n",
    "def fpi(x0, e, N):\n",
    "    Iteration = 1\n",
    "    flag = 1\n",
    "    condition = True\n",
    "    while condition:\n",
    "        x1 = g(x0)\n",
    "        print('Iteration=%d, x1 = %0.6f and f(x1) = %0.6f ' % (Iteration,x1, f(x1)))\n",
    "        x0=x1\n",
    "        Iteration = Iteration+1\n",
    "        if Iteration > N:\n",
    "                flag=0\n",
    "                break\n",
    "        condition = abs(f(x1))>e\n",
    "    if flag==1:\n",
    "            print(\"\\nRequired root is: %0.8f\" % x1)\n",
    "    else:\n",
    "        print(\"\\nNot Convergent\")"
   ]
  },
  {
   "cell_type": "markdown",
   "id": "2171036b",
   "metadata": {},
   "source": [
    "## Solve the following using Fixed Point iteration method."
   ]
  },
  {
   "cell_type": "markdown",
   "id": "7e5bd317",
   "metadata": {},
   "source": [
    "### 1) $x^3 + x^2 - 2$"
   ]
  },
  {
   "cell_type": "code",
   "execution_count": 5,
   "id": "810a6a20",
   "metadata": {},
   "outputs": [
    {
     "name": "stdout",
     "output_type": "stream",
     "text": [
      "Enter Guess: 2\n",
      "Tolerable Error: 0.00005\n",
      "Maximum Iteration: 50\n",
      "Iteration=1, x1 = 0.816497 and f(x1) = -0.789002 \n",
      "\n",
      "Required root is: 0.81649658\n",
      "Iteration=2, x1 = 1.049295 and f(x1) = 0.256316 \n",
      "\n",
      "Required root is: 1.04929525\n",
      "Iteration=3, x1 = 0.987899 and f(x1) = -0.059919 \n",
      "\n",
      "Required root is: 0.98789942\n",
      "Iteration=4, x1 = 1.003039 and f(x1) = 0.015232 \n",
      "\n",
      "Required root is: 1.00303894\n",
      "Iteration=5, x1 = 0.999241 and f(x1) = -0.003792 \n",
      "\n",
      "Required root is: 0.99924113\n",
      "Iteration=6, x1 = 1.000190 and f(x1) = 0.000949 \n",
      "\n",
      "Required root is: 1.00018977\n",
      "Iteration=7, x1 = 0.999953 and f(x1) = -0.000237 \n",
      "\n",
      "Required root is: 0.99995256\n",
      "Iteration=8, x1 = 1.000012 and f(x1) = 0.000059 \n",
      "\n",
      "Required root is: 1.00001186\n",
      "Iteration=9, x1 = 0.999997 and f(x1) = -0.000015 \n",
      "\n",
      "Required root is: 0.99999703\n"
     ]
    }
   ],
   "source": [
    "def f(x):\n",
    "    return x**3 + x**2 -2\n",
    "#rewriting f(x)=0 to x=g(x)\n",
    "def g(x):\n",
    "    return sqrt(2/(1+x))\n",
    "\n",
    "x0=float(input(\"Enter Guess: \"))\n",
    "e=float(input(\"Tolerable Error: \"))\n",
    "N=int(input(\"Maximum Iteration: \"))\n",
    "fpi(x0,e,N)"
   ]
  },
  {
   "cell_type": "markdown",
   "id": "af7a148d",
   "metadata": {},
   "source": [
    "### 2) $x^3 - 2x -5$"
   ]
  },
  {
   "cell_type": "markdown",
   "id": "64dceaf5",
   "metadata": {},
   "source": [
    "### 3) $2x - 3 = cos(x)$"
   ]
  },
  {
   "cell_type": "markdown",
   "id": "7cddc605",
   "metadata": {},
   "source": [
    "### 4) $sin(x) = 10(x-1)$"
   ]
  }
 ],
 "metadata": {
  "kernelspec": {
   "display_name": "Python 3 (ipykernel)",
   "language": "python",
   "name": "python3"
  },
  "language_info": {
   "codemirror_mode": {
    "name": "ipython",
    "version": 3
   },
   "file_extension": ".py",
   "mimetype": "text/x-python",
   "name": "python",
   "nbconvert_exporter": "python",
   "pygments_lexer": "ipython3",
   "version": "3.9.17"
  }
 },
 "nbformat": 4,
 "nbformat_minor": 5
}
