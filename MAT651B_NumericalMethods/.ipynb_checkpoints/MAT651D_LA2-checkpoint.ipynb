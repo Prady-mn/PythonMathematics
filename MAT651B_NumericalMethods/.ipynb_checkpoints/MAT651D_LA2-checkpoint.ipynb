{
 "cells": [
  {
   "cell_type": "markdown",
   "id": "b593d1c8",
   "metadata": {},
   "source": [
    "## LAB 2: Algebraic and Transcedental Equations\n",
    "\n",
    "**Date: 02-01-2024**"
   ]
  },
  {
   "cell_type": "code",
   "execution_count": 1,
   "id": "923a663f",
   "metadata": {},
   "outputs": [],
   "source": [
    "import numpy as np\n",
    "from scipy.misc import derivative\n",
    "import scipy.optimize as opt"
   ]
  },
  {
   "cell_type": "markdown",
   "id": "4d4fabe9",
   "metadata": {},
   "source": [
    "> **BISECTION METHOD**"
   ]
  },
  {
   "cell_type": "code",
   "execution_count": 2,
   "id": "efb7178c",
   "metadata": {},
   "outputs": [],
   "source": [
    "def bisect(f:'function',a = -1,b = 1):\n",
    "    \"\"\"\n",
    "        Bisect the interval with respect to given function\n",
    "\n",
    "        Parameters\n",
    "        ----------\n",
    "        a : int\n",
    "            Lower Limit\n",
    "        b : int\n",
    "            Upper Limit\n",
    "        f : function\n",
    "            Function to be evaluated\n",
    " \n",
    "        Returns\n",
    "        -------\n",
    "        New interval after single bisection.\n",
    "        \"\"\"\n",
    "    if(f(a)>f(b)):\n",
    "        a,b = b,a;\n",
    "    if(f(a)*f(b)>0):\n",
    "        raise Exception(\"INVALID INTERVAL\",(a,b))\n",
    "    mid = (a+b)/2\n",
    "    a,b = [mid,b] if f(mid)<0 else [a,mid]\n",
    "    return [a,b]\n",
    "\n",
    "def bisectionMethod(a,b,f:'function' = lambda x:0,error = 1e-10):\n",
    "    \"\"\"\n",
    "        Find roots using Bisection Method\n",
    "\n",
    "        Parameters\n",
    "        ----------\n",
    "        a : int\n",
    "            Lower Limit\n",
    "        b : int\n",
    "            Upper Limit\n",
    "        error : float\n",
    "            Approximation required\n",
    "        f : function\n",
    "            Function to be evaluated\n",
    " \n",
    "        Returns\n",
    "        -------\n",
    "        Approximate root, number of iterations\n",
    "        \"\"\"\n",
    "    n = 0;\n",
    "    while((abs(a-b) > error) and (n<100)):\n",
    "        a,b = bisect(f,a,b)\n",
    "        n += 1;\n",
    "    return [(a+b)/2,n]"
   ]
  },
  {
   "cell_type": "code",
   "execution_count": 3,
   "id": "e96f271b",
   "metadata": {},
   "outputs": [
    {
     "data": {
      "text/plain": [
       "[2.855196565389633, 24]"
      ]
     },
     "execution_count": 3,
     "metadata": {},
     "output_type": "execute_result"
    }
   ],
   "source": [
    "f = lambda x: x**3 - 5*x - 9\n",
    "bisectionMethod(2,3,f,1e-7)"
   ]
  },
  {
   "cell_type": "code",
   "execution_count": 4,
   "id": "f2a6a0e2",
   "metadata": {},
   "outputs": [
    {
     "data": {
      "text/plain": [
       "array([ 2.85519654+0.j        , -1.42759827+1.05551431j,\n",
       "       -1.42759827-1.05551431j])"
      ]
     },
     "execution_count": 4,
     "metadata": {},
     "output_type": "execute_result"
    }
   ],
   "source": [
    "poly = [1,0,-5,-9]\n",
    "np.roots(poly)"
   ]
  },
  {
   "cell_type": "markdown",
   "id": "41423674",
   "metadata": {},
   "source": [
    "> WAP to find the roots of the following equations <br>\n",
    "> - $f(x) = x^3 - x - 1$\n",
    "> - $f(x) = x^2 - 3x - 1$\n",
    "> - $f(x) = x^2 - 3e^x$"
   ]
  },
  {
   "cell_type": "code",
   "execution_count": 5,
   "id": "03581b92",
   "metadata": {},
   "outputs": [
    {
     "data": {
      "text/plain": [
       "[1.324717957264511, 34]"
      ]
     },
     "execution_count": 5,
     "metadata": {},
     "output_type": "execute_result"
    }
   ],
   "source": [
    "f = lambda x: x**3 - x - 1\n",
    "bisectionMethod(1,2,f)"
   ]
  },
  {
   "cell_type": "code",
   "execution_count": 6,
   "id": "0a6ffc52",
   "metadata": {},
   "outputs": [
    {
     "data": {
      "text/plain": [
       "[-1.0332309037039522, 35]"
      ]
     },
     "execution_count": 6,
     "metadata": {},
     "output_type": "execute_result"
    }
   ],
   "source": [
    "f = lambda x: x**2 - 3*np.exp(x)\n",
    "bisectionMethod(0,-2,f)"
   ]
  },
  {
   "cell_type": "markdown",
   "id": "170d880c",
   "metadata": {},
   "source": [
    "> **REGULA FALSI METHOD or METHOD OF FALSE POSITION** <br>"
   ]
  },
  {
   "cell_type": "code",
   "execution_count": 7,
   "id": "bd163a10",
   "metadata": {},
   "outputs": [],
   "source": [
    "def regula(f:'function',a = -1,b = 1):\n",
    "    if(a>b):\n",
    "        a,b = b,a;\n",
    "    if(f(a)*f(b) > 0):\n",
    "        raise Exception(\"INVALID INTERVAL\",(a,b))\n",
    "    return [b,b - ((b-a)*f(b)/(f(b)-f(a)))]\n",
    "def regulaFalsiMethod(a,b,f:'function' = lambda x:0,error = 1e-10):\n",
    "    n = 0;\n",
    "    while((abs(f(b)) > error) and (n<100)):\n",
    "        a,b = regula(f,a,b)\n",
    "        n += 1;\n",
    "    return [b,n]"
   ]
  },
  {
   "cell_type": "code",
   "execution_count": 8,
   "id": "2607a825",
   "metadata": {},
   "outputs": [
    {
     "data": {
      "text/plain": [
       "[2.094551481535422, 85]"
      ]
     },
     "execution_count": 8,
     "metadata": {},
     "output_type": "execute_result"
    }
   ],
   "source": [
    "f = lambda x: x**3 - 2*x - 5\n",
    "regulaFalsiMethod(-1,5,f)"
   ]
  },
  {
   "cell_type": "code",
   "execution_count": 9,
   "id": "f41655bf",
   "metadata": {},
   "outputs": [
    {
     "data": {
      "text/plain": [
       "array([-2.09455148+0.j        ,  1.04727574+1.13593989j,\n",
       "        1.04727574-1.13593989j])"
      ]
     },
     "execution_count": 9,
     "metadata": {},
     "output_type": "execute_result"
    }
   ],
   "source": [
    "np.roots([1,0,-2,5])"
   ]
  },
  {
   "cell_type": "markdown",
   "id": "0123ec8a",
   "metadata": {},
   "source": [
    "> WAP to find the roots of the following equations <br>\n",
    "> - $f(x) = x^4 - 3$\n",
    "> - $f(x) = 2\\cos x - x$\n",
    "> - $f(x) = x e^x - 1$"
   ]
  },
  {
   "cell_type": "code",
   "execution_count": 10,
   "id": "3f010d57",
   "metadata": {},
   "outputs": [
    {
     "data": {
      "text/plain": [
       "[1.3160740129466892, 44]"
      ]
     },
     "execution_count": 10,
     "metadata": {},
     "output_type": "execute_result"
    }
   ],
   "source": [
    "f = lambda x: x**4 - 3\n",
    "regulaFalsiMethod(-1,2,f)"
   ]
  },
  {
   "cell_type": "code",
   "execution_count": 11,
   "id": "4ea1f772",
   "metadata": {},
   "outputs": [
    {
     "data": {
      "text/plain": [
       "[1.0298665293179292, 12]"
      ]
     },
     "execution_count": 11,
     "metadata": {},
     "output_type": "execute_result"
    }
   ],
   "source": [
    "f = lambda x: 2*np.cos(x) - x\n",
    "regulaFalsiMethod(-2,2,f)"
   ]
  },
  {
   "cell_type": "code",
   "execution_count": 12,
   "id": "fefc02ef",
   "metadata": {},
   "outputs": [
    {
     "data": {
      "text/plain": [
       "[0.5671432903759988, 78]"
      ]
     },
     "execution_count": 12,
     "metadata": {},
     "output_type": "execute_result"
    }
   ],
   "source": [
    "f = lambda x: x*np.exp(x) - 1\n",
    "regulaFalsiMethod(-2,2,f)"
   ]
  },
  {
   "cell_type": "markdown",
   "id": "1baac7eb",
   "metadata": {},
   "source": [
    "> **FIXED POINT METHOD** <br>"
   ]
  },
  {
   "cell_type": "code",
   "execution_count": 13,
   "id": "c9bedcdd",
   "metadata": {},
   "outputs": [],
   "source": [
    "def fixedPointMethod(a,f:'function' = lambda x:0, g:'function' = lambda x:0, error = 1e-10,thresh = 500):\n",
    "    n = 0;\n",
    "    while((abs(f(a)) > error) and (n<thresh)):\n",
    "        a = g(a)\n",
    "        n += 1;\n",
    "    return [a,False if n == thresh else True,n]"
   ]
  },
  {
   "cell_type": "code",
   "execution_count": 14,
   "id": "320f0572",
   "metadata": {},
   "outputs": [
    {
     "data": {
      "text/plain": [
       "[(1.000000000012568-1.254483651600653e-11j), True, 62]"
      ]
     },
     "execution_count": 14,
     "metadata": {},
     "output_type": "execute_result"
    }
   ],
   "source": [
    "f = lambda x: x**3 + x**2 - 2\n",
    "g = lambda x: (2-x**2)**(1/3)\n",
    "fixedPointMethod(2,f,g)"
   ]
  },
  {
   "cell_type": "code",
   "execution_count": 15,
   "id": "430df742",
   "metadata": {},
   "outputs": [
    {
     "data": {
      "text/plain": [
       "    fjac: array([[-1.]])\n",
       "     fun: array([0.])\n",
       " message: 'The solution converged.'\n",
       "    nfev: 10\n",
       "     qtf: array([-2.91384694e-10])\n",
       "       r: array([-5.00000208])\n",
       "  status: 1\n",
       " success: True\n",
       "       x: array([1.])"
      ]
     },
     "execution_count": 15,
     "metadata": {},
     "output_type": "execute_result"
    }
   ],
   "source": [
    "opt.root(f,2)"
   ]
  },
  {
   "cell_type": "markdown",
   "id": "20cdc03a",
   "metadata": {},
   "source": [
    "> WAP to find the roots of the following equations <br>\n",
    "> - $f(x) = x^3 - 2x - 5$\n",
    "> - $f(x) = 2x - 3 - \\cos x$\n",
    "> - $f(x) = \\sin x - 10(x-1)$"
   ]
  },
  {
   "cell_type": "code",
   "execution_count": 16,
   "id": "97be9ac0",
   "metadata": {},
   "outputs": [
    {
     "data": {
      "text/plain": [
       "([2.0945514815401305, True, 13], array([2.09455148]))"
      ]
     },
     "execution_count": 16,
     "metadata": {},
     "output_type": "execute_result"
    }
   ],
   "source": [
    "f = lambda x: x**3 - 2*x - 5\n",
    "g = lambda x: (5+2*x)**(1/3)\n",
    "fixedPointMethod(2,f,g),opt.root(f,2).x"
   ]
  },
  {
   "cell_type": "code",
   "execution_count": 17,
   "id": "ecae4c21",
   "metadata": {},
   "outputs": [
    {
     "data": {
      "text/plain": [
       "([1.5235929331230837, True, 34], array([1.52359293]))"
      ]
     },
     "execution_count": 17,
     "metadata": {},
     "output_type": "execute_result"
    }
   ],
   "source": [
    "f = lambda x: 2*x - 3 - np.cos(x)\n",
    "g = lambda x: (np.cos(x) + 3)/2\n",
    "fixedPointMethod(2,f,g),opt.root(f,2).x"
   ]
  },
  {
   "cell_type": "code",
   "execution_count": 18,
   "id": "d900decf",
   "metadata": {},
   "outputs": [
    {
     "data": {
      "text/plain": [
       "([1.0885977523989665, True, 8], array([1.08859775]))"
      ]
     },
     "execution_count": 18,
     "metadata": {},
     "output_type": "execute_result"
    }
   ],
   "source": [
    "f = lambda x: np.sin(x) - 10*(x-1)\n",
    "g = lambda x: np.sin(x)/10 + 1\n",
    "fixedPointMethod(2,f,g),opt.root(f,2).x"
   ]
  },
  {
   "cell_type": "markdown",
   "id": "2f469c53",
   "metadata": {},
   "source": [
    "> **NEWTON RAPHSON METHOD** <br>"
   ]
  },
  {
   "cell_type": "code",
   "execution_count": 19,
   "id": "e9aa300a",
   "metadata": {},
   "outputs": [],
   "source": [
    "def getRaphson(a,f,error):\n",
    "    if(derivative(f,a,dx=error) == 0):\n",
    "        raise Exception(\"DERIVATIVE IS ZERO\",(a))\n",
    "    return a-(f(a)/derivative(f,a,error))\n",
    "        \n",
    "def newtonRaphsonMethod(a,f:'function' = lambda x:0, error = 1e-10,thresh = 500):\n",
    "    n = 0;\n",
    "    while((abs(f(a)) > error) and (n<thresh)):\n",
    "        a = getRaphson(a,f,error)\n",
    "        n += 1\n",
    "    return [a,False if n == thresh else True,n]"
   ]
  },
  {
   "cell_type": "code",
   "execution_count": 20,
   "id": "fdd809b7",
   "metadata": {},
   "outputs": [
    {
     "data": {
      "text/plain": [
       "([0.4655712318767954, True, 6],\n",
       "     fjac: array([[-1.]])\n",
       "      fun: array([-9.88098492e-15])\n",
       "  message: 'The solution converged.'\n",
       "     nfev: 11\n",
       "      qtf: array([-3.42745543e-09])\n",
       "        r: array([-3.51254448])\n",
       "   status: 1\n",
       "  success: True\n",
       "        x: array([0.46557123]))"
      ]
     },
     "execution_count": 20,
     "metadata": {},
     "output_type": "execute_result"
    }
   ],
   "source": [
    "f = lambda x: x**3 + 2*x**2 + x - 1\n",
    "newtonRaphsonMethod(0,f),opt.root(f,0)"
   ]
  },
  {
   "cell_type": "markdown",
   "id": "7e6a3450",
   "metadata": {},
   "source": [
    "> WAP to find the roots of the following equations <br>\n",
    "> - $f(x) =  x^3 -5x^2 $\n",
    "> - $f(x) = x^3 - 3x -1$\n",
    "> - $f(x) = x^3 + 2x^2 + x -1$\n",
    "> - $f(x) = 3cos(x) + x$"
   ]
  },
  {
   "cell_type": "code",
   "execution_count": 29,
   "id": "178c6107",
   "metadata": {},
   "outputs": [
    {
     "data": {
      "text/plain": [
       "([5.0000000000000115, True, 5], array([5.]))"
      ]
     },
     "execution_count": 29,
     "metadata": {},
     "output_type": "execute_result"
    }
   ],
   "source": [
    "f = lambda x: x**3 - 5*x**2\n",
    "newtonRaphsonMethod(6,f),opt.root(f,6).x"
   ]
  },
  {
   "cell_type": "code",
   "execution_count": 30,
   "id": "7c218499-2b12-4363-8ea6-e8968fef3fd3",
   "metadata": {},
   "outputs": [
    {
     "data": {
      "text/plain": [
       "([1.8793852415718182, True, 4], array([1.87938524]))"
      ]
     },
     "execution_count": 30,
     "metadata": {},
     "output_type": "execute_result"
    }
   ],
   "source": [
    "f = lambda x: x**3 - 3*x - 1\n",
    "newtonRaphsonMethod(2,f),opt.root(f,2).x"
   ]
  },
  {
   "cell_type": "code",
   "execution_count": 32,
   "id": "33733d58-7ce4-455c-851f-2dd16cddd9e9",
   "metadata": {},
   "outputs": [
    {
     "data": {
      "text/plain": [
       "([0.4655712318767954, True, 6], array([0.46557123]))"
      ]
     },
     "execution_count": 32,
     "metadata": {},
     "output_type": "execute_result"
    }
   ],
   "source": [
    "f = lambda x: x**3 + 2*x**2 + x - 1\n",
    "newtonRaphsonMethod(0,f),opt.root(f,0).x"
   ]
  },
  {
   "cell_type": "code",
   "execution_count": 35,
   "id": "85200965-1aa4-43f0-944a-707a1e56f99a",
   "metadata": {},
   "outputs": [
    {
     "data": {
      "text/plain": [
       "([2.663178883323163, True, 5], array([2.66317888]))"
      ]
     },
     "execution_count": 35,
     "metadata": {},
     "output_type": "execute_result"
    }
   ],
   "source": [
    "f = lambda x: 3*np.cos(x) + x\n",
    "newtonRaphsonMethod(1,f),opt.root(f,1).x"
   ]
  }
 ],
 "metadata": {
  "kernelspec": {
   "display_name": "Python 3 (ipykernel)",
   "language": "python",
   "name": "python3"
  },
  "language_info": {
   "codemirror_mode": {
    "name": "ipython",
    "version": 3
   },
   "file_extension": ".py",
   "mimetype": "text/x-python",
   "name": "python",
   "nbconvert_exporter": "python",
   "pygments_lexer": "ipython3",
   "version": "3.10.5"
  }
 },
 "nbformat": 4,
 "nbformat_minor": 5
}
