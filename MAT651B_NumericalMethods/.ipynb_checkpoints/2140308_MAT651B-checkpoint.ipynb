{
 "cells": [
  {
   "cell_type": "markdown",
   "id": "1a88efc7",
   "metadata": {},
   "source": [
    " <p style=\"text-align: center\"> $\\displaystyle \\Large{\\underline{\\textbf{Numerical Methods Using Python}}}$ </br> </br> $\\displaystyle \\large{\\textbf{MAT651B}}$ \n",
    " </p>"
   ]
  },
  {
   "cell_type": "markdown",
   "id": "6448cc58",
   "metadata": {},
   "source": [
    "  \n",
    "  \n",
    "  \n",
    "  \n",
    "  \n",
    "  "
   ]
  },
  {
   "cell_type": "markdown",
   "id": "e02598cf",
   "metadata": {},
   "source": [
    " "
   ]
  },
  {
   "cell_type": "markdown",
   "id": "7b21d03f",
   "metadata": {},
   "source": [
    "  "
   ]
  },
  {
   "cell_type": "markdown",
   "id": "fccb6599",
   "metadata": {},
   "source": [
    "   "
   ]
  },
  {
   "cell_type": "markdown",
   "id": "f43b8721",
   "metadata": {},
   "source": [
    "<p style=\"text-align: center\"> $\\Large{\\underline{\\textbf{Revision}}}$ </p> \n",
    "<p style=\"text-align: left\"> $\\large{\\textbf{LAB 1 }}$ </p>\n",
    "<p style=\"text-align: right\"> $\\large{\\textbf{Date: 19-12-2023 }}$ </p>"
   ]
  },
  {
   "cell_type": "markdown",
   "id": "03537a3c",
   "metadata": {},
   "source": [
    ">**Q1**: Write Python program to solve the following system of trhee linear equations. </br>\n",
    ">$2x-y+3z = 8$ </br>\n",
    ">$x+2y+z=7$ </br>\n",
    ">$3x+y-2z=9$</br>"
   ]
  },
  {
   "cell_type": "code",
   "execution_count": null,
   "id": "0764dcdd",
   "metadata": {},
   "outputs": [
    {
     "name": "stdout",
     "output_type": "stream",
     "text": [
      "[[3.2]\n",
      " [1.4]\n",
      " [1. ]]\n"
     ]
    }
   ],
   "source": [
    "import numpy as np\n",
    "A = np.matrix([[2,-1,3],[1,2,1],[3,1,-2]])\n",
    "#B = np.matrix([[8],[7],[9]]) or\n",
    "B = np.matrix([[8,7,9]]).T\n",
    "print(A.I*B)"
   ]
  },
  {
   "cell_type": "markdown",
   "id": "bb82d0e2",
   "metadata": {},
   "source": [
    ">**Q2**: WAP to find the roots of the quadratic function, $x^x + x+ 1= 0$ </br>"
   ]
  },
  {
   "cell_type": "code",
   "execution_count": null,
   "id": "064f17a6",
   "metadata": {},
   "outputs": [
    {
     "name": "stdout",
     "output_type": "stream",
     "text": [
      "⎡  1   √3⋅ⅈ    1   √3⋅ⅈ⎤\n",
      "⎢- ─ - ────, - ─ + ────⎥\n",
      "⎣  2    2      2    2  ⎦\n"
     ]
    }
   ],
   "source": [
    "from sympy import symbols, Eq, solve, pprint\n",
    "x = symbols('x')\n",
    "fx = x**2+x+1\n",
    "roots = solve(Eq(fx,0))\n",
    "pprint(roots)"
   ]
  },
  {
   "cell_type": "markdown",
   "id": "afb35b5b",
   "metadata": {},
   "source": [
    "\n",
    ">**Q3**: WAP to display 10 values between 0 and 10. "
   ]
  },
  {
   "cell_type": "code",
   "execution_count": null,
   "id": "76c65232",
   "metadata": {},
   "outputs": [
    {
     "data": {
      "text/plain": [
       "array([ 0.        ,  1.11111111,  2.22222222,  3.33333333,  4.44444444,\n",
       "        5.55555556,  6.66666667,  7.77777778,  8.88888889, 10.        ])"
      ]
     },
     "execution_count": 25,
     "metadata": {},
     "output_type": "execute_result"
    }
   ],
   "source": [
    "import numpy as np\n",
    "np.linspace(0,10,10)"
   ]
  },
  {
   "cell_type": "markdown",
   "id": "efd32f65",
   "metadata": {},
   "source": [
    ">**Q4**: WAP to display 10 values between 10 excluding 10. </br>"
   ]
  },
  {
   "cell_type": "code",
   "execution_count": null,
   "id": "eee30cda",
   "metadata": {},
   "outputs": [
    {
     "data": {
      "text/plain": [
       "array([0, 1, 2, 3, 4, 5, 6, 7, 8, 9])"
      ]
     },
     "execution_count": 26,
     "metadata": {},
     "output_type": "execute_result"
    }
   ],
   "source": [
    "np.arange(0,10,1)"
   ]
  },
  {
   "cell_type": "markdown",
   "id": "60929914",
   "metadata": {},
   "source": [
    ">**Q5**: WAP to add and multiply two matrices. </br>"
   ]
  },
  {
   "cell_type": "code",
   "execution_count": null,
   "id": "cf736f50",
   "metadata": {},
   "outputs": [
    {
     "data": {
      "text/plain": [
       "matrix([[ 4, 11],\n",
       "        [11,  8]])"
      ]
     },
     "execution_count": 27,
     "metadata": {},
     "output_type": "execute_result"
    }
   ],
   "source": [
    "A = np.matrix([[1,2],[4,7]])\n",
    "B = np.matrix([[3,9],[7,1]])\n",
    "A+B"
   ]
  },
  {
   "cell_type": "markdown",
   "id": "78733ff6",
   "metadata": {},
   "source": [
    ">**Q6**: WAP to find the inverse of the matrix. </br>"
   ]
  },
  {
   "cell_type": "code",
   "execution_count": null,
   "id": "cd56b29d",
   "metadata": {},
   "outputs": [
    {
     "data": {
      "text/plain": [
       "matrix([[-0.08988764,  0.12359551],\n",
       "        [ 0.12359551, -0.04494382]])"
      ]
     },
     "execution_count": 28,
     "metadata": {},
     "output_type": "execute_result"
    }
   ],
   "source": [
    "np.linalg.inv(A+B)"
   ]
  },
  {
   "cell_type": "code",
   "execution_count": null,
   "id": "7625e2af",
   "metadata": {},
   "outputs": [
    {
     "data": {
      "text/plain": [
       "matrix([[-7.,  2.],\n",
       "        [ 4., -1.]])"
      ]
     },
     "execution_count": 29,
     "metadata": {},
     "output_type": "execute_result"
    }
   ],
   "source": [
    "A.I"
   ]
  },
  {
   "cell_type": "code",
   "execution_count": null,
   "id": "3f5348e0",
   "metadata": {},
   "outputs": [],
   "source": []
  },
  {
   "cell_type": "markdown",
   "id": "b15de960",
   "metadata": {},
   "source": [
    "<p style=\"text-align: center\"> $\\Large{\\underline{\\textbf{Bisection Method}}}$ </p> \n",
    "<p style=\"text-align: left\"> $\\large{\\textbf{LAB 2 }}$ </p>\n",
    "<p style=\"text-align: right\"> $\\large{\\textbf{Date: 02-01-2024 }}$ </p>"
   ]
  },
  {
   "cell_type": "markdown",
   "id": "f7ac3dab",
   "metadata": {},
   "source": [
    "> **Q1:** WAP that implements the bisection method to find the root od the given function $f(x) = x^3-5x-9$. The program should prompt the user for the first guess $(x(0))$, second guess $(x(1))$ and tolerable error."
   ]
  },
  {
   "cell_type": "code",
   "execution_count": null,
   "id": "bd6b2263",
   "metadata": {},
   "outputs": [],
   "source": [
    "from sympy import *"
   ]
  },
  {
   "cell_type": "code",
   "execution_count": null,
   "id": "460385f1",
   "metadata": {},
   "outputs": [],
   "source": [
    "f = lambda x: x**2 - 2*x - 5\n",
    "\n",
    "def bisection(x0, x1, e):\n",
    "   \n",
    "    step = 0\n",
    "   \n",
    "    while abs(f(x1) - f(x0)) >= e:   #abs(f(x1))\n",
    "       \n",
    "        x2 = (x1+x0)/2\n",
    "        if f(x0) * f(x2) < 0:\n",
    "            x1 = x2\n",
    "        else:\n",
    "            x0 = x2\n",
    "        step += 1\n",
    "       \n",
    "    return x2, step\n",
    "\n",
    "\n",
    "x0 = float(input(\"Enter first guess(x0): \"))\n",
    "x1 = float(input(\"Enter second guess(x1): \"))\n",
    "e = float(input(\"Enter the tolerance error: \"))\n",
    "\n",
    "\n",
    "if f(x0)*f(x1)>=0:\n",
    "    print(\"Wrong Guesses! Do better next time.\")\n",
    "else:\n",
    "    soln, step = bisection(x0, x1, e)\n",
    "    print(\"The root is: \", soln)\n",
    "    print(\"Number of iterations:\", step)"
   ]
  },
  {
   "cell_type": "code",
   "execution_count": null,
   "id": "c0b31751",
   "metadata": {},
   "outputs": [],
   "source": [
    "f = lambda x: x**2 - x - 1\n",
    "bisection(-1,1,1e-7)"
   ]
  },
  {
   "cell_type": "code",
   "execution_count": null,
   "id": "35089308",
   "metadata": {},
   "outputs": [],
   "source": [
    "f = lambda x: x**2 - 3*exp(x)\n",
    "bisection(-1,1,1e-7)"
   ]
  },
  {
   "cell_type": "code",
   "execution_count": null,
   "id": "7361966b",
   "metadata": {},
   "outputs": [],
   "source": [
    "f(bisection(-1,1,1e-7)[0])"
   ]
  },
  {
   "cell_type": "markdown",
   "id": "621946be",
   "metadata": {},
   "source": [
    "<p style=\"text-align: center\"> $\\Large{\\underline{\\textbf{Regula Falsi Method or Method of False Position and Fixed point Iteration Method}}}$ </p> \n",
    "<p style=\"text-align: left\"> $\\large{\\textbf{LAB 3 }}$ </p>\n",
    "<p style=\"text-align: right\"> $\\large{\\textbf{Date: 06-01-2024 }}$ </p>"
   ]
  },
  {
   "cell_type": "markdown",
   "id": "08e959b6",
   "metadata": {},
   "source": [
    "<p style=\"text-align: center\"> $\\Large{\\underline{\\textbf{Regula Falsi Method or Method of False Position}}}$ </p> \n"
   ]
  },
  {
   "cell_type": "markdown",
   "id": "906badbe",
   "metadata": {},
   "source": [
    "> **Q**: SOlve the following equations using Regula-Falsi Method </br>\n",
    "> 1. $x^3-9x-5$\n",
    "> 2. $x^4-3 = 0$\n",
    "> 3. $2cosx-x = 0$\n",
    "> 4. $xe^x-1$"
   ]
  },
  {
   "cell_type": "code",
   "execution_count": null,
   "id": "95dd8b6e",
   "metadata": {},
   "outputs": [],
   "source": [
    "from sympy import *\n",
    "from math import *\n",
    "from numpy import *"
   ]
  },
  {
   "cell_type": "code",
   "execution_count": null,
   "id": "e606d7a5",
   "metadata": {},
   "outputs": [],
   "source": [
    "f = lambda x: x**2 - x - 1\n",
    "\n",
    "def regulafalsi(x0, x1, e):\n",
    "   \n",
    "    step = 0\n",
    "   \n",
    "    while abs(f(x1) - f(x0)) >= e:   #abs(f(x1))\n",
    "       \n",
    "        x2 = x1 - ((x1-x0)*(f(x1)))/(f(x1)-f(x0))\n",
    "        if f(x0) * f(x2) < 0:\n",
    "            x1 = x2\n",
    "        else:\n",
    "            x0 = x2\n",
    "        step += 1\n",
    "       \n",
    "    return x2, step\n",
    "\n",
    "\n",
    "x0 = float(input(\"Enter first guess(x0): \"))\n",
    "x1 = float(input(\"Enter second guess(x1): \"))\n",
    "e = float(input(\"Enter the tolerance error: \"))\n",
    "\n",
    "\n",
    "if f(x0)*f(x1)>=0:\n",
    "    print(\"Wrong Guesses! Do better next time.\")\n",
    "\n",
    "else:\n",
    "    soln, step = regulafalsi(x0, x1, e)\n",
    "    print(\"The root is: \", soln)\n",
    "    print(\"Number of iterations:\", step)\n",
    "    "
   ]
  },
  {
   "cell_type": "markdown",
   "id": "aea94b73",
   "metadata": {},
   "source": [
    "<p style=\"text-align: center\"> $\\Large{\\underline{\\textbf{Fixed point Iteration Method (FPI)}}}$ </p> "
   ]
  },
  {
   "cell_type": "code",
   "execution_count": null,
   "id": "430b5896",
   "metadata": {},
   "outputs": [],
   "source": [
    "def fpi(x0,N,e):\n",
    "    Iteration = 1\n",
    "    flag = 1\n",
    "    condition = True \n",
    "    while condition:\n",
    "        x1 = g(x0)\n",
    "        print(\"Iteration=%d, x1 = %0.6f and f(x1) = %0.6f\" % (Iteration,x1,f(x1)))\n",
    "        \n",
    "        x0 = x1\n",
    "        Iteration = Iteration+1\n",
    "        if Iteration > N:\n",
    "            flag = 0\n",
    "            break\n",
    "        condition = abs(f(x1))>e\n",
    "        \n",
    "        if flag == 1:\n",
    "            print(\"\\nRequired root is: %0.8f\"%x1)\n",
    "        else: \n",
    "            print(\"\\nNot Convergent\")\n",
    "        "
   ]
  },
  {
   "cell_type": "code",
   "execution_count": null,
   "id": "8e8f5455",
   "metadata": {},
   "outputs": [],
   "source": [
    "f = lambda x: x**3+x**2-2\n",
    "g = lambda x: sqrt(2/(1+x))\n",
    "fpi(2,50,1e-5)"
   ]
  },
  {
   "cell_type": "markdown",
   "id": "f7d2d2f6",
   "metadata": {},
   "source": [
    "<p style=\"text-align: center\"> $\\Large{\\underline{\\textbf{Problems on FPI and Newton-raphson Method}}}$ </p> \n",
    "<p style=\"text-align: left\"> $\\large{\\textbf{LAB 4 }}$ </p>\n",
    "<p style=\"text-align: right\"> $\\large{\\textbf{Date: 09-01-2024 }}$ </p>"
   ]
  },
  {
   "cell_type": "markdown",
   "id": "bb8598af",
   "metadata": {},
   "source": [
    "> **Q**. WAP to solve the following problem using FIxed Point Iteration Method </br>\n",
    "> 1. $x^3-2x-5=0$</br>\n",
    "> 2. $2x-3=cos(x)$</br>\n",
    "> 3. $sin(x) = 10(x-1)$"
   ]
  },
  {
   "cell_type": "code",
   "execution_count": null,
   "id": "3a7b3c33",
   "metadata": {},
   "outputs": [],
   "source": [
    "def fpi(x0,N,e):\n",
    "    Iteration = 1\n",
    "    flag = 1\n",
    "    condition = True \n",
    "    while condition:\n",
    "        x1 = g(x0)\n",
    "        print(\"Iteration=%d, x1 = %0.6f and f(x1) = %0.6f\" % (Iteration,x1,f(x1)))\n",
    "        \n",
    "        x0 = x1\n",
    "        Iteration = Iteration+1\n",
    "        if Iteration > N:\n",
    "            flag = 0\n",
    "            break\n",
    "        condition = abs(f(x1))>e\n",
    "        \n",
    "        if flag == 1:\n",
    "            print(\"\\nRequired root is: %0.8f\"%x1)\n",
    "        else: \n",
    "            print(\"\\nNot Convergent\")    "
   ]
  },
  {
   "cell_type": "markdown",
   "id": "86931da4",
   "metadata": {},
   "source": [
    "> 1. $x^3-2x-5=0$</br>"
   ]
  },
  {
   "cell_type": "code",
   "execution_count": null,
   "id": "78f0781d",
   "metadata": {},
   "outputs": [],
   "source": [
    "# 𝑥^3−2𝑥−5=0\n",
    "# g(x) = (5-2*x)**(1/3)\n",
    "f = lambda x: x**3-2*x-5\n",
    "g = lambda x: (5+2*x)**(1/3)\n",
    "fpi(2.5,9,1e-9)"
   ]
  },
  {
   "cell_type": "code",
   "execution_count": null,
   "id": "c2876d75",
   "metadata": {},
   "outputs": [],
   "source": [
    "f(2.094551)"
   ]
  },
  {
   "cell_type": "code",
   "execution_count": null,
   "id": "f4cb74bc",
   "metadata": {},
   "outputs": [],
   "source": [
    "# 𝑥^3−2𝑥−5=0\n",
    "#g(x) =  x**3-5/2\n",
    "f = lambda x: x**3+2*x-5\n",
    "g = lambda x: x**3-5/2\n",
    "fpi(1,100,20)"
   ]
  },
  {
   "cell_type": "markdown",
   "id": "4a886647",
   "metadata": {},
   "source": [
    "> 2. $2x-3=cos(x)$</br>"
   ]
  },
  {
   "cell_type": "code",
   "execution_count": null,
   "id": "7ae3da70",
   "metadata": {},
   "outputs": [],
   "source": [
    "f = lambda x: 2*x - 3 -cos(x)\n",
    "g = lambda x: (cos(x)+3)/2\n",
    "fpi(2,20,1e-6)"
   ]
  },
  {
   "cell_type": "markdown",
   "id": "2e0e7289",
   "metadata": {},
   "source": [
    "> 3. $sin(x) = 10(x-1)$"
   ]
  },
  {
   "cell_type": "code",
   "execution_count": null,
   "id": "6d554c87",
   "metadata": {},
   "outputs": [],
   "source": [
    "# $sin(x) = 10(x-1)$\n",
    "# g(x) = (sin(x)+10)/10)\n",
    "f = lambda x: sin(x) - 10*(x-1)\n",
    "g = lambda x: (sin(x)+10)/10\n",
    "fpi(2,20,1e-6)"
   ]
  },
  {
   "cell_type": "code",
   "execution_count": null,
   "id": "fb5f69b7",
   "metadata": {},
   "outputs": [],
   "source": [
    "# $sin(x) = 10(x-1)$\n",
    "# g(x) = (sin(x)+10)/10)\n",
    "f = lambda x: sin(x) - 10*(x-1)\n",
    "g = lambda x: (sin(x)+10)/10\n",
    "fpi(2,20,1e-6)"
   ]
  },
  {
   "cell_type": "markdown",
   "id": "8ccf652b",
   "metadata": {},
   "source": [
    "<p style=\"text-align: center\"> $\\Large{\\underline{\\textbf{Newton-Raphson Method}}}$ </p> \n"
   ]
  },
  {
   "cell_type": "markdown",
   "id": "37ac5230-b733-4539-a7e1-3819bcab974f",
   "metadata": {
    "tags": []
   },
   "source": [
    "<p style=\"text-align: center\"> $\\Large{\\underline{\\textbf{Cramer's Rule}}}$ </p> \n",
    "<p style=\"text-align: left\"> $\\large{\\textbf{LAB 5 }}$ </p>\n",
    "<p style=\"text-align: right\"> $\\large{\\textbf{Date: 13-01-2024 }}$ </p>"
   ]
  },
  {
   "cell_type": "markdown",
   "id": "8639c3d4-1936-453f-be5f-90d2d5a3a809",
   "metadata": {},
   "source": [
    "**Absent**"
   ]
  },
  {
   "cell_type": "markdown",
   "id": "3584269e-b755-486f-b370-4606fdf982bb",
   "metadata": {},
   "source": [
    "**Solve the following question using Cramer's Rule** </br>\n",
    "> $4x+3y-2z=1$</br>\n",
    "> $3x-7y+5z$</br>\n",
    "> $x+3y-2z=7$</br>"
   ]
  },
  {
   "cell_type": "code",
   "execution_count": null,
   "id": "cb46d943-b6b6-496d-9a62-2ded4258b31a",
   "metadata": {
    "tags": []
   },
   "outputs": [],
   "source": [
    "import numpy as np\n",
    "import copy as cp"
   ]
  },
  {
   "cell_type": "code",
   "execution_count": null,
   "id": "b8f4e3fc-0e59-4523-892a-19378bb56cac",
   "metadata": {},
   "outputs": [],
   "source": [
    "A = np.matrix([[4,3,-2],[3,-7,5],[1,3,-2]])\n",
    "B = np.matrix([[1],[2],[7]])\n",
    "Ax = cp.deepcopy(A)\n",
    "Ay = cp.deepcopy(A)\n",
    "Az = cp.deepcopy(A)\n",
    "Ax[:,0]=B\n",
    "Ay[:,1]=B\n",
    "Az[:,2]=B\n",
    "x = np.linalg.det(Ax)/np.linalg.det(A)\n",
    "y = np.linalg.det(Ay)/np.linalg.det(A)\n",
    "z = np.linalg.det(Az)/np.linalg.det(A)\n",
    "\n",
    "\n",
    "print(\"\\nx ={:.2f}\\n y = {:.2f}\\n z= {:.2f}\\n\".format(x,y,z))"
   ]
  },
  {
   "cell_type": "markdown",
   "id": "d26c5a2f-9baf-40f0-9245-cf8dcf43bfdc",
   "metadata": {},
   "source": [
    "<p style=\"text-align: center\"> $\\Large{\\underline{\\textbf{Continuation}}}$ </p> \n",
    "<p style=\"text-align: left\"> $\\large{\\textbf{LAB 6 }}$ </p>\n",
    "<p style=\"text-align: right\"> $\\large{\\textbf{Date: 16-01-2024 }}$ </p>"
   ]
  },
  {
   "cell_type": "code",
   "execution_count": null,
   "id": "17cdfe2e-c3ba-4e3f-ba78-5cf7bc6dd666",
   "metadata": {},
   "outputs": [],
   "source": [
    "import numpy as np\n",
    "import copy as cp"
   ]
  },
  {
   "cell_type": "code",
   "execution_count": null,
   "id": "94559a50-36e9-41cb-a198-5c90c4abd042",
   "metadata": {},
   "outputs": [],
   "source": [
    "A = np.array([[4,3,-2],[3,-7,5],[1,3,-2]])\n",
    "B = np.array([1,-2.7])\n",
    "C = cp.deepcopy(A)\n",
    "X= []\n",
    "for i in range (0,len(B)):\n",
    "    for j in range (len(B)):\n",
    "        C[j][i]=B[j]\n",
    "        if i>0:\n",
    "            C[j][i-1]=A[j][i-1]\n",
    "        X.append(np.linalg.det(C))\n",
    "print(\"x =\",X[0],\n",
    "      \"y =\",X[1],\n",
    "      \"z =\",X[2])\n",
    "\n",
    "    "
   ]
  },
  {
   "cell_type": "markdown",
   "id": "1eadf147-670b-4a51-ad81-8f15fe7f3c46",
   "metadata": {},
   "source": [
    "<p style=\"text-align: center\"> $\\Large{\\underline{\\textbf{Gauss ELimination Method}}}$ </p> \n",
    "<p style=\"text-align: left\"> $\\large{\\textbf{LAB 7 }}$ </p>\n",
    "<p style=\"text-align: right\"> $\\large{\\textbf{Date: 20-01-2024 }}$ </p>"
   ]
  },
  {
   "cell_type": "markdown",
   "id": "e8f24e05-027f-4d8a-84d4-32115621af6a",
   "metadata": {},
   "source": [
    "**Method**: </br>\n",
    "We have to eventually get an upper triangular matrix. </br>\n",
    "$\\bullet$ Create an Augmented Matrix and with the help of row elimination methods, get the objective"
   ]
  },
  {
   "cell_type": "markdown",
   "id": "f90c1dca-773f-4e00-a6c8-62a29197badb",
   "metadata": {},
   "source": [
    "Question: </br>\n",
    "> $2x+5y = 7$ </br>\n",
    "> $4x+7y = 14$ </br>"
   ]
  },
  {
   "cell_type": "code",
   "execution_count": 1,
   "id": "1e69ccb5-8a9c-46e5-8f47-219eac6ce497",
   "metadata": {},
   "outputs": [],
   "source": [
    "from numpy import *"
   ]
  },
  {
   "cell_type": "code",
   "execution_count": 6,
   "id": "f41c32b7-6be2-4875-a8d5-8fae4c110d3c",
   "metadata": {},
   "outputs": [],
   "source": [
    "def GaussELimination(A,B):\n",
    "    print(f\"The given Matrix is {A}\")\n",
    "    print(f\"The given Matrix is {B}\")\n",
    "    n = len(B)\n",
    "    for k in range(0,n-1):\n",
    "        for i in range(k+1,n):\n",
    "            if A[i,k]!=00.0:\n",
    "                lam = A[i,k]/A[k,k]\n",
    "                A[i,k:n] = A[i,k:n] - lam*A[k,k:n]\n",
    "                B[i] = B[i]-lam*B[k]\n",
    "    for k in range(n-1,-1,-1):\n",
    "        B[k] = (B[k]-dot(A[k,k+1:n],B[k+1:n]))/A[k,k]\n",
    "        \n",
    "    return B        "
   ]
  },
  {
   "cell_type": "code",
   "execution_count": 7,
   "id": "962009ec-09e3-43ee-87fe-201858b49552",
   "metadata": {},
   "outputs": [
    {
     "name": "stdout",
     "output_type": "stream",
     "text": [
      "The given Matrix is [[2 5]\n",
      " [4 7]]\n",
      "The given Matrix is [[ 7]\n",
      " [14]]\n"
     ]
    },
    {
     "data": {
      "text/plain": [
       "matrix([[3],\n",
       "        [0]])"
      ]
     },
     "execution_count": 7,
     "metadata": {},
     "output_type": "execute_result"
    }
   ],
   "source": [
    "A = matrix([[2,5],[4,7]])\n",
    "B = matrix([[7],[14]])\n",
    "GaussELimination(A,B)"
   ]
  },
  {
   "cell_type": "markdown",
   "id": "cd63130f-c9d2-447b-ae18-c318bc93a669",
   "metadata": {},
   "source": [
    ">$2x+y+z = 10$</br>\n",
    ">$5x-9y+3z =5$</br>\n",
    ">$x+4y+9z=16$</br>"
   ]
  },
  {
   "cell_type": "code",
   "execution_count": 8,
   "id": "6b08e2f6-043a-4de5-8757-54c75b1ed53c",
   "metadata": {},
   "outputs": [
    {
     "name": "stdout",
     "output_type": "stream",
     "text": [
      "The given Matrix is [[ 2  1  1]\n",
      " [ 5 -9 10]\n",
      " [ 1  4  9]]\n",
      "The given Matrix is [[10]\n",
      " [ 5]\n",
      " [16]]\n"
     ]
    },
    {
     "data": {
      "text/plain": [
       "matrix([[4],\n",
       "        [1],\n",
       "        [0]])"
      ]
     },
     "execution_count": 8,
     "metadata": {},
     "output_type": "execute_result"
    }
   ],
   "source": [
    "A = matrix([[2,1,1],[5,-9,10],[1,4,9]])\n",
    "B = matrix([[10],[5],[16]])\n",
    "GaussELimination(A,B)"
   ]
  },
  {
   "cell_type": "markdown",
   "id": "aa091a82-d449-4d4d-844f-857877cf429e",
   "metadata": {},
   "source": [
    "<p style=\"text-align: center\"> $\\Large{\\underline{\\textbf{Gauss Jacobi Method}}}$ </p> \n",
    "<p style=\"text-align: left\"> $\\large{\\textbf{LAB 8}}$ </p>\n",
    "<p style=\"text-align: right\"> $\\large{\\textbf{Date: 23-01-2024 }}$ </p>"
   ]
  },
  {
   "cell_type": "markdown",
   "id": "4cf2395a-c540-4993-b931-34e43fc91258",
   "metadata": {},
   "source": [
    "> $20x+y-2z=17$</br>\n",
    "> $3x+20y-z=-18$</br>\n",
    "> $2x-3y+20z=25$</br>"
   ]
  },
  {
   "cell_type": "code",
   "execution_count": 27,
   "id": "880b8e9d-c424-42ec-9db6-96814cdbc7dd",
   "metadata": {},
   "outputs": [
    {
     "name": "stdin",
     "output_type": "stream",
     "text": [
      "Enter the error tolerance:  1e-6\n"
     ]
    },
    {
     "name": "stdout",
     "output_type": "stream",
     "text": [
      "1\t0.8500\t-0.9000\t1.2500\n",
      "\n",
      "2\t1.0200\t-0.9650\t1.0300\n",
      "\n",
      "3\t1.0012\t-1.0015\t1.0032\n",
      "\n",
      "4\t1.0004\t-1.0000\t0.9996\n",
      "\n",
      "5\t1.0000\t-1.0001\t1.0000\n",
      "\n",
      "6\t1.0000\t-1.0000\t1.0000\n",
      "\n",
      "7\t1.0000\t-1.0000\t1.0000\n",
      "\n",
      "Solution: x=1.00000, y=-1.00000 and z=1.00000\n",
      "\n"
     ]
    }
   ],
   "source": [
    "f1 = lambda x,y,z: (17+2*z-y)/20\n",
    "f2 = lambda x,y,z: (-18-3*x+z)/20\n",
    "f3 = lambda x,y,z: (25-2*x+3*y)/20\n",
    "\n",
    "x0,y0,z0 = 0,0,0\n",
    "e = float(input(\"Enter the error tolerance: \"))\n",
    "cond = True \n",
    "No_iter = 1\n",
    "\n",
    "while cond: \n",
    "    x1,y1,z1 = f1(x0,y0,z0),f2(x0,y0,z0),f3(x0,y0,z0)\n",
    "    print('%d\\t%0.4f\\t%0.4f\\t%0.4f\\n' %(No_iter,x1,y1,z1))\n",
    "    \n",
    "    e1,e2,e3 = abs(x1-x0),abs(y1-y0),abs(z1-z0)\n",
    "    x0,y0,z0 = x1,y1,z1\n",
    "    No_iter = No_iter+1\n",
    "    \n",
    "    if No_iter ==10:\n",
    "        break\n",
    "    cond = e1>e and e3>e\n",
    "    \n",
    "print('Solution: x=%0.5f, y=%0.5f and z=%0.5f\\n' %(x1,y1,z1))\n",
    "        "
   ]
  },
  {
   "cell_type": "markdown",
   "id": "311b1091-2c80-4316-9b54-07414e1d2e0c",
   "metadata": {},
   "source": [
    "2. </br>\n",
    "$27x+6y-z=85$</br>\n",
    "$x+y+54z=110$</br>\n",
    "$6x+15y+2z=72$</br>\n",
    "\n",
    "\n",
    "3. </br>\n",
    "$6x+y+z=20$</br\n",
    ">$x+4y-z=6$</br>\n",
    "$x-y+5z=7$</br>\n"
   ]
  },
  {
   "cell_type": "markdown",
   "id": "3c0fa20f-2e6d-493a-b912-c24b69ae7d59",
   "metadata": {},
   "source": [
    "<p style=\"text-align: center\"> $\\Large{\\underline{\\textbf{Gauss -Seidel  Method}}}$ </p> \n",
    "<p style=\"text-align: left\"> $\\large{\\textbf{LAB 9}}$ </p>\n",
    "<p style=\"text-align: right\"> $\\large{\\textbf{Date: 27-01-2024 }}$ </p>"
   ]
  },
  {
   "cell_type": "code",
   "execution_count": 19,
   "id": "38664b43-b0c4-4e08-ae9a-9a10f4c22efb",
   "metadata": {},
   "outputs": [
    {
     "name": "stdin",
     "output_type": "stream",
     "text": [
      "Enter the error tolerance:  1e-6\n"
     ]
    },
    {
     "name": "stdout",
     "output_type": "stream",
     "text": [
      "1\t3.1481\t3.5407\t1.9132\n",
      "\n",
      "2\t2.4322\t3.5720\t1.9258\n",
      "\n",
      "3\t2.4257\t3.5729\t1.9260\n",
      "\n",
      "4\t2.4255\t3.5730\t1.9260\n",
      "\n",
      "5\t2.4255\t3.5730\t1.9260\n",
      "\n",
      "Solution: x=2.42548, y=3.57302 and z=1.92595\n",
      "\n"
     ]
    }
   ],
   "source": [
    "# Defining equations to be solved\n",
    "# in diagonally dominant form\n",
    "f1 = lambda x,y,z: (85-6*y+z)/27\n",
    "f2 = lambda x,y,z: (72-6*x-2*z)/15\n",
    "f3 = lambda x,y,z: (110-1*y-1*x)/54\n",
    "\n",
    "x0,y0,z0 = 0,0,0\n",
    "e = float(input(\"Enter the error tolerance: \"))\n",
    "cond = True \n",
    "No_iter = 1\n",
    "\n",
    "while cond: \n",
    "    x1 = f1(x0,y0,z0)\n",
    "    y1 = f2(x1,y0,z0)\n",
    "    z1 = f3(x1,y1,z0)\n",
    "    print('%d\\t%0.4f\\t%0.4f\\t%0.4f\\n' %(No_iter,x1,y1,z1))\n",
    "    \n",
    "    e1,e2,e3 = abs(x1-x0),abs(y1-y0),abs(z1-z0)\n",
    "    x0,y0,z0 = z1,y1,z1\n",
    "    No_iter = No_iter+1\n",
    "    \n",
    "    if No_iter ==10:\n",
    "        break\n",
    "    cond = e1>e and e3>e\n",
    "    \n",
    "print('Solution: x=%0.5f, y=%0.5f and z=%0.5f\\n' %(x1,y1,z1))\n",
    "        "
   ]
  },
  {
   "cell_type": "markdown",
   "id": "d834c608-a684-4e71-aa14-83072c423334",
   "metadata": {},
   "source": [
    "**Q:** Solve using Gauss Jacobi and Gauss Seidel, comment which method converges faster\n",
    "> $4x+2y+z=14 $</br>\n",
    "> $x+5y-z = 10$ </br>\n",
    "> $x+y+8z = 20$"
   ]
  },
  {
   "cell_type": "code",
   "execution_count": 26,
   "id": "e11d3f07-1e05-4a3c-ab8f-da2257f6d4df",
   "metadata": {},
   "outputs": [
    {
     "name": "stdin",
     "output_type": "stream",
     "text": [
      "Enter the error tolerance:  1e-6\n"
     ]
    },
    {
     "name": "stdout",
     "output_type": "stream",
     "text": [
      "\n",
      "Gauss-Seidel Method\n",
      "\n",
      "1\t3.5000\t1.3000\t1.9000\n",
      "\n",
      "\n",
      "2\t2.3750\t1.1450\t2.0600\n",
      "\n",
      "\n",
      "3\t2.4125\t1.1055\t2.0602\n",
      "\n",
      "\n",
      "4\t2.4322\t1.1015\t2.0583\n",
      "\n",
      "\n",
      "5\t2.4347\t1.1014\t2.0580\n",
      "\n",
      "\n",
      "6\t2.4348\t1.1014\t2.0580\n",
      "\n",
      "\n",
      "7\t2.4348\t1.1014\t2.0580\n",
      "\n",
      "Solution: x=2.43479, y=1.10145 and z=2.05797\n",
      "\n"
     ]
    }
   ],
   "source": [
    "# Defining equations to be solved\n",
    "# in diagonally dominant form\n",
    "f1 = lambda x,y,z: (14-2*y-z)/4\n",
    "f2 = lambda x,y,z: (10-x-z)/5\n",
    "f3 = lambda x,y,z: (20-y-1*x)/8\n",
    "\n",
    "x0,y0,z0 = 0,0,0\n",
    "e = float(input(\"Enter the error tolerance: \"))\n",
    "cond = True \n",
    "No_iter = 1\n",
    "\n",
    "\n",
    "print(\"\\nGauss-Seidel Method\") \n",
    "\n",
    "\n",
    "while cond: \n",
    "    x1 = f1(x0,y0,z0)\n",
    "    y1 = f2(x1,y0,z0)\n",
    "    z1 = f3(x1,y1,z0)\n",
    "    print('\\n%d\\t%0.4f\\t%0.4f\\t%0.4f\\n' %(No_iter,x1,y1,z1))\n",
    "    \n",
    "    e1,e2,e3 = abs(x1-x0),abs(y1-y0),abs(z1-z0)\n",
    "    x0,y0,z0 = z1,y1,z1\n",
    "    No_iter = No_iter+1\n",
    "    \n",
    "    if No_iter ==10:\n",
    "        break\n",
    "    cond = e1>e and e3>e\n",
    "\n",
    "\n",
    "print('Solution: x=%0.5f, y=%0.5f and z=%0.5f\\n' %(x1,y1,z1))\n"
   ]
  },
  {
   "cell_type": "code",
   "execution_count": 29,
   "id": "4fa1c241-ab40-48a8-9d4b-54db877a9374",
   "metadata": {},
   "outputs": [
    {
     "name": "stdin",
     "output_type": "stream",
     "text": [
      "Enter the error tolerance:  1e-6\n"
     ]
    },
    {
     "name": "stdout",
     "output_type": "stream",
     "text": [
      "\n",
      "Gauss-Seidel Method\n",
      "\n",
      "1\t3.5000\t2.0000\t2.5000\n",
      "\n",
      "\n",
      "2\t1.8750\t0.8000\t1.8125\n",
      "\n",
      "\n",
      "3\t2.6469\t1.2625\t2.1656\n",
      "\n",
      "\n",
      "4\t2.3273\t1.0375\t2.0113\n",
      "\n",
      "\n",
      "5\t2.4784\t1.1323\t2.0794\n",
      "\n",
      "\n",
      "6\t2.4140\t1.0884\t2.0487\n",
      "\n",
      "\n",
      "7\t2.4436\t1.1075\t2.0622\n",
      "\n",
      "\n",
      "8\t2.4307\t1.0988\t2.0561\n",
      "\n",
      "\n",
      "9\t2.4366\t1.1026\t2.0588\n",
      "\n",
      "Solution: x=2.43655, y=1.10263 and z=2.05881\n",
      "\n"
     ]
    }
   ],
   "source": [
    "# Defining equations to be solved\n",
    "# in diagonally dominant form\n",
    "f1 = lambda x,y,z: (14-2*y-z)/4\n",
    "f2 = lambda x,y,z: (10-x-z)/5\n",
    "f3 = lambda x,y,z: (20-y-1*x)/8\n",
    "\n",
    "x0,y0,z0 = 0,0,0\n",
    "e = float(input(\"Enter the error tolerance: \"))\n",
    "cond = True \n",
    "No_iter = 1\n",
    "\n",
    "\n",
    "print(\"\\nGauss-Seidel Method\") \n",
    "\n",
    "\n",
    "while cond: \n",
    "    x1 = f1(x0,y0,z0)\n",
    "    y1 = f2(x0,y0,z0)\n",
    "    z1 = f3(x0,y0,z0)\n",
    "    print('\\n%d\\t%0.4f\\t%0.4f\\t%0.4f\\n' %(No_iter,x1,y1,z1))\n",
    "    \n",
    "    e1,e2,e3 = abs(x1-x0),abs(y1-y0),abs(z1-z0)\n",
    "    x0,y0,z0 = x1,y1,z1\n",
    "    No_iter = No_iter+1\n",
    "    \n",
    "    if No_iter ==10:\n",
    "        break\n",
    "    cond = e1>e and e3>e\n",
    "\n",
    "\n",
    "print('Solution: x=%0.5f, y=%0.5f and z=%0.5f\\n' %(x1,y1,z1))\n"
   ]
  },
  {
   "cell_type": "markdown",
   "id": "73fd4bb6-1fe9-46eb-8390-9afbf3b56668",
   "metadata": {},
   "source": [
    " **Note:** Number of iterations in Gauss Jacobi is more, therefore, Gauss -Seidel coverges faster"
   ]
  },
  {
   "cell_type": "markdown",
   "id": "5af0933f-ad1c-4ca3-939a-155e267481a0",
   "metadata": {},
   "source": [
    "> **Ques:** </br>\n",
    "> $x+3y+52z = 173.61$ </br>\n",
    "> $x-27y+2z=71.31$ </br>\n",
    "> $41x-2y+3z=65.46$ </br>"
   ]
  },
  {
   "cell_type": "code",
   "execution_count": 35,
   "id": "7be85001-3834-4771-8718-bd2ddc26a10c",
   "metadata": {},
   "outputs": [
    {
     "name": "stdin",
     "output_type": "stream",
     "text": [
      "Enter the error tolerance:  1e-6\n"
     ]
    },
    {
     "name": "stdout",
     "output_type": "stream",
     "text": [
      "\n",
      "Gauss-Seidel Method\n",
      "\n",
      "1\t1.5966\t-2.5820\t3.4569\n",
      "\n",
      "\n",
      "2\t1.2177\t-2.3399\t3.4502\n",
      "\n",
      "\n",
      "3\t1.2300\t-2.3400\t3.4500\n",
      "\n",
      "\n",
      "4\t1.2300\t-2.3400\t3.4500\n",
      "\n",
      "Solution: x=1.23000, y=-2.34000 and z=3.45000\n",
      "\n"
     ]
    }
   ],
   "source": [
    "# Defining equations to be solved\n",
    "# in diagonally dominant form\n",
    "f1 = lambda x,y,z: (65.46+2*y-3*z)/41\n",
    "f2 = lambda x,y,z: (-1)*(71.31-x-2*z)/27\n",
    "f3 = lambda x,y,z: (173.61-3*y-x)/52 \n",
    "\n",
    "x0,y0,z0 = 0,0,0\n",
    "e = float(input(\"Enter the error tolerance: \"))\n",
    "cond = True \n",
    "No_iter = 1\n",
    "\n",
    "\n",
    "print(\"\\nGauss-Seidel Method\") \n",
    "\n",
    "\n",
    "while cond: \n",
    "    x1 = f1(x0,y0,z0)\n",
    "    y1 = f2(x1,y0,z0)\n",
    "    z1 = f3(x1,y1,z0)\n",
    "    print('\\n%d\\t%0.4f\\t%0.4f\\t%0.4f\\n' %(No_iter,x1,y1,z1))\n",
    "    \n",
    "    e1,e2,e3 = abs(x1-x0),abs(y1-y0),abs(z1-z0)\n",
    "    x0,y0,z0 = x1,y1,z1\n",
    "    No_iter = No_iter+1\n",
    "    \n",
    "    if No_iter ==10:\n",
    "        break\n",
    "    cond = e1>e and e3>e\n",
    "\n",
    "\n",
    "print('Solution: x=%0.5f, y=%0.5f and z=%0.5f\\n' %(x1,y1,z1))\n"
   ]
  }
 ],
 "metadata": {
  "kernelspec": {
   "display_name": "Python 3 (ipykernel)",
   "language": "python",
   "name": "python3"
  },
  "language_info": {
   "codemirror_mode": {
    "name": "ipython",
    "version": 3
   },
   "file_extension": ".py",
   "mimetype": "text/x-python",
   "name": "python",
   "nbconvert_exporter": "python",
   "pygments_lexer": "ipython3",
   "version": "3.9.13"
  },
  "toc-autonumbering": true,
  "toc-showcode": true,
  "toc-showmarkdowntxt": true,
  "toc-showtags": false
 },
 "nbformat": 4,
 "nbformat_minor": 5
}
