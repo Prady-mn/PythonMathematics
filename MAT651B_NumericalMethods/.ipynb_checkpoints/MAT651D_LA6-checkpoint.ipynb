{
 "cells": [
  {
   "cell_type": "markdown",
   "id": "3983bd4e-ce35-4a57-9523-80c18e6cd2db",
   "metadata": {},
   "source": [
    "## LAB 6: Numerical Solution of Differential Equations\n",
    "\n",
    "**Date: 09-03-2024**"
   ]
  },
  {
   "cell_type": "code",
   "execution_count": null,
   "id": "ea8b7ac5-ae5b-4dd6-84d6-c8d897f672b1",
   "metadata": {},
   "outputs": [],
   "source": []
  }
 ],
 "metadata": {
  "kernelspec": {
   "display_name": "Python 3 (ipykernel)",
   "language": "python",
   "name": "python3"
  },
  "language_info": {
   "codemirror_mode": {
    "name": "ipython",
    "version": 3
   },
   "file_extension": ".py",
   "mimetype": "text/x-python",
   "name": "python",
   "nbconvert_exporter": "python",
   "pygments_lexer": "ipython3",
   "version": "3.10.5"
  },
  "widgets": {
   "application/vnd.jupyter.widget-state+json": {
    "state": {},
    "version_major": 2,
    "version_minor": 0
   }
  }
 },
 "nbformat": 4,
 "nbformat_minor": 5
}
