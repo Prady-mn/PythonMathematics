{
 "cells": [
  {
   "cell_type": "markdown",
   "id": "889309d2-edbe-44bd-9ab8-2690ae1eb1d3",
   "metadata": {},
   "source": [
    "## LAB 5: LU Decomposition\n",
    "\n",
    "**Date: 10-02-2024, 10-02-2024**"
   ]
  },
  {
   "cell_type": "code",
   "execution_count": 2,
   "id": "c8e905a9-a0bb-4032-8cde-15a6ec3e19d2",
   "metadata": {},
   "outputs": [],
   "source": [
    "import numpy as np\n",
    "from typing import *"
   ]
  },
  {
   "cell_type": "code",
   "execution_count": 3,
   "id": "b0515f06-52f2-411f-9d61-76accc2a474d",
   "metadata": {},
   "outputs": [],
   "source": [
    "# FROM MAT551_LA2\n",
    "def rowEchelon(A):\n",
    "    mat = A.copy()\n",
    "    for i in range(min(mat.shape)):\n",
    "        row = mat[i,:].A1\n",
    "        if(row[i] == 0):\n",
    "            continue;\n",
    "        row = row/row[i];\n",
    "        mat[i,:] = row\n",
    "        for j in range(i+1,mat.shape[0]):\n",
    "            mat[j,:] = mat[j,:] - (mat[j,i]*row)\n",
    "        #print(mat)\n",
    "    return mat\n",
    "\n",
    "#def redRowEchelon(mat):\n",
    "#    for i in range(min(mat.shape)):\n",
    "#        row = mat[i,:].A1\n",
    "#        if(row[i] == 0):\n",
    "#            continue;\n",
    "#        row = row/row[i];\n",
    "#        mat[i,:] = row\n",
    "#        for j in range(mat.shape[0]):\n",
    "#            if(j==i):\n",
    "#                continue;\n",
    "#            mat[j,:] = mat[j,:] - (mat[j,i]*row)\n",
    "#        #print(mat)\n",
    "#    return mat"
   ]
  },
  {
   "cell_type": "code",
   "execution_count": 23,
   "id": "c2c188f0-7687-40fc-a16f-7768ed36f446",
   "metadata": {},
   "outputs": [],
   "source": [
    "def decompose(A:\"np.matrix\"):\n",
    "    # Assert A is Square Matrix\n",
    "    assert A.shape[0] == A.shape[1]\n",
    "    \n",
    "    n = A.shape[0]\n",
    "    L,U = np.diag([1.00]*len(A)),A.copy();\n",
    "    \n",
    "    for i in range(n):\n",
    "        #row = U[i,:].A1\n",
    "        if(U[i,i] == 0):\n",
    "            continue;\n",
    "        for j in range(i+1,n):\n",
    "            L[j,i] = U[j,i]/U[i,i]\n",
    "            U[j,:] = U[j,:] - U[i,:]*(U[j,i]/U[i,i])    \n",
    "    return np.matrix(L),np.matrix(U),(L*U == A).all()\n",
    "\n",
    "def LUsolve(A:\"np.matrix\",B:\"np.matrix\"):\n",
    "    assert A.shape[0] == B.shape[0]\n",
    "    \n",
    "    L,U,f = decompose(A)\n",
    "    #return np.linalg.solve(U,np.linalg.solve(L,B)) if(f) else False\n",
    "    return U.I*(L.I * B) if(f) else False"
   ]
  },
  {
   "cell_type": "code",
   "execution_count": 24,
   "id": "944cb385-e07e-450f-bee2-51506c0447e3",
   "metadata": {},
   "outputs": [
    {
     "data": {
      "text/plain": [
       "(matrix([[1., 0., 0.],\n",
       "         [4., 1., 0.],\n",
       "         [3., 8., 1.]]),\n",
       " matrix([[ 1.,  1.,  1.],\n",
       "         [ 0., -1., -5.],\n",
       "         [ 0.,  0., 40.]]),\n",
       " True)"
      ]
     },
     "execution_count": 24,
     "metadata": {},
     "output_type": "execute_result"
    }
   ],
   "source": [
    "A = np.matrix([[1,1,1],[4,3,-1],[3,-5,3]], dtype=float)\n",
    "B = np.matrix([1,6,4],dtype=float).T\n",
    "\n",
    "decompose(A)"
   ]
  },
  {
   "cell_type": "code",
   "execution_count": 25,
   "id": "916d6fef-7952-4dd3-9703-0046bdd191f9",
   "metadata": {},
   "outputs": [
    {
     "data": {
      "text/plain": [
       "matrix([[ 1.5  ],\n",
       "        [-0.125],\n",
       "        [-0.375]])"
      ]
     },
     "execution_count": 25,
     "metadata": {},
     "output_type": "execute_result"
    }
   ],
   "source": [
    "LUsolve(A,B)"
   ]
  },
  {
   "cell_type": "code",
   "execution_count": 26,
   "id": "a1be5d8a-a3d1-433f-9b91-b559fe3e4e8d",
   "metadata": {},
   "outputs": [
    {
     "data": {
      "text/plain": [
       "matrix([[ 1.5  ],\n",
       "        [-0.125],\n",
       "        [-0.375]])"
      ]
     },
     "execution_count": 26,
     "metadata": {},
     "output_type": "execute_result"
    }
   ],
   "source": [
    "np.linalg.solve(A,B)"
   ]
  },
  {
   "cell_type": "code",
   "execution_count": 27,
   "id": "5890ccb8-38d6-489e-9313-81dba45972fd",
   "metadata": {},
   "outputs": [
    {
     "data": {
      "text/plain": [
       "matrix([[3.125],\n",
       "        [1.25 ],\n",
       "        [2.   ]])"
      ]
     },
     "execution_count": 27,
     "metadata": {},
     "output_type": "execute_result"
    }
   ],
   "source": [
    "A = np.matrix([[2,-1,-2],[-4,6,3],[-4,-2,8]], dtype= float)\n",
    "#A = np.matrix([[4,3,6],[-1,3,2],[-4,9,7]], dtype= float)\n",
    "B = np.matrix([1,1,1],dtype=float).T\n",
    "\n",
    "LUsolve(A,B)"
   ]
  },
  {
   "cell_type": "code",
   "execution_count": 28,
   "id": "53629100-31b7-4827-96ec-4a7285b43028",
   "metadata": {},
   "outputs": [
    {
     "data": {
      "text/plain": [
       "matrix([[3.125],\n",
       "        [1.25 ],\n",
       "        [2.   ]])"
      ]
     },
     "execution_count": 28,
     "metadata": {},
     "output_type": "execute_result"
    }
   ],
   "source": [
    "np.linalg.solve(A,B)"
   ]
  },
  {
   "cell_type": "markdown",
   "id": "706f8046-a4d5-4296-94ff-a53c9bb980cf",
   "metadata": {},
   "source": [
    "**Date: 19-02-24**"
   ]
  },
  {
   "cell_type": "markdown",
   "id": "2dd59564-078e-4acb-aaf5-017143efc587",
   "metadata": {},
   "source": [
    "> WAP to solve the following system of equations using LU decomposition.<br>\n",
    "> $\\quad  2x - y - 2z = 9$<br>\n",
    "> $\\quad -4x + 6y + 3z = 8$<br>\n",
    "> $\\quad -4x - 2y + 8z = 10$"
   ]
  },
  {
   "cell_type": "code",
   "execution_count": 29,
   "id": "e9f80d1e-f7de-4e18-ac9a-040b83ccc9ad",
   "metadata": {},
   "outputs": [
    {
     "data": {
      "text/plain": [
       "matrix([[28.],\n",
       "        [11.],\n",
       "        [18.]])"
      ]
     },
     "execution_count": 29,
     "metadata": {},
     "output_type": "execute_result"
    }
   ],
   "source": [
    "A = np.matrix([[2,-1,-2],[-4,6,3],[-4,-2,8]], dtype= float)\n",
    "B = np.matrix([9,8,10],dtype=float).T\n",
    "\n",
    "LUsolve(A,B)"
   ]
  },
  {
   "cell_type": "code",
   "execution_count": 30,
   "id": "f67b9f19-90a5-46b0-bc17-1bebabc16379",
   "metadata": {},
   "outputs": [
    {
     "data": {
      "text/plain": [
       "matrix([[28.],\n",
       "        [11.],\n",
       "        [18.]])"
      ]
     },
     "execution_count": 30,
     "metadata": {},
     "output_type": "execute_result"
    }
   ],
   "source": [
    "np.linalg.solve(A,B)"
   ]
  },
  {
   "cell_type": "code",
   "execution_count": null,
   "id": "5449f9dd-5405-4ce4-a5e5-be4f7c832235",
   "metadata": {},
   "outputs": [],
   "source": []
  }
 ],
 "metadata": {
  "kernelspec": {
   "display_name": "Python 3 (ipykernel)",
   "language": "python",
   "name": "python3"
  },
  "language_info": {
   "codemirror_mode": {
    "name": "ipython",
    "version": 3
   },
   "file_extension": ".py",
   "mimetype": "text/x-python",
   "name": "python",
   "nbconvert_exporter": "python",
   "pygments_lexer": "ipython3",
   "version": "3.10.5"
  },
  "widgets": {
   "application/vnd.jupyter.widget-state+json": {
    "state": {},
    "version_major": 2,
    "version_minor": 0
   }
  }
 },
 "nbformat": 4,
 "nbformat_minor": 5
}
