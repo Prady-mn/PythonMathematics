{
 "cells": [
  {
   "cell_type": "markdown",
   "id": "3983bd4e-ce35-4a57-9523-80c18e6cd2db",
   "metadata": {},
   "source": [
    "## LAB 6: Numerical Solution of Differential Equations\n",
    "\n",
    "**Date: 09-03-2024**"
   ]
  },
  {
   "cell_type": "code",
   "execution_count": 2,
   "id": "ea8b7ac5-ae5b-4dd6-84d6-c8d897f672b1",
   "metadata": {},
   "outputs": [],
   "source": [
    "import numpy as np\n",
    "import sympy as sp"
   ]
  },
  {
   "cell_type": "markdown",
   "id": "22ecf8b3-0cff-406b-81b8-09ba0e269527",
   "metadata": {},
   "source": [
    "**Date: 19-03-24**"
   ]
  },
  {
   "cell_type": "markdown",
   "id": "c91b9ab3-ff37-41c2-b23d-d7651eb032c8",
   "metadata": {},
   "source": [
    "**Euler's Method**"
   ]
  },
  {
   "cell_type": "code",
   "execution_count": null,
   "id": "525db424-d1d0-4bb2-86e7-abe339549373",
   "metadata": {},
   "outputs": [],
   "source": [
    "def euler(x0,y,h,x):\n",
    "    while(x0,x):\n",
    "        "
   ]
  },
  {
   "cell_type": "code",
   "execution_count": null,
   "id": "503ab7c5-ac01-455e-a580-399bc11db064",
   "metadata": {},
   "outputs": [],
   "source": []
  },
  {
   "cell_type": "code",
   "execution_count": null,
   "id": "282003b2-2045-4f11-a75a-c2952507ad71",
   "metadata": {},
   "outputs": [],
   "source": []
  },
  {
   "cell_type": "markdown",
   "id": "fc5deb9a-783b-4b03-b5b0-d17675d3f51b",
   "metadata": {},
   "source": [
    "**Runge - Kutta Method**"
   ]
  },
  {
   "cell_type": "code",
   "execution_count": null,
   "id": "7188c659-3b6e-4deb-8a85-5dfef28b365e",
   "metadata": {},
   "outputs": [],
   "source": []
  }
 ],
 "metadata": {
  "kernelspec": {
   "display_name": "Python 3 (ipykernel)",
   "language": "python",
   "name": "python3"
  },
  "language_info": {
   "codemirror_mode": {
    "name": "ipython",
    "version": 3
   },
   "file_extension": ".py",
   "mimetype": "text/x-python",
   "name": "python",
   "nbconvert_exporter": "python",
   "pygments_lexer": "ipython3",
   "version": "3.10.5"
  },
  "widgets": {
   "application/vnd.jupyter.widget-state+json": {
    "state": {},
    "version_major": 2,
    "version_minor": 0
   }
  }
 },
 "nbformat": 4,
 "nbformat_minor": 5
}
